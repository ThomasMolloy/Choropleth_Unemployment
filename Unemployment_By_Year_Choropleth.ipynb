{
 "cells": [
  {
   "cell_type": "code",
   "execution_count": 7,
   "metadata": {},
   "outputs": [],
   "source": [
    "import pandas as pd\n",
    "import os"
   ]
  },
  {
   "cell_type": "code",
   "execution_count": 8,
   "metadata": {},
   "outputs": [],
   "source": [
    "def obtain_data():\n",
    "    file_list = []\n",
    "    directory = \"datasets\"\n",
    "    for entry in os.scandir(directory):\n",
    "        if entry.path.endswith(\".xlsx\"):\n",
    "            file_list.append(entry.path)\n",
    "    return file_list\n",
    "\n",
    "file_list = obtain_data()"
   ]
  },
  {
   "cell_type": "code",
   "execution_count": 9,
   "metadata": {},
   "outputs": [],
   "source": [
    "def format_data(df, s_a_c_df):\n",
    "    statename = df.iloc[6][1]\n",
    "    state_code = s_a_c_df.loc[s_a_c_df['State'] == statename].iloc[0][2]\n",
    "    df = df.rename(df.iloc[10], axis='columns')\n",
    "    df = df[11:]\n",
    "    df.reset_index(drop=True)\n",
    "    df = df.astype(str).astype(float)\n",
    "    df['Year'] = df['Year'].astype(int)\n",
    "    df[\"StateCode\"] = state_code\n",
    "    return df\n",
    "\n",
    "def read_data(file_list):\n",
    "    s_a_c_df = pd.read_csv(\"datasets/state_abbreviation_code.csv\")\n",
    "    main_df = pd.DataFrame(columns=['Year','Jan','Feb','Mar','Apr','May','Jun','Jul','Aug','Sep','Oct','Nov','Dec','Annual'])\n",
    "    for file in file_list:\n",
    "            temp_df = pd.read_excel(file)\n",
    "            temp_df = format_data(temp_df, s_a_c_df)\n",
    "            main_df = main_df.append(temp_df, ignore_index=True)\n",
    "        \n",
    "    return main_df\n",
    "\n",
    "def remove_2020(df):\n",
    "    df = df[df['Year'] != 2020]\n",
    "    return df\n",
    "\n",
    "sta_unem_df = read_data(file_list)\n",
    "sta_unem_df_no_2020 = remove_2020(sta_unem_df)"
   ]
  },
  {
   "cell_type": "code",
   "execution_count": 13,
   "metadata": {},
   "outputs": [
    {
     "data": {
      "application/vnd.plotly.v1+json": {
       "config": {
        "plotlyServerURL": "https://plot.ly"
       },
       "data": [
        {
         "coloraxis": "coloraxis",
         "geo": "geo",
         "hovertemplate": "Year=1976<br>StateCode=%{location}<br>Unemployment Rate (%)=%{z}<extra></extra>",
         "locationmode": "USA-states",
         "locations": [
          "DC",
          "PA",
          "DE",
          "UT",
          "VA",
          "WI",
          "NV",
          "IL",
          "ME",
          "MN",
          "TN",
          "NE",
          "NJ",
          "HI",
          "MD",
          "OH",
          "NH",
          "AZ",
          "OR",
          "NC",
          "ID",
          "NM",
          "TX",
          "WV",
          "AK",
          "WA",
          "SC",
          "CO",
          "MT",
          "KS",
          "OK",
          "WY",
          "GA",
          "VT",
          "LA",
          "ND",
          "IA",
          "FL",
          "MS",
          "NY",
          "KY",
          "IN",
          "AL",
          "AR",
          "CT",
          "SD",
          "MA",
          "MO",
          "RI",
          "MI",
          "CA"
         ],
         "name": "",
         "type": "choropleth",
         "z": [
          9,
          8,
          8.8,
          5.6,
          5.9,
          5.5,
          8.8,
          6.6,
          8.7,
          5.8,
          6.1,
          3.2,
          10.4,
          9.4,
          6.6,
          7.8,
          6.5,
          9.7,
          9.4,
          6.3,
          5.6,
          8.9,
          5.8,
          7.3,
          7.6,
          8.9,
          7.2,
          5.8,
          6,
          4.2,
          5.7,
          4,
          8.2,
          8.3,
          6.7,
          3.7,
          4,
          9.2,
          6.6,
          10.2,
          5.4,
          6.1,
          6.8,
          7,
          9.3,
          3.3,
          9.6,
          6.2,
          8.2,
          9.4,
          9.1
         ]
        }
       ],
       "frames": [
        {
         "data": [
          {
           "coloraxis": "coloraxis",
           "geo": "geo",
           "hovertemplate": "Year=1976<br>StateCode=%{location}<br>Unemployment Rate (%)=%{z}<extra></extra>",
           "locationmode": "USA-states",
           "locations": [
            "DC",
            "PA",
            "DE",
            "UT",
            "VA",
            "WI",
            "NV",
            "IL",
            "ME",
            "MN",
            "TN",
            "NE",
            "NJ",
            "HI",
            "MD",
            "OH",
            "NH",
            "AZ",
            "OR",
            "NC",
            "ID",
            "NM",
            "TX",
            "WV",
            "AK",
            "WA",
            "SC",
            "CO",
            "MT",
            "KS",
            "OK",
            "WY",
            "GA",
            "VT",
            "LA",
            "ND",
            "IA",
            "FL",
            "MS",
            "NY",
            "KY",
            "IN",
            "AL",
            "AR",
            "CT",
            "SD",
            "MA",
            "MO",
            "RI",
            "MI",
            "CA"
           ],
           "name": "",
           "type": "choropleth",
           "z": [
            9,
            8,
            8.8,
            5.6,
            5.9,
            5.5,
            8.8,
            6.6,
            8.7,
            5.8,
            6.1,
            3.2,
            10.4,
            9.4,
            6.6,
            7.8,
            6.5,
            9.7,
            9.4,
            6.3,
            5.6,
            8.9,
            5.8,
            7.3,
            7.6,
            8.9,
            7.2,
            5.8,
            6,
            4.2,
            5.7,
            4,
            8.2,
            8.3,
            6.7,
            3.7,
            4,
            9.2,
            6.6,
            10.2,
            5.4,
            6.1,
            6.8,
            7,
            9.3,
            3.3,
            9.6,
            6.2,
            8.2,
            9.4,
            9.1
           ]
          }
         ],
         "name": "1976"
        },
        {
         "data": [
          {
           "coloraxis": "coloraxis",
           "geo": "geo",
           "hovertemplate": "Year=1977<br>StateCode=%{location}<br>Unemployment Rate (%)=%{z}<extra></extra>",
           "locationmode": "USA-states",
           "locations": [
            "DC",
            "PA",
            "DE",
            "UT",
            "VA",
            "WI",
            "NV",
            "IL",
            "ME",
            "MN",
            "TN",
            "NE",
            "NJ",
            "HI",
            "MD",
            "OH",
            "NH",
            "AZ",
            "OR",
            "NC",
            "ID",
            "NM",
            "TX",
            "WV",
            "AK",
            "WA",
            "SC",
            "CO",
            "MT",
            "KS",
            "OK",
            "WY",
            "GA",
            "VT",
            "LA",
            "ND",
            "IA",
            "FL",
            "MS",
            "NY",
            "KY",
            "IN",
            "AL",
            "AR",
            "CT",
            "SD",
            "MA",
            "MO",
            "RI",
            "MI",
            "CA"
           ],
           "name": "",
           "type": "choropleth",
           "z": [
            9.2,
            7.7,
            8.5,
            5.1,
            5.5,
            5.1,
            6.7,
            6.2,
            8.3,
            5.3,
            6.2,
            3.4,
            9.4,
            7.9,
            6.3,
            6.5,
            5.4,
            8.2,
            7.4,
            5.9,
            5.8,
            7.6,
            5.3,
            6.9,
            9.9,
            8.5,
            6.9,
            6.4,
            6.3,
            3.9,
            4.9,
            3.4,
            6.9,
            7,
            7.1,
            4.5,
            3.9,
            8.2,
            7.3,
            9.1,
            4.8,
            5.8,
            7.3,
            6.5,
            7,
            3.3,
            7.8,
            6,
            8,
            8.2,
            8.3
           ]
          }
         ],
         "name": "1977"
        },
        {
         "data": [
          {
           "coloraxis": "coloraxis",
           "geo": "geo",
           "hovertemplate": "Year=1978<br>StateCode=%{location}<br>Unemployment Rate (%)=%{z}<extra></extra>",
           "locationmode": "USA-states",
           "locations": [
            "DC",
            "PA",
            "DE",
            "UT",
            "VA",
            "WI",
            "NV",
            "IL",
            "ME",
            "MN",
            "TN",
            "NE",
            "NJ",
            "HI",
            "MD",
            "OH",
            "NH",
            "AZ",
            "OR",
            "NC",
            "ID",
            "NM",
            "TX",
            "WV",
            "AK",
            "WA",
            "SC",
            "CO",
            "MT",
            "KS",
            "OK",
            "WY",
            "GA",
            "VT",
            "LA",
            "ND",
            "IA",
            "FL",
            "MS",
            "NY",
            "KY",
            "IN",
            "AL",
            "AR",
            "CT",
            "SD",
            "MA",
            "MO",
            "RI",
            "MI",
            "CA"
           ],
           "name": "",
           "type": "choropleth",
           "z": [
            8.3,
            6.9,
            7.4,
            3.8,
            5.3,
            5,
            4.5,
            6,
            6.4,
            3.9,
            5.8,
            3.1,
            7.3,
            7.1,
            5.5,
            5.5,
            3.8,
            6,
            6,
            4.5,
            5.4,
            5.9,
            4.8,
            6.2,
            10.6,
            6.9,
            5.7,
            5.5,
            5.7,
            3.1,
            3.6,
            3,
            5.7,
            5.6,
            6.8,
            4.3,
            3.9,
            6.7,
            6.9,
            7.8,
            5.1,
            5.6,
            6.4,
            6.2,
            5.2,
            3.1,
            6.2,
            4.9,
            6.6,
            7,
            7.2
           ]
          }
         ],
         "name": "1978"
        },
        {
         "data": [
          {
           "coloraxis": "coloraxis",
           "geo": "geo",
           "hovertemplate": "Year=1979<br>StateCode=%{location}<br>Unemployment Rate (%)=%{z}<extra></extra>",
           "locationmode": "USA-states",
           "locations": [
            "DC",
            "PA",
            "DE",
            "UT",
            "VA",
            "WI",
            "NV",
            "IL",
            "ME",
            "MN",
            "TN",
            "NE",
            "NJ",
            "HI",
            "MD",
            "OH",
            "NH",
            "AZ",
            "OR",
            "NC",
            "ID",
            "NM",
            "TX",
            "WV",
            "AK",
            "WA",
            "SC",
            "CO",
            "MT",
            "KS",
            "OK",
            "WY",
            "GA",
            "VT",
            "LA",
            "ND",
            "IA",
            "FL",
            "MS",
            "NY",
            "KY",
            "IN",
            "AL",
            "AR",
            "CT",
            "SD",
            "MA",
            "MO",
            "RI",
            "MI",
            "CA"
           ],
           "name": "",
           "type": "choropleth",
           "z": [
            7,
            6.9,
            7.2,
            4.3,
            4.7,
            4.6,
            4.9,
            5.5,
            6.8,
            4.2,
            5.8,
            3,
            6.9,
            6.1,
            5.8,
            5.8,
            3.2,
            5.1,
            6.7,
            4.8,
            5.8,
            6.4,
            4.3,
            6.9,
            9.3,
            6.6,
            5,
            4.7,
            5.2,
            3.2,
            3.4,
            2.7,
            5.1,
            5.1,
            6.6,
            4,
            4.2,
            5.9,
            5.7,
            7.2,
            5.5,
            6.5,
            7.2,
            6.2,
            5.1,
            3.4,
            5.5,
            4.8,
            6.4,
            7.8,
            6.2
           ]
          }
         ],
         "name": "1979"
        },
        {
         "data": [
          {
           "coloraxis": "coloraxis",
           "geo": "geo",
           "hovertemplate": "Year=1980<br>StateCode=%{location}<br>Unemployment Rate (%)=%{z}<extra></extra>",
           "locationmode": "USA-states",
           "locations": [
            "DC",
            "PA",
            "DE",
            "UT",
            "VA",
            "WI",
            "NV",
            "IL",
            "ME",
            "MN",
            "TN",
            "NE",
            "NJ",
            "HI",
            "MD",
            "OH",
            "NH",
            "AZ",
            "OR",
            "NC",
            "ID",
            "NM",
            "TX",
            "WV",
            "AK",
            "WA",
            "SC",
            "CO",
            "MT",
            "KS",
            "OK",
            "WY",
            "GA",
            "VT",
            "LA",
            "ND",
            "IA",
            "FL",
            "MS",
            "NY",
            "KY",
            "IN",
            "AL",
            "AR",
            "CT",
            "SD",
            "MA",
            "MO",
            "RI",
            "MI",
            "CA"
           ],
           "name": "",
           "type": "choropleth",
           "z": [
            7.4,
            8,
            7.6,
            6.2,
            5.2,
            7.2,
            6.2,
            8.2,
            7.6,
            5.8,
            7.4,
            3.9,
            7.2,
            5,
            6.6,
            8.4,
            4.5,
            6.6,
            8.5,
            6.4,
            7.5,
            7.6,
            5.1,
            9.5,
            9.6,
            8.1,
            6.7,
            5.8,
            6.1,
            4.4,
            4.4,
            3.9,
            6.3,
            6.2,
            6.9,
            4.9,
            6,
            6.1,
            7.4,
            7.5,
            8,
            9.6,
            8.9,
            7.6,
            5.8,
            4.8,
            5.6,
            7.2,
            7.2,
            12.3,
            6.8
           ]
          }
         ],
         "name": "1980"
        },
        {
         "data": [
          {
           "coloraxis": "coloraxis",
           "geo": "geo",
           "hovertemplate": "Year=1981<br>StateCode=%{location}<br>Unemployment Rate (%)=%{z}<extra></extra>",
           "locationmode": "USA-states",
           "locations": [
            "DC",
            "PA",
            "DE",
            "UT",
            "VA",
            "WI",
            "NV",
            "IL",
            "ME",
            "MN",
            "TN",
            "NE",
            "NJ",
            "HI",
            "MD",
            "OH",
            "NH",
            "AZ",
            "OR",
            "NC",
            "ID",
            "NM",
            "TX",
            "WV",
            "AK",
            "WA",
            "SC",
            "CO",
            "MT",
            "KS",
            "OK",
            "WY",
            "GA",
            "VT",
            "LA",
            "ND",
            "IA",
            "FL",
            "MS",
            "NY",
            "KY",
            "IN",
            "AL",
            "AR",
            "CT",
            "SD",
            "MA",
            "MO",
            "RI",
            "MI",
            "CA"
           ],
           "name": "",
           "type": "choropleth",
           "z": [
            8.9,
            8.4,
            7.8,
            6.6,
            6,
            8,
            7.2,
            8.5,
            7.4,
            5.8,
            9,
            4.2,
            7.4,
            5.4,
            7.3,
            9.4,
            5.2,
            6.2,
            9.8,
            6.5,
            7.7,
            7.3,
            5.3,
            10.6,
            9.4,
            9.6,
            8.1,
            5.7,
            6.8,
            4.3,
            3.6,
            4.1,
            6.4,
            5.8,
            8.4,
            4.8,
            6.6,
            6.7,
            8.5,
            7.6,
            8.6,
            9.9,
            10.6,
            8.7,
            6.2,
            5,
            6.5,
            7.6,
            7.8,
            12.4,
            7.4
           ]
          }
         ],
         "name": "1981"
        },
        {
         "data": [
          {
           "coloraxis": "coloraxis",
           "geo": "geo",
           "hovertemplate": "Year=1982<br>StateCode=%{location}<br>Unemployment Rate (%)=%{z}<extra></extra>",
           "locationmode": "USA-states",
           "locations": [
            "DC",
            "PA",
            "DE",
            "UT",
            "VA",
            "WI",
            "NV",
            "IL",
            "ME",
            "MN",
            "TN",
            "NE",
            "NJ",
            "HI",
            "MD",
            "OH",
            "NH",
            "AZ",
            "OR",
            "NC",
            "ID",
            "NM",
            "TX",
            "WV",
            "AK",
            "WA",
            "SC",
            "CO",
            "MT",
            "KS",
            "OK",
            "WY",
            "GA",
            "VT",
            "LA",
            "ND",
            "IA",
            "FL",
            "MS",
            "NY",
            "KY",
            "IN",
            "AL",
            "AR",
            "CT",
            "SD",
            "MA",
            "MO",
            "RI",
            "MI",
            "CA"
           ],
           "name": "",
           "type": "choropleth",
           "z": [
            10.4,
            11.2,
            8.4,
            8.2,
            7.4,
            10.5,
            9.9,
            11.4,
            8.4,
            7.9,
            11.7,
            5.6,
            8.7,
            6.3,
            8.3,
            12.7,
            6.8,
            10.1,
            11.5,
            9.2,
            9.9,
            9.2,
            6.9,
            14,
            9.9,
            11.9,
            11.1,
            7.3,
            8.5,
            6.3,
            6,
            6.2,
            7.8,
            7,
            10.3,
            5.6,
            8.5,
            8.4,
            11.1,
            8.5,
            10.8,
            12,
            14.1,
            9.9,
            6.9,
            5.5,
            7.7,
            9.2,
            9.7,
            15.4,
            10
           ]
          }
         ],
         "name": "1982"
        },
        {
         "data": [
          {
           "coloraxis": "coloraxis",
           "geo": "geo",
           "hovertemplate": "Year=1983<br>StateCode=%{location}<br>Unemployment Rate (%)=%{z}<extra></extra>",
           "locationmode": "USA-states",
           "locations": [
            "DC",
            "PA",
            "DE",
            "UT",
            "VA",
            "WI",
            "NV",
            "IL",
            "ME",
            "MN",
            "TN",
            "NE",
            "NJ",
            "HI",
            "MD",
            "OH",
            "NH",
            "AZ",
            "OR",
            "NC",
            "ID",
            "NM",
            "TX",
            "WV",
            "AK",
            "WA",
            "SC",
            "CO",
            "MT",
            "KS",
            "OK",
            "WY",
            "GA",
            "VT",
            "LA",
            "ND",
            "IA",
            "FL",
            "MS",
            "NY",
            "KY",
            "IN",
            "AL",
            "AR",
            "CT",
            "SD",
            "MA",
            "MO",
            "RI",
            "MI",
            "CA"
           ],
           "name": "",
           "type": "choropleth",
           "z": [
            11.2,
            11.5,
            7.7,
            8.7,
            6.4,
            10.2,
            9.6,
            11.8,
            8.3,
            8,
            11.5,
            5.6,
            8,
            6.2,
            7,
            12.4,
            5.5,
            8.8,
            10.8,
            9,
            8.9,
            9.7,
            7.9,
            17.8,
            9.9,
            11.1,
            9.9,
            7.1,
            8.6,
            5.9,
            8.4,
            8.2,
            7.7,
            6.4,
            11.5,
            5.7,
            8.1,
            8.5,
            12.1,
            8.7,
            11.4,
            11.2,
            13.8,
            9.9,
            6,
            5.2,
            6.8,
            9.9,
            8.3,
            14.4,
            9.8
           ]
          }
         ],
         "name": "1983"
        },
        {
         "data": [
          {
           "coloraxis": "coloraxis",
           "geo": "geo",
           "hovertemplate": "Year=1984<br>StateCode=%{location}<br>Unemployment Rate (%)=%{z}<extra></extra>",
           "locationmode": "USA-states",
           "locations": [
            "DC",
            "PA",
            "DE",
            "UT",
            "VA",
            "WI",
            "NV",
            "IL",
            "ME",
            "MN",
            "TN",
            "NE",
            "NJ",
            "HI",
            "MD",
            "OH",
            "NH",
            "AZ",
            "OR",
            "NC",
            "ID",
            "NM",
            "TX",
            "WV",
            "AK",
            "WA",
            "SC",
            "CO",
            "MT",
            "KS",
            "OK",
            "WY",
            "GA",
            "VT",
            "LA",
            "ND",
            "IA",
            "FL",
            "MS",
            "NY",
            "KY",
            "IN",
            "AL",
            "AR",
            "CT",
            "SD",
            "MA",
            "MO",
            "RI",
            "MI",
            "CA"
           ],
           "name": "",
           "type": "choropleth",
           "z": [
            9.1,
            9.1,
            6.3,
            6.5,
            5.1,
            7.4,
            7.9,
            9,
            6.2,
            6.3,
            8.5,
            4.5,
            6.2,
            5.7,
            5.4,
            9.5,
            4.3,
            5.2,
            9.4,
            6.7,
            7.3,
            7.8,
            6.1,
            14.8,
            9.8,
            9.3,
            6.9,
            5.4,
            7.6,
            4.9,
            7.1,
            6.3,
            6.1,
            5.1,
            10.1,
            5.3,
            7,
            6.4,
            10.5,
            7.2,
            9.3,
            8.6,
            11,
            8.7,
            4.7,
            4.4,
            4.8,
            7.2,
            5.5,
            11.2,
            7.8
           ]
          }
         ],
         "name": "1984"
        },
        {
         "data": [
          {
           "coloraxis": "coloraxis",
           "geo": "geo",
           "hovertemplate": "Year=1985<br>StateCode=%{location}<br>Unemployment Rate (%)=%{z}<extra></extra>",
           "locationmode": "USA-states",
           "locations": [
            "DC",
            "PA",
            "DE",
            "UT",
            "VA",
            "WI",
            "NV",
            "IL",
            "ME",
            "MN",
            "TN",
            "NE",
            "NJ",
            "HI",
            "MD",
            "OH",
            "NH",
            "AZ",
            "OR",
            "NC",
            "ID",
            "NM",
            "TX",
            "WV",
            "AK",
            "WA",
            "SC",
            "CO",
            "MT",
            "KS",
            "OK",
            "WY",
            "GA",
            "VT",
            "LA",
            "ND",
            "IA",
            "FL",
            "MS",
            "NY",
            "KY",
            "IN",
            "AL",
            "AR",
            "CT",
            "SD",
            "MA",
            "MO",
            "RI",
            "MI",
            "CA"
           ],
           "name": "",
           "type": "choropleth",
           "z": [
            8.1,
            8,
            5.1,
            6,
            5.5,
            7.2,
            7.7,
            9.1,
            5.5,
            6,
            7.9,
            5.2,
            5.6,
            5.4,
            4.6,
            8.9,
            3.7,
            6.3,
            8.8,
            5.6,
            7.9,
            8.3,
            7,
            13.1,
            9.7,
            8.4,
            6.9,
            6.1,
            7.7,
            5.1,
            7.2,
            6.9,
            6.4,
            4.8,
            11.6,
            5.7,
            7.5,
            6,
            10.4,
            6.6,
            9.2,
            7.8,
            9.2,
            8.7,
            4.7,
            4.8,
            4,
            6.5,
            4.6,
            10,
            7.2
           ]
          }
         ],
         "name": "1985"
        },
        {
         "data": [
          {
           "coloraxis": "coloraxis",
           "geo": "geo",
           "hovertemplate": "Year=1986<br>StateCode=%{location}<br>Unemployment Rate (%)=%{z}<extra></extra>",
           "locationmode": "USA-states",
           "locations": [
            "DC",
            "PA",
            "DE",
            "UT",
            "VA",
            "WI",
            "NV",
            "IL",
            "ME",
            "MN",
            "TN",
            "NE",
            "NJ",
            "HI",
            "MD",
            "OH",
            "NH",
            "AZ",
            "OR",
            "NC",
            "ID",
            "NM",
            "TX",
            "WV",
            "AK",
            "WA",
            "SC",
            "CO",
            "MT",
            "KS",
            "OK",
            "WY",
            "GA",
            "VT",
            "LA",
            "ND",
            "IA",
            "FL",
            "MS",
            "NY",
            "KY",
            "IN",
            "AL",
            "AR",
            "CT",
            "SD",
            "MA",
            "MO",
            "RI",
            "MI",
            "CA"
           ],
           "name": "",
           "type": "choropleth",
           "z": [
            7.5,
            6.9,
            4.3,
            6.1,
            5,
            7,
            6.2,
            8.3,
            5.3,
            5.5,
            7.9,
            5,
            5,
            4.8,
            4.6,
            8.3,
            2.8,
            6.9,
            8,
            5.3,
            8.4,
            9.3,
            8.8,
            11.8,
            10.9,
            8.1,
            6.4,
            7.5,
            7.9,
            5.3,
            8.2,
            8.9,
            6,
            4.3,
            12.8,
            5.9,
            6.8,
            5.8,
            11.4,
            6.2,
            9.4,
            6.9,
            9.7,
            8.6,
            3.8,
            4.6,
            3.9,
            6.2,
            4.1,
            8.8,
            6.7
           ]
          }
         ],
         "name": "1986"
        },
        {
         "data": [
          {
           "coloraxis": "coloraxis",
           "geo": "geo",
           "hovertemplate": "Year=1987<br>StateCode=%{location}<br>Unemployment Rate (%)=%{z}<extra></extra>",
           "locationmode": "USA-states",
           "locations": [
            "DC",
            "PA",
            "DE",
            "UT",
            "VA",
            "WI",
            "NV",
            "IL",
            "ME",
            "MN",
            "TN",
            "NE",
            "NJ",
            "HI",
            "MD",
            "OH",
            "NH",
            "AZ",
            "OR",
            "NC",
            "ID",
            "NM",
            "TX",
            "WV",
            "AK",
            "WA",
            "SC",
            "CO",
            "MT",
            "KS",
            "OK",
            "WY",
            "GA",
            "VT",
            "LA",
            "ND",
            "IA",
            "FL",
            "MS",
            "NY",
            "KY",
            "IN",
            "AL",
            "AR",
            "CT",
            "SD",
            "MA",
            "MO",
            "RI",
            "MI",
            "CA"
           ],
           "name": "",
           "type": "choropleth",
           "z": [
            6.3,
            5.6,
            3.1,
            6.2,
            4.3,
            5.9,
            6.1,
            7.4,
            4.4,
            5.1,
            6.6,
            4.4,
            4.1,
            3.8,
            4.4,
            7.1,
            2.3,
            6.5,
            6.3,
            4.5,
            7.6,
            8.7,
            8.4,
            10.8,
            10.3,
            7.3,
            5.5,
            7.5,
            7.4,
            4.8,
            7.3,
            8,
            5.7,
            3.6,
            12.1,
            5,
            5.5,
            5.3,
            10,
            4.9,
            8.5,
            6.2,
            8.1,
            8.1,
            3.4,
            4.2,
            3.2,
            6.3,
            3.6,
            8.3,
            5.8
           ]
          }
         ],
         "name": "1987"
        },
        {
         "data": [
          {
           "coloraxis": "coloraxis",
           "geo": "geo",
           "hovertemplate": "Year=1988<br>StateCode=%{location}<br>Unemployment Rate (%)=%{z}<extra></extra>",
           "locationmode": "USA-states",
           "locations": [
            "DC",
            "PA",
            "DE",
            "UT",
            "VA",
            "WI",
            "NV",
            "IL",
            "ME",
            "MN",
            "TN",
            "NE",
            "NJ",
            "HI",
            "MD",
            "OH",
            "NH",
            "AZ",
            "OR",
            "NC",
            "ID",
            "NM",
            "TX",
            "WV",
            "AK",
            "WA",
            "SC",
            "CO",
            "MT",
            "KS",
            "OK",
            "WY",
            "GA",
            "VT",
            "LA",
            "ND",
            "IA",
            "FL",
            "MS",
            "NY",
            "KY",
            "IN",
            "AL",
            "AR",
            "CT",
            "SD",
            "MA",
            "MO",
            "RI",
            "MI",
            "CA"
           ],
           "name": "",
           "type": "choropleth",
           "z": [
            5,
            5,
            3.1,
            5,
            3.9,
            4.4,
            5.2,
            6.7,
            3.6,
            4.3,
            5.8,
            3.6,
            3.8,
            3.2,
            4.3,
            6,
            2.4,
            6.4,
            5.8,
            3.6,
            6,
            7.5,
            7.3,
            9.8,
            8.8,
            6.3,
            4.7,
            6.5,
            6.6,
            4.5,
            6.4,
            6.5,
            5.7,
            3,
            10.8,
            4.7,
            4.5,
            5.1,
            8.4,
            4.3,
            7.6,
            5.2,
            7.2,
            7.6,
            3,
            4.1,
            3.3,
            5.7,
            3.1,
            7.5,
            5.3
           ]
          }
         ],
         "name": "1988"
        },
        {
         "data": [
          {
           "coloraxis": "coloraxis",
           "geo": "geo",
           "hovertemplate": "Year=1989<br>StateCode=%{location}<br>Unemployment Rate (%)=%{z}<extra></extra>",
           "locationmode": "USA-states",
           "locations": [
            "DC",
            "PA",
            "DE",
            "UT",
            "VA",
            "WI",
            "NV",
            "IL",
            "ME",
            "MN",
            "TN",
            "NE",
            "NJ",
            "HI",
            "MD",
            "OH",
            "NH",
            "AZ",
            "OR",
            "NC",
            "ID",
            "NM",
            "TX",
            "WV",
            "AK",
            "WA",
            "SC",
            "CO",
            "MT",
            "KS",
            "OK",
            "WY",
            "GA",
            "VT",
            "LA",
            "ND",
            "IA",
            "FL",
            "MS",
            "NY",
            "KY",
            "IN",
            "AL",
            "AR",
            "CT",
            "SD",
            "MA",
            "MO",
            "RI",
            "MI",
            "CA"
           ],
           "name": "",
           "type": "choropleth",
           "z": [
            4.9,
            4.7,
            3.5,
            4.5,
            3.9,
            4.3,
            4.7,
            6,
            4,
            4.3,
            5.1,
            2.9,
            4.1,
            2.5,
            3.8,
            5.5,
            3.5,
            5.3,
            5.4,
            3.5,
            5.3,
            6.7,
            6.7,
            8.6,
            7,
            5.9,
            4.6,
            5.7,
            5.8,
            4.2,
            5.6,
            6.1,
            5.5,
            3.5,
            8,
            4.3,
            4.2,
            5.6,
            7.8,
            5,
            6.4,
            4.9,
            7,
            7,
            3.8,
            4,
            4.2,
            5.5,
            4.1,
            7.1,
            5.1
           ]
          }
         ],
         "name": "1989"
        },
        {
         "data": [
          {
           "coloraxis": "coloraxis",
           "geo": "geo",
           "hovertemplate": "Year=1990<br>StateCode=%{location}<br>Unemployment Rate (%)=%{z}<extra></extra>",
           "locationmode": "USA-states",
           "locations": [
            "DC",
            "PA",
            "DE",
            "UT",
            "VA",
            "WI",
            "NV",
            "IL",
            "ME",
            "MN",
            "TN",
            "NE",
            "NJ",
            "HI",
            "MD",
            "OH",
            "NH",
            "AZ",
            "OR",
            "NC",
            "ID",
            "NM",
            "TX",
            "WV",
            "AK",
            "WA",
            "SC",
            "CO",
            "MT",
            "KS",
            "OK",
            "WY",
            "GA",
            "VT",
            "LA",
            "ND",
            "IA",
            "FL",
            "MS",
            "NY",
            "KY",
            "IN",
            "AL",
            "AR",
            "CT",
            "SD",
            "MA",
            "MO",
            "RI",
            "MI",
            "CA"
           ],
           "name": "",
           "type": "choropleth",
           "z": [
            6.3,
            5.5,
            4.7,
            4.4,
            4.5,
            4.4,
            4.7,
            6.1,
            5.3,
            4.8,
            5.3,
            2.3,
            5,
            2.7,
            4.5,
            5.6,
            5.7,
            5.3,
            5.5,
            4.1,
            5.5,
            6.6,
            6.3,
            8.5,
            7.2,
            5.2,
            4.8,
            5.2,
            6,
            4.3,
            5.7,
            5.3,
            5.5,
            5,
            6.2,
            4,
            4.4,
            6.1,
            7.6,
            5.3,
            6,
            5.3,
            6.8,
            6.9,
            5.1,
            3.8,
            6.3,
            5.8,
            6.3,
            7.6,
            5.8
           ]
          }
         ],
         "name": "1990"
        },
        {
         "data": [
          {
           "coloraxis": "coloraxis",
           "geo": "geo",
           "hovertemplate": "Year=1991<br>StateCode=%{location}<br>Unemployment Rate (%)=%{z}<extra></extra>",
           "locationmode": "USA-states",
           "locations": [
            "DC",
            "PA",
            "DE",
            "UT",
            "VA",
            "WI",
            "NV",
            "IL",
            "ME",
            "MN",
            "TN",
            "NE",
            "NJ",
            "HI",
            "MD",
            "OH",
            "NH",
            "AZ",
            "OR",
            "NC",
            "ID",
            "NM",
            "TX",
            "WV",
            "AK",
            "WA",
            "SC",
            "CO",
            "MT",
            "KS",
            "OK",
            "WY",
            "GA",
            "VT",
            "LA",
            "ND",
            "IA",
            "FL",
            "MS",
            "NY",
            "KY",
            "IN",
            "AL",
            "AR",
            "CT",
            "SD",
            "MA",
            "MO",
            "RI",
            "MI",
            "CA"
           ],
           "name": "",
           "type": "choropleth",
           "z": [
            7.8,
            7,
            6.2,
            4.7,
            5.9,
            5.5,
            5.8,
            7.3,
            7.5,
            5.1,
            6.8,
            2.7,
            6.7,
            2.9,
            6.1,
            6.5,
            7.3,
            5.9,
            6.4,
            5.8,
            6.2,
            7.1,
            6.9,
            10.6,
            8.5,
            6.3,
            6.1,
            5.3,
            6.9,
            4.4,
            6.3,
            5.2,
            5.2,
            6.6,
            7.3,
            4.4,
            4.7,
            7.5,
            8.5,
            7.2,
            7.3,
            6,
            7.3,
            7.4,
            6.5,
            3.5,
            8.6,
            6.6,
            8.6,
            9.2,
            7.7
           ]
          }
         ],
         "name": "1991"
        },
        {
         "data": [
          {
           "coloraxis": "coloraxis",
           "geo": "geo",
           "hovertemplate": "Year=1992<br>StateCode=%{location}<br>Unemployment Rate (%)=%{z}<extra></extra>",
           "locationmode": "USA-states",
           "locations": [
            "DC",
            "PA",
            "DE",
            "UT",
            "VA",
            "WI",
            "NV",
            "IL",
            "ME",
            "MN",
            "TN",
            "NE",
            "NJ",
            "HI",
            "MD",
            "OH",
            "NH",
            "AZ",
            "OR",
            "NC",
            "ID",
            "NM",
            "TX",
            "WV",
            "AK",
            "WA",
            "SC",
            "CO",
            "MT",
            "KS",
            "OK",
            "WY",
            "GA",
            "VT",
            "LA",
            "ND",
            "IA",
            "FL",
            "MS",
            "NY",
            "KY",
            "IN",
            "AL",
            "AR",
            "CT",
            "SD",
            "MA",
            "MO",
            "RI",
            "MI",
            "CA"
           ],
           "name": "",
           "type": "choropleth",
           "z": [
            8.6,
            7.6,
            5.4,
            4.8,
            6.3,
            5.1,
            6.7,
            7.9,
            7.3,
            5.1,
            6.5,
            2.9,
            8.4,
            4.3,
            6.8,
            7.4,
            7.3,
            7.5,
            7.4,
            6,
            6.4,
            7.2,
            7.6,
            11.3,
            8.9,
            7.3,
            6.7,
            6,
            6.7,
            4.5,
            6,
            5.6,
            6.9,
            6.1,
            8,
            4.7,
            4.5,
            8.2,
            8.1,
            8.6,
            6.9,
            6.6,
            7.6,
            7.1,
            7.6,
            3.3,
            8.5,
            6.2,
            8.9,
            9,
            9.3
           ]
          }
         ],
         "name": "1992"
        },
        {
         "data": [
          {
           "coloraxis": "coloraxis",
           "geo": "geo",
           "hovertemplate": "Year=1993<br>StateCode=%{location}<br>Unemployment Rate (%)=%{z}<extra></extra>",
           "locationmode": "USA-states",
           "locations": [
            "DC",
            "PA",
            "DE",
            "UT",
            "VA",
            "WI",
            "NV",
            "IL",
            "ME",
            "MN",
            "TN",
            "NE",
            "NJ",
            "HI",
            "MD",
            "OH",
            "NH",
            "AZ",
            "OR",
            "NC",
            "ID",
            "NM",
            "TX",
            "WV",
            "AK",
            "WA",
            "SC",
            "CO",
            "MT",
            "KS",
            "OK",
            "WY",
            "GA",
            "VT",
            "LA",
            "ND",
            "IA",
            "FL",
            "MS",
            "NY",
            "KY",
            "IN",
            "AL",
            "AR",
            "CT",
            "SD",
            "MA",
            "MO",
            "RI",
            "MI",
            "CA"
           ],
           "name": "",
           "type": "choropleth",
           "z": [
            8.5,
            7,
            5.1,
            4.1,
            5.2,
            4.8,
            6.8,
            7.4,
            7.3,
            5,
            5.8,
            2.8,
            7.6,
            4.5,
            6.2,
            6.6,
            6.1,
            6.4,
            7,
            5,
            6,
            7,
            7.2,
            10.6,
            7.7,
            7.3,
            7.3,
            5.3,
            6,
            5,
            5.9,
            5.3,
            6,
            5.2,
            7.6,
            4.3,
            4,
            7.1,
            6.6,
            7.9,
            6.2,
            5.4,
            7.3,
            6.1,
            6.6,
            3.4,
            7,
            6.2,
            7.7,
            7.2,
            9.5
           ]
          }
         ],
         "name": "1993"
        },
        {
         "data": [
          {
           "coloraxis": "coloraxis",
           "geo": "geo",
           "hovertemplate": "Year=1994<br>StateCode=%{location}<br>Unemployment Rate (%)=%{z}<extra></extra>",
           "locationmode": "USA-states",
           "locations": [
            "DC",
            "PA",
            "DE",
            "UT",
            "VA",
            "WI",
            "NV",
            "IL",
            "ME",
            "MN",
            "TN",
            "NE",
            "NJ",
            "HI",
            "MD",
            "OH",
            "NH",
            "AZ",
            "OR",
            "NC",
            "ID",
            "NM",
            "TX",
            "WV",
            "AK",
            "WA",
            "SC",
            "CO",
            "MT",
            "KS",
            "OK",
            "WY",
            "GA",
            "VT",
            "LA",
            "ND",
            "IA",
            "FL",
            "MS",
            "NY",
            "KY",
            "IN",
            "AL",
            "AR",
            "CT",
            "SD",
            "MA",
            "MO",
            "RI",
            "MI",
            "CA"
           ],
           "name": "",
           "type": "choropleth",
           "z": [
            8,
            6.3,
            4.8,
            3.8,
            4.9,
            4.5,
            6.2,
            5.8,
            7,
            4.1,
            4.8,
            2.6,
            6.8,
            5.5,
            5.3,
            5.6,
            4.7,
            6.1,
            5.4,
            4.4,
            5.4,
            6.5,
            6.5,
            8.8,
            7.6,
            6.6,
            6.2,
            4.2,
            5.2,
            4.9,
            5.6,
            5,
            5.2,
            4.6,
            7.8,
            3.7,
            3.5,
            6.4,
            6.3,
            6.9,
            5.4,
            4.9,
            6.2,
            5.4,
            5.6,
            3.3,
            6,
            5.1,
            6.9,
            6,
            8.6
           ]
          }
         ],
         "name": "1994"
        },
        {
         "data": [
          {
           "coloraxis": "coloraxis",
           "geo": "geo",
           "hovertemplate": "Year=1995<br>StateCode=%{location}<br>Unemployment Rate (%)=%{z}<extra></extra>",
           "locationmode": "USA-states",
           "locations": [
            "DC",
            "PA",
            "DE",
            "UT",
            "VA",
            "WI",
            "NV",
            "IL",
            "ME",
            "MN",
            "TN",
            "NE",
            "NJ",
            "HI",
            "MD",
            "OH",
            "NH",
            "AZ",
            "OR",
            "NC",
            "ID",
            "NM",
            "TX",
            "WV",
            "AK",
            "WA",
            "SC",
            "CO",
            "MT",
            "KS",
            "OK",
            "WY",
            "GA",
            "VT",
            "LA",
            "ND",
            "IA",
            "FL",
            "MS",
            "NY",
            "KY",
            "IN",
            "AL",
            "AR",
            "CT",
            "SD",
            "MA",
            "MO",
            "RI",
            "MI",
            "CA"
           ],
           "name": "",
           "type": "choropleth",
           "z": [
            8.8,
            5.9,
            4.3,
            3.5,
            4.5,
            3.8,
            5.6,
            5.2,
            6,
            3.7,
            5.2,
            2.6,
            6.4,
            5.9,
            5,
            4.8,
            4,
            5.3,
            4.9,
            4.3,
            5.4,
            6.6,
            6.1,
            7.9,
            7.3,
            6.4,
            5.2,
            4,
            5.7,
            4.4,
            4.6,
            4.8,
            4.8,
            4.3,
            7,
            3.2,
            3.4,
            5.5,
            6.2,
            6.3,
            5.4,
            4.6,
            6,
            4.8,
            5.5,
            3,
            5.3,
            4.7,
            6.3,
            5.3,
            7.9
           ]
          }
         ],
         "name": "1995"
        },
        {
         "data": [
          {
           "coloraxis": "coloraxis",
           "geo": "geo",
           "hovertemplate": "Year=1996<br>StateCode=%{location}<br>Unemployment Rate (%)=%{z}<extra></extra>",
           "locationmode": "USA-states",
           "locations": [
            "DC",
            "PA",
            "DE",
            "UT",
            "VA",
            "WI",
            "NV",
            "IL",
            "ME",
            "MN",
            "TN",
            "NE",
            "NJ",
            "HI",
            "MD",
            "OH",
            "NH",
            "AZ",
            "OR",
            "NC",
            "ID",
            "NM",
            "TX",
            "WV",
            "AK",
            "WA",
            "SC",
            "CO",
            "MT",
            "KS",
            "OK",
            "WY",
            "GA",
            "VT",
            "LA",
            "ND",
            "IA",
            "FL",
            "MS",
            "NY",
            "KY",
            "IN",
            "AL",
            "AR",
            "CT",
            "SD",
            "MA",
            "MO",
            "RI",
            "MI",
            "CA"
           ],
           "name": "",
           "type": "choropleth",
           "z": [
            8.4,
            5.4,
            5.1,
            3.4,
            4.4,
            3.6,
            5,
            5.3,
            5.2,
            4,
            5.2,
            2.7,
            6.1,
            6.3,
            5,
            5,
            3.8,
            5.6,
            5.7,
            4.3,
            5.3,
            7.2,
            5.7,
            7.5,
            7.6,
            6.1,
            5.8,
            4.2,
            5.3,
            4.3,
            4.1,
            4.9,
            4.7,
            4.3,
            6.6,
            2.9,
            3.5,
            5.2,
            6,
            6.2,
            5.5,
            4.1,
            5.2,
            5.3,
            5.5,
            3.2,
            4.4,
            4.8,
            5.4,
            4.9,
            7.3
           ]
          }
         ],
         "name": "1996"
        },
        {
         "data": [
          {
           "coloraxis": "coloraxis",
           "geo": "geo",
           "hovertemplate": "Year=1997<br>StateCode=%{location}<br>Unemployment Rate (%)=%{z}<extra></extra>",
           "locationmode": "USA-states",
           "locations": [
            "DC",
            "PA",
            "DE",
            "UT",
            "VA",
            "WI",
            "NV",
            "IL",
            "ME",
            "MN",
            "TN",
            "NE",
            "NJ",
            "HI",
            "MD",
            "OH",
            "NH",
            "AZ",
            "OR",
            "NC",
            "ID",
            "NM",
            "TX",
            "WV",
            "AK",
            "WA",
            "SC",
            "CO",
            "MT",
            "KS",
            "OK",
            "WY",
            "GA",
            "VT",
            "LA",
            "ND",
            "IA",
            "FL",
            "MS",
            "NY",
            "KY",
            "IN",
            "AL",
            "AR",
            "CT",
            "SD",
            "MA",
            "MO",
            "RI",
            "MI",
            "CA"
           ],
           "name": "",
           "type": "choropleth",
           "z": [
            8,
            5.1,
            4,
            3.2,
            3.8,
            3.6,
            4.4,
            4.8,
            5.1,
            3.3,
            5.3,
            2.5,
            5.3,
            6.2,
            5,
            4.6,
            3.3,
            4.6,
            5.7,
            3.7,
            5.1,
            6.3,
            5.3,
            6.9,
            7.1,
            4.9,
            4.6,
            3.5,
            5.3,
            3.8,
            4.1,
            4.8,
            4.6,
            3.9,
            6,
            2.7,
            3.1,
            4.8,
            5.7,
            6.4,
            5.3,
            3.5,
            5,
            5.2,
            5,
            2.9,
            3.9,
            4.3,
            5.1,
            4.3,
            6.4
           ]
          }
         ],
         "name": "1997"
        },
        {
         "data": [
          {
           "coloraxis": "coloraxis",
           "geo": "geo",
           "hovertemplate": "Year=1998<br>StateCode=%{location}<br>Unemployment Rate (%)=%{z}<extra></extra>",
           "locationmode": "USA-states",
           "locations": [
            "DC",
            "PA",
            "DE",
            "UT",
            "VA",
            "WI",
            "NV",
            "IL",
            "ME",
            "MN",
            "TN",
            "NE",
            "NJ",
            "HI",
            "MD",
            "OH",
            "NH",
            "AZ",
            "OR",
            "NC",
            "ID",
            "NM",
            "TX",
            "WV",
            "AK",
            "WA",
            "SC",
            "CO",
            "MT",
            "KS",
            "OK",
            "WY",
            "GA",
            "VT",
            "LA",
            "ND",
            "IA",
            "FL",
            "MS",
            "NY",
            "KY",
            "IN",
            "AL",
            "AR",
            "CT",
            "SD",
            "MA",
            "MO",
            "RI",
            "MI",
            "CA"
           ],
           "name": "",
           "type": "choropleth",
           "z": [
            8.4,
            4.6,
            3.7,
            3.6,
            2.9,
            3.4,
            4.2,
            4.4,
            4.5,
            2.7,
            4.3,
            2.6,
            4.6,
            6.1,
            4.4,
            4.3,
            2.8,
            4.3,
            5.7,
            3.5,
            5.1,
            6.1,
            4.9,
            6.6,
            6.3,
            4.8,
            3.8,
            3.6,
            5.5,
            3.5,
            4.3,
            4.7,
            4.3,
            3.4,
            5.7,
            2.9,
            2.7,
            4.3,
            5.3,
            5.6,
            4.6,
            3.1,
            4.4,
            5.2,
            3.4,
            2.8,
            3.3,
            4.2,
            4.6,
            3.9,
            5.9
           ]
          }
         ],
         "name": "1998"
        },
        {
         "data": [
          {
           "coloraxis": "coloraxis",
           "geo": "geo",
           "hovertemplate": "Year=1999<br>StateCode=%{location}<br>Unemployment Rate (%)=%{z}<extra></extra>",
           "locationmode": "USA-states",
           "locations": [
            "DC",
            "PA",
            "DE",
            "UT",
            "VA",
            "WI",
            "NV",
            "IL",
            "ME",
            "MN",
            "TN",
            "NE",
            "NJ",
            "HI",
            "MD",
            "OH",
            "NH",
            "AZ",
            "OR",
            "NC",
            "ID",
            "NM",
            "TX",
            "WV",
            "AK",
            "WA",
            "SC",
            "CO",
            "MT",
            "KS",
            "OK",
            "WY",
            "GA",
            "VT",
            "LA",
            "ND",
            "IA",
            "FL",
            "MS",
            "NY",
            "KY",
            "IN",
            "AL",
            "AR",
            "CT",
            "SD",
            "MA",
            "MO",
            "RI",
            "MI",
            "CA"
           ],
           "name": "",
           "type": "choropleth",
           "z": [
            6.4,
            4.4,
            3.4,
            3.5,
            2.7,
            3.1,
            4,
            4.4,
            4,
            2.8,
            4,
            2.8,
            4.5,
            5.4,
            3.6,
            4.3,
            2.7,
            4.4,
            5.5,
            3.2,
            4.9,
            5.6,
            4.7,
            6.5,
            6.5,
            4.9,
            4.3,
            3.1,
            5.3,
            3.3,
            3.5,
            4.6,
            3.9,
            3,
            5.1,
            3.3,
            2.6,
            3.9,
            5.1,
            5.2,
            4.5,
            3,
            4.7,
            4.6,
            2.9,
            2.7,
            3.2,
            3.3,
            4.2,
            3.7,
            5.2
           ]
          }
         ],
         "name": "1999"
        },
        {
         "data": [
          {
           "coloraxis": "coloraxis",
           "geo": "geo",
           "hovertemplate": "Year=2000<br>StateCode=%{location}<br>Unemployment Rate (%)=%{z}<extra></extra>",
           "locationmode": "USA-states",
           "locations": [
            "DC",
            "PA",
            "DE",
            "UT",
            "VA",
            "WI",
            "NV",
            "IL",
            "ME",
            "MN",
            "TN",
            "NE",
            "NJ",
            "HI",
            "MD",
            "OH",
            "NH",
            "AZ",
            "OR",
            "NC",
            "ID",
            "NM",
            "TX",
            "WV",
            "AK",
            "WA",
            "SC",
            "CO",
            "MT",
            "KS",
            "OK",
            "WY",
            "GA",
            "VT",
            "LA",
            "ND",
            "IA",
            "FL",
            "MS",
            "NY",
            "KY",
            "IN",
            "AL",
            "AR",
            "CT",
            "SD",
            "MA",
            "MO",
            "RI",
            "MI",
            "CA"
           ],
           "name": "",
           "type": "choropleth",
           "z": [
            5.6,
            4.1,
            3.7,
            3.3,
            2.3,
            3.5,
            4.2,
            4.3,
            3.4,
            3.2,
            3.9,
            2.8,
            3.7,
            4.2,
            3.6,
            4,
            2.7,
            4,
            5.1,
            3.7,
            4.7,
            4.9,
            4.3,
            5.5,
            6.4,
            5.2,
            3.8,
            2.8,
            5,
            3.6,
            3,
            3.9,
            3.6,
            2.8,
            5.3,
            3,
            2.6,
            3.7,
            5.4,
            4.5,
            4.2,
            3.1,
            4.6,
            4.3,
            2.4,
            2.5,
            2.7,
            3.6,
            4.1,
            3.6,
            4.9
           ]
          }
         ],
         "name": "2000"
        },
        {
         "data": [
          {
           "coloraxis": "coloraxis",
           "geo": "geo",
           "hovertemplate": "Year=2001<br>StateCode=%{location}<br>Unemployment Rate (%)=%{z}<extra></extra>",
           "locationmode": "USA-states",
           "locations": [
            "DC",
            "PA",
            "DE",
            "UT",
            "VA",
            "WI",
            "NV",
            "IL",
            "ME",
            "MN",
            "TN",
            "NE",
            "NJ",
            "HI",
            "MD",
            "OH",
            "NH",
            "AZ",
            "OR",
            "NC",
            "ID",
            "NM",
            "TX",
            "WV",
            "AK",
            "WA",
            "SC",
            "CO",
            "MT",
            "KS",
            "OK",
            "WY",
            "GA",
            "VT",
            "LA",
            "ND",
            "IA",
            "FL",
            "MS",
            "NY",
            "KY",
            "IN",
            "AL",
            "AR",
            "CT",
            "SD",
            "MA",
            "MO",
            "RI",
            "MI",
            "CA"
           ],
           "name": "",
           "type": "choropleth",
           "z": [
            6.3,
            4.8,
            3.5,
            4.4,
            3.2,
            4.5,
            5.2,
            5.3,
            3.8,
            3.8,
            4.6,
            3.1,
            4.3,
            4.5,
            4,
            4.3,
            3.4,
            4.8,
            6.4,
            5.5,
            5.1,
            4.9,
            5,
            5,
            6.4,
            6.3,
            5.2,
            3.8,
            4.5,
            4.2,
            3.7,
            3.8,
            4,
            3.3,
            5.7,
            2.9,
            3.3,
            4.7,
            5.5,
            4.8,
            5.2,
            4.2,
            5.1,
            5,
            3.1,
            3.1,
            3.7,
            4.6,
            4.6,
            5.2,
            5.4
           ]
          }
         ],
         "name": "2001"
        },
        {
         "data": [
          {
           "coloraxis": "coloraxis",
           "geo": "geo",
           "hovertemplate": "Year=2002<br>StateCode=%{location}<br>Unemployment Rate (%)=%{z}<extra></extra>",
           "locationmode": "USA-states",
           "locations": [
            "DC",
            "PA",
            "DE",
            "UT",
            "VA",
            "WI",
            "NV",
            "IL",
            "ME",
            "MN",
            "TN",
            "NE",
            "NJ",
            "HI",
            "MD",
            "OH",
            "NH",
            "AZ",
            "OR",
            "NC",
            "ID",
            "NM",
            "TX",
            "WV",
            "AK",
            "WA",
            "SC",
            "CO",
            "MT",
            "KS",
            "OK",
            "WY",
            "GA",
            "VT",
            "LA",
            "ND",
            "IA",
            "FL",
            "MS",
            "NY",
            "KY",
            "IN",
            "AL",
            "AR",
            "CT",
            "SD",
            "MA",
            "MO",
            "RI",
            "MI",
            "CA"
           ],
           "name": "",
           "type": "choropleth",
           "z": [
            6.4,
            5.6,
            4,
            5.8,
            4.2,
            5.4,
            5.6,
            6.5,
            4.3,
            4.5,
            5.2,
            3.6,
            5.8,
            4.2,
            4.4,
            5.7,
            4.5,
            6.1,
            7.5,
            6.6,
            5.6,
            5.5,
            6.4,
            5.9,
            7.3,
            7.4,
            5.8,
            5.5,
            4.4,
            5.1,
            4.7,
            4,
            5,
            4,
            6.1,
            3.7,
            4,
            5.6,
            6.6,
            6.1,
            5.7,
            5.2,
            5.9,
            5.5,
            4.3,
            3.2,
            5.3,
            5.4,
            5,
            6.3,
            6.7
           ]
          }
         ],
         "name": "2002"
        },
        {
         "data": [
          {
           "coloraxis": "coloraxis",
           "geo": "geo",
           "hovertemplate": "Year=2003<br>StateCode=%{location}<br>Unemployment Rate (%)=%{z}<extra></extra>",
           "locationmode": "USA-states",
           "locations": [
            "DC",
            "PA",
            "DE",
            "UT",
            "VA",
            "WI",
            "NV",
            "IL",
            "ME",
            "MN",
            "TN",
            "NE",
            "NJ",
            "HI",
            "MD",
            "OH",
            "NH",
            "AZ",
            "OR",
            "NC",
            "ID",
            "NM",
            "TX",
            "WV",
            "AK",
            "WA",
            "SC",
            "CO",
            "MT",
            "KS",
            "OK",
            "WY",
            "GA",
            "VT",
            "LA",
            "ND",
            "IA",
            "FL",
            "MS",
            "NY",
            "KY",
            "IN",
            "AL",
            "AR",
            "CT",
            "SD",
            "MA",
            "MO",
            "RI",
            "MI",
            "CA"
           ],
           "name": "",
           "type": "choropleth",
           "z": [
            6.8,
            5.7,
            4.3,
            5.6,
            4.1,
            5.7,
            5.1,
            6.8,
            5,
            4.9,
            5.6,
            3.9,
            5.8,
            4.1,
            4.4,
            6.2,
            4.3,
            5.7,
            8.1,
            6.4,
            5.6,
            5.9,
            6.7,
            6,
            7.8,
            7.4,
            6.9,
            6,
            4.7,
            5.5,
            5.5,
            4.3,
            4.8,
            4.3,
            6.4,
            3.7,
            4.5,
            5.2,
            6.3,
            6.4,
            6.1,
            5.3,
            6,
            5.9,
            5.4,
            3.5,
            5.7,
            5.6,
            5.3,
            7.2,
            6.8
           ]
          }
         ],
         "name": "2003"
        },
        {
         "data": [
          {
           "coloraxis": "coloraxis",
           "geo": "geo",
           "hovertemplate": "Year=2004<br>StateCode=%{location}<br>Unemployment Rate (%)=%{z}<extra></extra>",
           "locationmode": "USA-states",
           "locations": [
            "DC",
            "PA",
            "DE",
            "UT",
            "VA",
            "WI",
            "NV",
            "IL",
            "ME",
            "MN",
            "TN",
            "NE",
            "NJ",
            "HI",
            "MD",
            "OH",
            "NH",
            "AZ",
            "OR",
            "NC",
            "ID",
            "NM",
            "TX",
            "WV",
            "AK",
            "WA",
            "SC",
            "CO",
            "MT",
            "KS",
            "OK",
            "WY",
            "GA",
            "VT",
            "LA",
            "ND",
            "IA",
            "FL",
            "MS",
            "NY",
            "KY",
            "IN",
            "AL",
            "AR",
            "CT",
            "SD",
            "MA",
            "MO",
            "RI",
            "MI",
            "CA"
           ],
           "name": "",
           "type": "choropleth",
           "z": [
            7.8,
            5.4,
            4,
            5,
            3.8,
            5,
            4.3,
            6.2,
            4.6,
            4.7,
            5.3,
            3.9,
            4.8,
            3.4,
            4.3,
            6.3,
            3.8,
            5,
            7.3,
            5.5,
            4.9,
            5.5,
            5.9,
            5.3,
            7.5,
            6.3,
            6.8,
            5.5,
            4.8,
            5.5,
            4.9,
            3.8,
            4.8,
            3.7,
            5.9,
            3.4,
            4.5,
            4.6,
            6.2,
            5.8,
            5.4,
            5.4,
            5.7,
            5.7,
            5,
            3.7,
            5.1,
            5.9,
            5.2,
            7,
            6.2
           ]
          }
         ],
         "name": "2004"
        },
        {
         "data": [
          {
           "coloraxis": "coloraxis",
           "geo": "geo",
           "hovertemplate": "Year=2005<br>StateCode=%{location}<br>Unemployment Rate (%)=%{z}<extra></extra>",
           "locationmode": "USA-states",
           "locations": [
            "DC",
            "PA",
            "DE",
            "UT",
            "VA",
            "WI",
            "NV",
            "IL",
            "ME",
            "MN",
            "TN",
            "NE",
            "NJ",
            "HI",
            "MD",
            "OH",
            "NH",
            "AZ",
            "OR",
            "NC",
            "ID",
            "NM",
            "TX",
            "WV",
            "AK",
            "WA",
            "SC",
            "CO",
            "MT",
            "KS",
            "OK",
            "WY",
            "GA",
            "VT",
            "LA",
            "ND",
            "IA",
            "FL",
            "MS",
            "NY",
            "KY",
            "IN",
            "AL",
            "AR",
            "CT",
            "SD",
            "MA",
            "MO",
            "RI",
            "MI",
            "CA"
           ],
           "name": "",
           "type": "choropleth",
           "z": [
            6.4,
            5,
            4.1,
            4.1,
            3.6,
            4.7,
            4.1,
            5.7,
            4.9,
            4.1,
            5.6,
            3.8,
            4.5,
            2.9,
            4.1,
            5.9,
            3.6,
            4.7,
            6.2,
            5.2,
            4,
            5.1,
            5.4,
            5.1,
            6.9,
            5.6,
            6.7,
            5,
            4.4,
            5,
            4.5,
            3.6,
            5.3,
            3.5,
            7.2,
            3.4,
            4.3,
            3.7,
            7.5,
            5,
            5.9,
            5.5,
            4.5,
            5.2,
            4.9,
            3.8,
            4.8,
            5.4,
            5,
            6.8,
            5.4
           ]
          }
         ],
         "name": "2005"
        },
        {
         "data": [
          {
           "coloraxis": "coloraxis",
           "geo": "geo",
           "hovertemplate": "Year=2006<br>StateCode=%{location}<br>Unemployment Rate (%)=%{z}<extra></extra>",
           "locationmode": "USA-states",
           "locations": [
            "DC",
            "PA",
            "DE",
            "UT",
            "VA",
            "WI",
            "NV",
            "IL",
            "ME",
            "MN",
            "TN",
            "NE",
            "NJ",
            "HI",
            "MD",
            "OH",
            "NH",
            "AZ",
            "OR",
            "NC",
            "ID",
            "NM",
            "TX",
            "WV",
            "AK",
            "WA",
            "SC",
            "CO",
            "MT",
            "KS",
            "OK",
            "WY",
            "GA",
            "VT",
            "LA",
            "ND",
            "IA",
            "FL",
            "MS",
            "NY",
            "KY",
            "IN",
            "AL",
            "AR",
            "CT",
            "SD",
            "MA",
            "MO",
            "RI",
            "MI",
            "CA"
           ],
           "name": "",
           "type": "choropleth",
           "z": [
            5.8,
            4.6,
            3.6,
            3,
            3.1,
            4.7,
            4,
            4.5,
            4.6,
            4,
            5.2,
            3.1,
            4.7,
            2.6,
            3.9,
            5.4,
            3.4,
            4.2,
            5.3,
            4.7,
            3.5,
            4.2,
            4.9,
            4.9,
            6.6,
            5,
            6.4,
            4.3,
            3.5,
            4.4,
            4,
            3.2,
            4.7,
            3.7,
            4.5,
            3.2,
            3.7,
            3.2,
            6.5,
            4.5,
            5.7,
            5,
            4,
            5.2,
            4.3,
            3.1,
            4.9,
            4.8,
            4.9,
            7,
            4.9
           ]
          }
         ],
         "name": "2006"
        },
        {
         "data": [
          {
           "coloraxis": "coloraxis",
           "geo": "geo",
           "hovertemplate": "Year=2007<br>StateCode=%{location}<br>Unemployment Rate (%)=%{z}<extra></extra>",
           "locationmode": "USA-states",
           "locations": [
            "DC",
            "PA",
            "DE",
            "UT",
            "VA",
            "WI",
            "NV",
            "IL",
            "ME",
            "MN",
            "TN",
            "NE",
            "NJ",
            "HI",
            "MD",
            "OH",
            "NH",
            "AZ",
            "OR",
            "NC",
            "ID",
            "NM",
            "TX",
            "WV",
            "AK",
            "WA",
            "SC",
            "CO",
            "MT",
            "KS",
            "OK",
            "WY",
            "GA",
            "VT",
            "LA",
            "ND",
            "IA",
            "FL",
            "MS",
            "NY",
            "KY",
            "IN",
            "AL",
            "AR",
            "CT",
            "SD",
            "MA",
            "MO",
            "RI",
            "MI",
            "CA"
           ],
           "name": "",
           "type": "choropleth",
           "z": [
            5.5,
            4.4,
            3.4,
            2.6,
            3,
            4.9,
            4.5,
            5,
            4.7,
            4.6,
            4.7,
            3,
            4.3,
            2.8,
            3.5,
            5.6,
            3.5,
            3.9,
            5.2,
            4.7,
            3.1,
            3.8,
            4.3,
            4.6,
            6.3,
            4.7,
            5.7,
            3.7,
            3.6,
            4.2,
            4.1,
            2.8,
            4.5,
            4,
            4.3,
            3.1,
            3.7,
            4,
            6.1,
            4.6,
            5.4,
            4.6,
            4,
            5.3,
            4.5,
            2.8,
            4.6,
            5.1,
            5.2,
            7,
            5.4
           ]
          }
         ],
         "name": "2007"
        },
        {
         "data": [
          {
           "coloraxis": "coloraxis",
           "geo": "geo",
           "hovertemplate": "Year=2008<br>StateCode=%{location}<br>Unemployment Rate (%)=%{z}<extra></extra>",
           "locationmode": "USA-states",
           "locations": [
            "DC",
            "PA",
            "DE",
            "UT",
            "VA",
            "WI",
            "NV",
            "IL",
            "ME",
            "MN",
            "TN",
            "NE",
            "NJ",
            "HI",
            "MD",
            "OH",
            "NH",
            "AZ",
            "OR",
            "NC",
            "ID",
            "NM",
            "TX",
            "WV",
            "AK",
            "WA",
            "SC",
            "CO",
            "MT",
            "KS",
            "OK",
            "WY",
            "GA",
            "VT",
            "LA",
            "ND",
            "IA",
            "FL",
            "MS",
            "NY",
            "KY",
            "IN",
            "AL",
            "AR",
            "CT",
            "SD",
            "MA",
            "MO",
            "RI",
            "MI",
            "CA"
           ],
           "name": "",
           "type": "choropleth",
           "z": [
            6.5,
            5.3,
            4.9,
            3.6,
            3.9,
            4.9,
            6.7,
            6.3,
            5.5,
            5.4,
            6.6,
            3.3,
            5.3,
            4.3,
            4.2,
            6.4,
            3.9,
            6.2,
            6.5,
            6.1,
            5.1,
            4.5,
            4.8,
            4.3,
            6.7,
            5.4,
            6.8,
            4.8,
            5.1,
            4.6,
            3.7,
            3.1,
            6.2,
            4.7,
            4.9,
            3.2,
            4.2,
            6.3,
            6.6,
            5.4,
            6.4,
            5.9,
            5.7,
            5.5,
            5.7,
            3.1,
            5.5,
            6.1,
            7.8,
            8,
            7.3
           ]
          }
         ],
         "name": "2008"
        },
        {
         "data": [
          {
           "coloraxis": "coloraxis",
           "geo": "geo",
           "hovertemplate": "Year=2009<br>StateCode=%{location}<br>Unemployment Rate (%)=%{z}<extra></extra>",
           "locationmode": "USA-states",
           "locations": [
            "DC",
            "PA",
            "DE",
            "UT",
            "VA",
            "WI",
            "NV",
            "IL",
            "ME",
            "MN",
            "TN",
            "NE",
            "NJ",
            "HI",
            "MD",
            "OH",
            "NH",
            "AZ",
            "OR",
            "NC",
            "ID",
            "NM",
            "TX",
            "WV",
            "AK",
            "WA",
            "SC",
            "CO",
            "MT",
            "KS",
            "OK",
            "WY",
            "GA",
            "VT",
            "LA",
            "ND",
            "IA",
            "FL",
            "MS",
            "NY",
            "KY",
            "IN",
            "AL",
            "AR",
            "CT",
            "SD",
            "MA",
            "MO",
            "RI",
            "MI",
            "CA"
           ],
           "name": "",
           "type": "choropleth",
           "z": [
            9.3,
            8,
            8.3,
            7.3,
            6.7,
            8.6,
            11.3,
            10.2,
            8.1,
            7.8,
            10.5,
            4.6,
            9.1,
            7.2,
            7,
            10.3,
            6.2,
            9.9,
            11.3,
            10.6,
            8.8,
            7.5,
            7.6,
            7.7,
            7.7,
            9.2,
            11.2,
            7.3,
            6.8,
            6.9,
            6.4,
            6.3,
            9.9,
            6.6,
            6.8,
            4.1,
            6.4,
            10.4,
            9.5,
            8.3,
            10.3,
            10.3,
            11,
            7.8,
            7.9,
            4.9,
            8.1,
            9.3,
            11,
            13.7,
            11.2
           ]
          }
         ],
         "name": "2009"
        },
        {
         "data": [
          {
           "coloraxis": "coloraxis",
           "geo": "geo",
           "hovertemplate": "Year=2010<br>StateCode=%{location}<br>Unemployment Rate (%)=%{z}<extra></extra>",
           "locationmode": "USA-states",
           "locations": [
            "DC",
            "PA",
            "DE",
            "UT",
            "VA",
            "WI",
            "NV",
            "IL",
            "ME",
            "MN",
            "TN",
            "NE",
            "NJ",
            "HI",
            "MD",
            "OH",
            "NH",
            "AZ",
            "OR",
            "NC",
            "ID",
            "NM",
            "TX",
            "WV",
            "AK",
            "WA",
            "SC",
            "CO",
            "MT",
            "KS",
            "OK",
            "WY",
            "GA",
            "VT",
            "LA",
            "ND",
            "IA",
            "FL",
            "MS",
            "NY",
            "KY",
            "IN",
            "AL",
            "AR",
            "CT",
            "SD",
            "MA",
            "MO",
            "RI",
            "MI",
            "CA"
           ],
           "name": "",
           "type": "choropleth",
           "z": [
            9.4,
            8.5,
            8.4,
            7.8,
            7.1,
            8.7,
            13.5,
            10.4,
            8.1,
            7.4,
            9.7,
            4.6,
            9.5,
            6.9,
            7.7,
            10.3,
            5.8,
            10.4,
            10.6,
            10.9,
            9,
            8.1,
            8.1,
            8.7,
            7.9,
            10,
            11.2,
            8.7,
            7.3,
            7.1,
            6.8,
            6.4,
            10.5,
            6.1,
            8,
            3.8,
            6,
            11.1,
            10.4,
            8.6,
            10.2,
            10.4,
            10.5,
            8.2,
            9.1,
            5,
            8.3,
            9.6,
            11.2,
            12.6,
            12.2
           ]
          }
         ],
         "name": "2010"
        },
        {
         "data": [
          {
           "coloraxis": "coloraxis",
           "geo": "geo",
           "hovertemplate": "Year=2011<br>StateCode=%{location}<br>Unemployment Rate (%)=%{z}<extra></extra>",
           "locationmode": "USA-states",
           "locations": [
            "DC",
            "PA",
            "DE",
            "UT",
            "VA",
            "WI",
            "NV",
            "IL",
            "ME",
            "MN",
            "TN",
            "NE",
            "NJ",
            "HI",
            "MD",
            "OH",
            "NH",
            "AZ",
            "OR",
            "NC",
            "ID",
            "NM",
            "TX",
            "WV",
            "AK",
            "WA",
            "SC",
            "CO",
            "MT",
            "KS",
            "OK",
            "WY",
            "GA",
            "VT",
            "LA",
            "ND",
            "IA",
            "FL",
            "MS",
            "NY",
            "KY",
            "IN",
            "AL",
            "AR",
            "CT",
            "SD",
            "MA",
            "MO",
            "RI",
            "MI",
            "CA"
           ],
           "name": "",
           "type": "choropleth",
           "z": [
            10.2,
            7.9,
            7.5,
            6.7,
            6.6,
            7.8,
            13,
            9.7,
            7.9,
            6.5,
            9,
            4.4,
            9.3,
            6.8,
            7.2,
            8.8,
            5.4,
            9.5,
            9.5,
            10.3,
            8.3,
            7.5,
            7.8,
            8.1,
            7.6,
            9.3,
            10.6,
            8.4,
            6.9,
            6.5,
            5.9,
            5.8,
            10.2,
            5.5,
            7.8,
            3.5,
            5.5,
            10,
            10,
            8.3,
            9.4,
            9.1,
            9.6,
            8.3,
            8.8,
            4.7,
            7.3,
            8.5,
            11,
            10.4,
            11.7
           ]
          }
         ],
         "name": "2011"
        },
        {
         "data": [
          {
           "coloraxis": "coloraxis",
           "geo": "geo",
           "hovertemplate": "Year=2012<br>StateCode=%{location}<br>Unemployment Rate (%)=%{z}<extra></extra>",
           "locationmode": "USA-states",
           "locations": [
            "DC",
            "PA",
            "DE",
            "UT",
            "VA",
            "WI",
            "NV",
            "IL",
            "ME",
            "MN",
            "TN",
            "NE",
            "NJ",
            "HI",
            "MD",
            "OH",
            "NH",
            "AZ",
            "OR",
            "NC",
            "ID",
            "NM",
            "TX",
            "WV",
            "AK",
            "WA",
            "SC",
            "CO",
            "MT",
            "KS",
            "OK",
            "WY",
            "GA",
            "VT",
            "LA",
            "ND",
            "IA",
            "FL",
            "MS",
            "NY",
            "KY",
            "IN",
            "AL",
            "AR",
            "CT",
            "SD",
            "MA",
            "MO",
            "RI",
            "MI",
            "CA"
           ],
           "name": "",
           "type": "choropleth",
           "z": [
            9,
            7.8,
            7.2,
            5.4,
            6.1,
            7,
            11.2,
            9,
            7.5,
            5.6,
            7.8,
            4,
            9.3,
            6,
            7,
            7.4,
            5.5,
            8.3,
            8.8,
            9.3,
            7.2,
            7.1,
            6.7,
            7.5,
            7.1,
            8.1,
            9.2,
            7.9,
            6,
            5.7,
            5.2,
            5.3,
            9.2,
            5,
            7.1,
            3.1,
            5,
            8.5,
            9,
            8.5,
            8.2,
            8.3,
            8,
            7.6,
            8.3,
            4.3,
            6.7,
            6.9,
            10.4,
            9.1,
            10.4
           ]
          }
         ],
         "name": "2012"
        },
        {
         "data": [
          {
           "coloraxis": "coloraxis",
           "geo": "geo",
           "hovertemplate": "Year=2013<br>StateCode=%{location}<br>Unemployment Rate (%)=%{z}<extra></extra>",
           "locationmode": "USA-states",
           "locations": [
            "DC",
            "PA",
            "DE",
            "UT",
            "VA",
            "WI",
            "NV",
            "IL",
            "ME",
            "MN",
            "TN",
            "NE",
            "NJ",
            "HI",
            "MD",
            "OH",
            "NH",
            "AZ",
            "OR",
            "NC",
            "ID",
            "NM",
            "TX",
            "WV",
            "AK",
            "WA",
            "SC",
            "CO",
            "MT",
            "KS",
            "OK",
            "WY",
            "GA",
            "VT",
            "LA",
            "ND",
            "IA",
            "FL",
            "MS",
            "NY",
            "KY",
            "IN",
            "AL",
            "AR",
            "CT",
            "SD",
            "MA",
            "MO",
            "RI",
            "MI",
            "CA"
           ],
           "name": "",
           "type": "choropleth",
           "z": [
            8.5,
            7.4,
            6.7,
            4.6,
            5.7,
            6.7,
            9.6,
            9,
            6.6,
            5,
            7.8,
            3.8,
            8.2,
            4.9,
            6.6,
            7.5,
            5.1,
            7.7,
            7.9,
            8,
            6.1,
            6.9,
            6.3,
            6.8,
            7,
            7,
            7.6,
            6.9,
            5.4,
            5.3,
            5.3,
            4.7,
            8.2,
            4.4,
            6.7,
            2.9,
            4.7,
            7.2,
            8.5,
            7.7,
            8,
            7.7,
            7.2,
            7.2,
            7.8,
            3.8,
            6.7,
            6.7,
            9.3,
            8.8,
            8.9
           ]
          }
         ],
         "name": "2013"
        },
        {
         "data": [
          {
           "coloraxis": "coloraxis",
           "geo": "geo",
           "hovertemplate": "Year=2014<br>StateCode=%{location}<br>Unemployment Rate (%)=%{z}<extra></extra>",
           "locationmode": "USA-states",
           "locations": [
            "DC",
            "PA",
            "DE",
            "UT",
            "VA",
            "WI",
            "NV",
            "IL",
            "ME",
            "MN",
            "TN",
            "NE",
            "NJ",
            "HI",
            "MD",
            "OH",
            "NH",
            "AZ",
            "OR",
            "NC",
            "ID",
            "NM",
            "TX",
            "WV",
            "AK",
            "WA",
            "SC",
            "CO",
            "MT",
            "KS",
            "OK",
            "WY",
            "GA",
            "VT",
            "LA",
            "ND",
            "IA",
            "FL",
            "MS",
            "NY",
            "KY",
            "IN",
            "AL",
            "AR",
            "CT",
            "SD",
            "MA",
            "MO",
            "RI",
            "MI",
            "CA"
           ],
           "name": "",
           "type": "choropleth",
           "z": [
            7.8,
            5.9,
            5.7,
            3.8,
            5.2,
            5.4,
            7.9,
            7.1,
            5.6,
            4.2,
            6.6,
            3.3,
            6.8,
            4.4,
            5.8,
            5.8,
            4.3,
            6.8,
            6.8,
            6.3,
            4.8,
            6.7,
            5.1,
            6.6,
            6.9,
            6.1,
            6.5,
            5,
            4.7,
            4.5,
            4.5,
            4.1,
            7.1,
            3.9,
            6.4,
            2.7,
            4.2,
            6.3,
            7.5,
            6.3,
            6.5,
            6,
            6.8,
            6,
            6.6,
            3.4,
            5.7,
            6.1,
            7.7,
            7.2,
            7.5
           ]
          }
         ],
         "name": "2014"
        },
        {
         "data": [
          {
           "coloraxis": "coloraxis",
           "geo": "geo",
           "hovertemplate": "Year=2015<br>StateCode=%{location}<br>Unemployment Rate (%)=%{z}<extra></extra>",
           "locationmode": "USA-states",
           "locations": [
            "DC",
            "PA",
            "DE",
            "UT",
            "VA",
            "WI",
            "NV",
            "IL",
            "ME",
            "MN",
            "TN",
            "NE",
            "NJ",
            "HI",
            "MD",
            "OH",
            "NH",
            "AZ",
            "OR",
            "NC",
            "ID",
            "NM",
            "TX",
            "WV",
            "AK",
            "WA",
            "SC",
            "CO",
            "MT",
            "KS",
            "OK",
            "WY",
            "GA",
            "VT",
            "LA",
            "ND",
            "IA",
            "FL",
            "MS",
            "NY",
            "KY",
            "IN",
            "AL",
            "AR",
            "CT",
            "SD",
            "MA",
            "MO",
            "RI",
            "MI",
            "CA"
           ],
           "name": "",
           "type": "choropleth",
           "z": [
            6.9,
            5.3,
            4.9,
            3.6,
            4.5,
            4.5,
            6.7,
            6,
            4.4,
            3.7,
            5.6,
            3,
            5.8,
            3.6,
            5.1,
            4.9,
            3.4,
            6.1,
            5.6,
            5.7,
            4.1,
            6.5,
            4.4,
            6.7,
            6.5,
            5.6,
            6,
            3.9,
            4.2,
            4.2,
            4.4,
            4.3,
            6,
            3.6,
            6.3,
            2.8,
            3.8,
            5.5,
            6.4,
            5.3,
            5.3,
            4.8,
            6.1,
            5,
            5.7,
            3.1,
            4.8,
            5,
            6,
            5.4,
            6.2
           ]
          }
         ],
         "name": "2015"
        },
        {
         "data": [
          {
           "coloraxis": "coloraxis",
           "geo": "geo",
           "hovertemplate": "Year=2016<br>StateCode=%{location}<br>Unemployment Rate (%)=%{z}<extra></extra>",
           "locationmode": "USA-states",
           "locations": [
            "DC",
            "PA",
            "DE",
            "UT",
            "VA",
            "WI",
            "NV",
            "IL",
            "ME",
            "MN",
            "TN",
            "NE",
            "NJ",
            "HI",
            "MD",
            "OH",
            "NH",
            "AZ",
            "OR",
            "NC",
            "ID",
            "NM",
            "TX",
            "WV",
            "AK",
            "WA",
            "SC",
            "CO",
            "MT",
            "KS",
            "OK",
            "WY",
            "GA",
            "VT",
            "LA",
            "ND",
            "IA",
            "FL",
            "MS",
            "NY",
            "KY",
            "IN",
            "AL",
            "AR",
            "CT",
            "SD",
            "MA",
            "MO",
            "RI",
            "MI",
            "CA"
           ],
           "name": "",
           "type": "choropleth",
           "z": [
            6.1,
            5.4,
            4.5,
            3.4,
            4.1,
            4,
            5.7,
            5.8,
            3.8,
            3.9,
            4.7,
            3.1,
            5,
            3,
            4.5,
            5,
            2.9,
            5.4,
            4.8,
            5.1,
            3.8,
            6.6,
            4.6,
            6.1,
            6.9,
            5.3,
            5,
            3.3,
            4.1,
            4,
            4.8,
            5.3,
            5.4,
            3.2,
            6.1,
            3.1,
            3.6,
            4.8,
            5.8,
            4.9,
            5.1,
            4.4,
            5.8,
            4,
            5.1,
            3,
            3.9,
            4.6,
            5.2,
            5,
            5.5
           ]
          }
         ],
         "name": "2016"
        },
        {
         "data": [
          {
           "coloraxis": "coloraxis",
           "geo": "geo",
           "hovertemplate": "Year=2017<br>StateCode=%{location}<br>Unemployment Rate (%)=%{z}<extra></extra>",
           "locationmode": "USA-states",
           "locations": [
            "DC",
            "PA",
            "DE",
            "UT",
            "VA",
            "WI",
            "NV",
            "IL",
            "ME",
            "MN",
            "TN",
            "NE",
            "NJ",
            "HI",
            "MD",
            "OH",
            "NH",
            "AZ",
            "OR",
            "NC",
            "ID",
            "NM",
            "TX",
            "WV",
            "AK",
            "WA",
            "SC",
            "CO",
            "MT",
            "KS",
            "OK",
            "WY",
            "GA",
            "VT",
            "LA",
            "ND",
            "IA",
            "FL",
            "MS",
            "NY",
            "KY",
            "IN",
            "AL",
            "AR",
            "CT",
            "SD",
            "MA",
            "MO",
            "RI",
            "MI",
            "CA"
           ],
           "name": "",
           "type": "choropleth",
           "z": [
            6.1,
            4.9,
            4.5,
            3.3,
            3.7,
            3.3,
            5,
            4.9,
            3.4,
            3.4,
            3.8,
            2.9,
            4.6,
            2.4,
            4.2,
            5,
            2.7,
            4.9,
            4.1,
            4.5,
            3.2,
            5.9,
            4.3,
            5.2,
            6.9,
            4.7,
            4.3,
            2.8,
            3.9,
            3.6,
            4.2,
            4.2,
            4.7,
            2.9,
            5.1,
            2.7,
            3.1,
            4.2,
            5.1,
            4.7,
            4.9,
            3.6,
            4.4,
            3.7,
            4.7,
            3.2,
            3.7,
            3.7,
            4.4,
            4.6,
            4.8
           ]
          }
         ],
         "name": "2017"
        },
        {
         "data": [
          {
           "coloraxis": "coloraxis",
           "geo": "geo",
           "hovertemplate": "Year=2018<br>StateCode=%{location}<br>Unemployment Rate (%)=%{z}<extra></extra>",
           "locationmode": "USA-states",
           "locations": [
            "DC",
            "PA",
            "DE",
            "UT",
            "VA",
            "WI",
            "NV",
            "IL",
            "ME",
            "MN",
            "TN",
            "NE",
            "NJ",
            "HI",
            "MD",
            "OH",
            "NH",
            "AZ",
            "OR",
            "NC",
            "ID",
            "NM",
            "TX",
            "WV",
            "AK",
            "WA",
            "SC",
            "CO",
            "MT",
            "KS",
            "OK",
            "WY",
            "GA",
            "VT",
            "LA",
            "ND",
            "IA",
            "FL",
            "MS",
            "NY",
            "KY",
            "IN",
            "AL",
            "AR",
            "CT",
            "SD",
            "MA",
            "MO",
            "RI",
            "MI",
            "CA"
           ],
           "name": "",
           "type": "choropleth",
           "z": [
            5.7,
            4.2,
            3.8,
            3,
            3,
            3,
            4.4,
            4.3,
            3.2,
            2.9,
            3.5,
            2.9,
            4.1,
            2.5,
            3.9,
            4.5,
            2.6,
            4.7,
            4.1,
            4,
            2.9,
            4.9,
            3.8,
            5.2,
            6.5,
            4.5,
            3.5,
            3.2,
            3.6,
            3.3,
            3.4,
            3.9,
            3.9,
            2.5,
            4.9,
            2.6,
            2.6,
            3.6,
            4.8,
            4.1,
            4.3,
            3.5,
            3.9,
            3.6,
            4.1,
            3.1,
            3.4,
            3.2,
            4,
            4.1,
            4.3
           ]
          }
         ],
         "name": "2018"
        },
        {
         "data": [
          {
           "coloraxis": "coloraxis",
           "geo": "geo",
           "hovertemplate": "Year=2019<br>StateCode=%{location}<br>Unemployment Rate (%)=%{z}<extra></extra>",
           "locationmode": "USA-states",
           "locations": [
            "DC",
            "PA",
            "DE",
            "UT",
            "VA",
            "WI",
            "NV",
            "IL",
            "ME",
            "MN",
            "TN",
            "NE",
            "NJ",
            "HI",
            "MD",
            "OH",
            "NH",
            "AZ",
            "OR",
            "NC",
            "ID",
            "NM",
            "TX",
            "WV",
            "AK",
            "WA",
            "SC",
            "CO",
            "MT",
            "KS",
            "OK",
            "WY",
            "GA",
            "VT",
            "LA",
            "ND",
            "IA",
            "FL",
            "MS",
            "NY",
            "KY",
            "IN",
            "AL",
            "AR",
            "CT",
            "SD",
            "MA",
            "MO",
            "RI",
            "MI",
            "CA"
           ],
           "name": "",
           "type": "choropleth",
           "z": [
            5.5,
            4.4,
            3.8,
            2.6,
            2.8,
            3.3,
            3.9,
            4,
            3,
            3.2,
            3.4,
            3,
            3.6,
            2.7,
            3.6,
            4.1,
            2.5,
            4.7,
            3.7,
            3.9,
            2.9,
            4.9,
            3.5,
            4.9,
            6.1,
            4.3,
            2.8,
            2.8,
            3.5,
            3.2,
            3.3,
            3.6,
            3.4,
            2.4,
            4.8,
            2.4,
            2.7,
            3.1,
            5.4,
            4,
            4.3,
            3.3,
            3,
            3.5,
            3.7,
            3.3,
            2.9,
            3.3,
            3.6,
            4.1,
            4
           ]
          }
         ],
         "name": "2019"
        }
       ],
       "layout": {
        "coloraxis": {
         "cmax": 18,
         "cmin": 2,
         "colorbar": {
          "title": {
           "text": "Unemployment Rate (%)"
          }
         },
         "colorscale": [
          [
           0,
           "#0d0887"
          ],
          [
           0.1111111111111111,
           "#46039f"
          ],
          [
           0.2222222222222222,
           "#7201a8"
          ],
          [
           0.3333333333333333,
           "#9c179e"
          ],
          [
           0.4444444444444444,
           "#bd3786"
          ],
          [
           0.5555555555555556,
           "#d8576b"
          ],
          [
           0.6666666666666666,
           "#ed7953"
          ],
          [
           0.7777777777777778,
           "#fb9f3a"
          ],
          [
           0.8888888888888888,
           "#fdca26"
          ],
          [
           1,
           "#f0f921"
          ]
         ]
        },
        "geo": {
         "center": {},
         "domain": {
          "x": [
           0,
           1
          ],
          "y": [
           0,
           1
          ]
         },
         "projection": {
          "type": "albers usa"
         }
        },
        "legend": {
         "tracegroupgap": 0
        },
        "margin": {
         "t": 60
        },
        "sliders": [
         {
          "active": 0,
          "currentvalue": {
           "prefix": "Year="
          },
          "len": 0.9,
          "pad": {
           "b": 10,
           "t": 60
          },
          "steps": [
           {
            "args": [
             [
              "1976"
             ],
             {
              "frame": {
               "duration": 0,
               "redraw": true
              },
              "fromcurrent": true,
              "mode": "immediate",
              "transition": {
               "duration": 0,
               "easing": "linear"
              }
             }
            ],
            "label": "1976",
            "method": "animate"
           },
           {
            "args": [
             [
              "1977"
             ],
             {
              "frame": {
               "duration": 0,
               "redraw": true
              },
              "fromcurrent": true,
              "mode": "immediate",
              "transition": {
               "duration": 0,
               "easing": "linear"
              }
             }
            ],
            "label": "1977",
            "method": "animate"
           },
           {
            "args": [
             [
              "1978"
             ],
             {
              "frame": {
               "duration": 0,
               "redraw": true
              },
              "fromcurrent": true,
              "mode": "immediate",
              "transition": {
               "duration": 0,
               "easing": "linear"
              }
             }
            ],
            "label": "1978",
            "method": "animate"
           },
           {
            "args": [
             [
              "1979"
             ],
             {
              "frame": {
               "duration": 0,
               "redraw": true
              },
              "fromcurrent": true,
              "mode": "immediate",
              "transition": {
               "duration": 0,
               "easing": "linear"
              }
             }
            ],
            "label": "1979",
            "method": "animate"
           },
           {
            "args": [
             [
              "1980"
             ],
             {
              "frame": {
               "duration": 0,
               "redraw": true
              },
              "fromcurrent": true,
              "mode": "immediate",
              "transition": {
               "duration": 0,
               "easing": "linear"
              }
             }
            ],
            "label": "1980",
            "method": "animate"
           },
           {
            "args": [
             [
              "1981"
             ],
             {
              "frame": {
               "duration": 0,
               "redraw": true
              },
              "fromcurrent": true,
              "mode": "immediate",
              "transition": {
               "duration": 0,
               "easing": "linear"
              }
             }
            ],
            "label": "1981",
            "method": "animate"
           },
           {
            "args": [
             [
              "1982"
             ],
             {
              "frame": {
               "duration": 0,
               "redraw": true
              },
              "fromcurrent": true,
              "mode": "immediate",
              "transition": {
               "duration": 0,
               "easing": "linear"
              }
             }
            ],
            "label": "1982",
            "method": "animate"
           },
           {
            "args": [
             [
              "1983"
             ],
             {
              "frame": {
               "duration": 0,
               "redraw": true
              },
              "fromcurrent": true,
              "mode": "immediate",
              "transition": {
               "duration": 0,
               "easing": "linear"
              }
             }
            ],
            "label": "1983",
            "method": "animate"
           },
           {
            "args": [
             [
              "1984"
             ],
             {
              "frame": {
               "duration": 0,
               "redraw": true
              },
              "fromcurrent": true,
              "mode": "immediate",
              "transition": {
               "duration": 0,
               "easing": "linear"
              }
             }
            ],
            "label": "1984",
            "method": "animate"
           },
           {
            "args": [
             [
              "1985"
             ],
             {
              "frame": {
               "duration": 0,
               "redraw": true
              },
              "fromcurrent": true,
              "mode": "immediate",
              "transition": {
               "duration": 0,
               "easing": "linear"
              }
             }
            ],
            "label": "1985",
            "method": "animate"
           },
           {
            "args": [
             [
              "1986"
             ],
             {
              "frame": {
               "duration": 0,
               "redraw": true
              },
              "fromcurrent": true,
              "mode": "immediate",
              "transition": {
               "duration": 0,
               "easing": "linear"
              }
             }
            ],
            "label": "1986",
            "method": "animate"
           },
           {
            "args": [
             [
              "1987"
             ],
             {
              "frame": {
               "duration": 0,
               "redraw": true
              },
              "fromcurrent": true,
              "mode": "immediate",
              "transition": {
               "duration": 0,
               "easing": "linear"
              }
             }
            ],
            "label": "1987",
            "method": "animate"
           },
           {
            "args": [
             [
              "1988"
             ],
             {
              "frame": {
               "duration": 0,
               "redraw": true
              },
              "fromcurrent": true,
              "mode": "immediate",
              "transition": {
               "duration": 0,
               "easing": "linear"
              }
             }
            ],
            "label": "1988",
            "method": "animate"
           },
           {
            "args": [
             [
              "1989"
             ],
             {
              "frame": {
               "duration": 0,
               "redraw": true
              },
              "fromcurrent": true,
              "mode": "immediate",
              "transition": {
               "duration": 0,
               "easing": "linear"
              }
             }
            ],
            "label": "1989",
            "method": "animate"
           },
           {
            "args": [
             [
              "1990"
             ],
             {
              "frame": {
               "duration": 0,
               "redraw": true
              },
              "fromcurrent": true,
              "mode": "immediate",
              "transition": {
               "duration": 0,
               "easing": "linear"
              }
             }
            ],
            "label": "1990",
            "method": "animate"
           },
           {
            "args": [
             [
              "1991"
             ],
             {
              "frame": {
               "duration": 0,
               "redraw": true
              },
              "fromcurrent": true,
              "mode": "immediate",
              "transition": {
               "duration": 0,
               "easing": "linear"
              }
             }
            ],
            "label": "1991",
            "method": "animate"
           },
           {
            "args": [
             [
              "1992"
             ],
             {
              "frame": {
               "duration": 0,
               "redraw": true
              },
              "fromcurrent": true,
              "mode": "immediate",
              "transition": {
               "duration": 0,
               "easing": "linear"
              }
             }
            ],
            "label": "1992",
            "method": "animate"
           },
           {
            "args": [
             [
              "1993"
             ],
             {
              "frame": {
               "duration": 0,
               "redraw": true
              },
              "fromcurrent": true,
              "mode": "immediate",
              "transition": {
               "duration": 0,
               "easing": "linear"
              }
             }
            ],
            "label": "1993",
            "method": "animate"
           },
           {
            "args": [
             [
              "1994"
             ],
             {
              "frame": {
               "duration": 0,
               "redraw": true
              },
              "fromcurrent": true,
              "mode": "immediate",
              "transition": {
               "duration": 0,
               "easing": "linear"
              }
             }
            ],
            "label": "1994",
            "method": "animate"
           },
           {
            "args": [
             [
              "1995"
             ],
             {
              "frame": {
               "duration": 0,
               "redraw": true
              },
              "fromcurrent": true,
              "mode": "immediate",
              "transition": {
               "duration": 0,
               "easing": "linear"
              }
             }
            ],
            "label": "1995",
            "method": "animate"
           },
           {
            "args": [
             [
              "1996"
             ],
             {
              "frame": {
               "duration": 0,
               "redraw": true
              },
              "fromcurrent": true,
              "mode": "immediate",
              "transition": {
               "duration": 0,
               "easing": "linear"
              }
             }
            ],
            "label": "1996",
            "method": "animate"
           },
           {
            "args": [
             [
              "1997"
             ],
             {
              "frame": {
               "duration": 0,
               "redraw": true
              },
              "fromcurrent": true,
              "mode": "immediate",
              "transition": {
               "duration": 0,
               "easing": "linear"
              }
             }
            ],
            "label": "1997",
            "method": "animate"
           },
           {
            "args": [
             [
              "1998"
             ],
             {
              "frame": {
               "duration": 0,
               "redraw": true
              },
              "fromcurrent": true,
              "mode": "immediate",
              "transition": {
               "duration": 0,
               "easing": "linear"
              }
             }
            ],
            "label": "1998",
            "method": "animate"
           },
           {
            "args": [
             [
              "1999"
             ],
             {
              "frame": {
               "duration": 0,
               "redraw": true
              },
              "fromcurrent": true,
              "mode": "immediate",
              "transition": {
               "duration": 0,
               "easing": "linear"
              }
             }
            ],
            "label": "1999",
            "method": "animate"
           },
           {
            "args": [
             [
              "2000"
             ],
             {
              "frame": {
               "duration": 0,
               "redraw": true
              },
              "fromcurrent": true,
              "mode": "immediate",
              "transition": {
               "duration": 0,
               "easing": "linear"
              }
             }
            ],
            "label": "2000",
            "method": "animate"
           },
           {
            "args": [
             [
              "2001"
             ],
             {
              "frame": {
               "duration": 0,
               "redraw": true
              },
              "fromcurrent": true,
              "mode": "immediate",
              "transition": {
               "duration": 0,
               "easing": "linear"
              }
             }
            ],
            "label": "2001",
            "method": "animate"
           },
           {
            "args": [
             [
              "2002"
             ],
             {
              "frame": {
               "duration": 0,
               "redraw": true
              },
              "fromcurrent": true,
              "mode": "immediate",
              "transition": {
               "duration": 0,
               "easing": "linear"
              }
             }
            ],
            "label": "2002",
            "method": "animate"
           },
           {
            "args": [
             [
              "2003"
             ],
             {
              "frame": {
               "duration": 0,
               "redraw": true
              },
              "fromcurrent": true,
              "mode": "immediate",
              "transition": {
               "duration": 0,
               "easing": "linear"
              }
             }
            ],
            "label": "2003",
            "method": "animate"
           },
           {
            "args": [
             [
              "2004"
             ],
             {
              "frame": {
               "duration": 0,
               "redraw": true
              },
              "fromcurrent": true,
              "mode": "immediate",
              "transition": {
               "duration": 0,
               "easing": "linear"
              }
             }
            ],
            "label": "2004",
            "method": "animate"
           },
           {
            "args": [
             [
              "2005"
             ],
             {
              "frame": {
               "duration": 0,
               "redraw": true
              },
              "fromcurrent": true,
              "mode": "immediate",
              "transition": {
               "duration": 0,
               "easing": "linear"
              }
             }
            ],
            "label": "2005",
            "method": "animate"
           },
           {
            "args": [
             [
              "2006"
             ],
             {
              "frame": {
               "duration": 0,
               "redraw": true
              },
              "fromcurrent": true,
              "mode": "immediate",
              "transition": {
               "duration": 0,
               "easing": "linear"
              }
             }
            ],
            "label": "2006",
            "method": "animate"
           },
           {
            "args": [
             [
              "2007"
             ],
             {
              "frame": {
               "duration": 0,
               "redraw": true
              },
              "fromcurrent": true,
              "mode": "immediate",
              "transition": {
               "duration": 0,
               "easing": "linear"
              }
             }
            ],
            "label": "2007",
            "method": "animate"
           },
           {
            "args": [
             [
              "2008"
             ],
             {
              "frame": {
               "duration": 0,
               "redraw": true
              },
              "fromcurrent": true,
              "mode": "immediate",
              "transition": {
               "duration": 0,
               "easing": "linear"
              }
             }
            ],
            "label": "2008",
            "method": "animate"
           },
           {
            "args": [
             [
              "2009"
             ],
             {
              "frame": {
               "duration": 0,
               "redraw": true
              },
              "fromcurrent": true,
              "mode": "immediate",
              "transition": {
               "duration": 0,
               "easing": "linear"
              }
             }
            ],
            "label": "2009",
            "method": "animate"
           },
           {
            "args": [
             [
              "2010"
             ],
             {
              "frame": {
               "duration": 0,
               "redraw": true
              },
              "fromcurrent": true,
              "mode": "immediate",
              "transition": {
               "duration": 0,
               "easing": "linear"
              }
             }
            ],
            "label": "2010",
            "method": "animate"
           },
           {
            "args": [
             [
              "2011"
             ],
             {
              "frame": {
               "duration": 0,
               "redraw": true
              },
              "fromcurrent": true,
              "mode": "immediate",
              "transition": {
               "duration": 0,
               "easing": "linear"
              }
             }
            ],
            "label": "2011",
            "method": "animate"
           },
           {
            "args": [
             [
              "2012"
             ],
             {
              "frame": {
               "duration": 0,
               "redraw": true
              },
              "fromcurrent": true,
              "mode": "immediate",
              "transition": {
               "duration": 0,
               "easing": "linear"
              }
             }
            ],
            "label": "2012",
            "method": "animate"
           },
           {
            "args": [
             [
              "2013"
             ],
             {
              "frame": {
               "duration": 0,
               "redraw": true
              },
              "fromcurrent": true,
              "mode": "immediate",
              "transition": {
               "duration": 0,
               "easing": "linear"
              }
             }
            ],
            "label": "2013",
            "method": "animate"
           },
           {
            "args": [
             [
              "2014"
             ],
             {
              "frame": {
               "duration": 0,
               "redraw": true
              },
              "fromcurrent": true,
              "mode": "immediate",
              "transition": {
               "duration": 0,
               "easing": "linear"
              }
             }
            ],
            "label": "2014",
            "method": "animate"
           },
           {
            "args": [
             [
              "2015"
             ],
             {
              "frame": {
               "duration": 0,
               "redraw": true
              },
              "fromcurrent": true,
              "mode": "immediate",
              "transition": {
               "duration": 0,
               "easing": "linear"
              }
             }
            ],
            "label": "2015",
            "method": "animate"
           },
           {
            "args": [
             [
              "2016"
             ],
             {
              "frame": {
               "duration": 0,
               "redraw": true
              },
              "fromcurrent": true,
              "mode": "immediate",
              "transition": {
               "duration": 0,
               "easing": "linear"
              }
             }
            ],
            "label": "2016",
            "method": "animate"
           },
           {
            "args": [
             [
              "2017"
             ],
             {
              "frame": {
               "duration": 0,
               "redraw": true
              },
              "fromcurrent": true,
              "mode": "immediate",
              "transition": {
               "duration": 0,
               "easing": "linear"
              }
             }
            ],
            "label": "2017",
            "method": "animate"
           },
           {
            "args": [
             [
              "2018"
             ],
             {
              "frame": {
               "duration": 0,
               "redraw": true
              },
              "fromcurrent": true,
              "mode": "immediate",
              "transition": {
               "duration": 0,
               "easing": "linear"
              }
             }
            ],
            "label": "2018",
            "method": "animate"
           },
           {
            "args": [
             [
              "2019"
             ],
             {
              "frame": {
               "duration": 0,
               "redraw": true
              },
              "fromcurrent": true,
              "mode": "immediate",
              "transition": {
               "duration": 0,
               "easing": "linear"
              }
             }
            ],
            "label": "2019",
            "method": "animate"
           }
          ],
          "x": 0.1,
          "xanchor": "left",
          "y": 0,
          "yanchor": "top"
         }
        ],
        "template": {
         "data": {
          "bar": [
           {
            "error_x": {
             "color": "#2a3f5f"
            },
            "error_y": {
             "color": "#2a3f5f"
            },
            "marker": {
             "line": {
              "color": "#E5ECF6",
              "width": 0.5
             }
            },
            "type": "bar"
           }
          ],
          "barpolar": [
           {
            "marker": {
             "line": {
              "color": "#E5ECF6",
              "width": 0.5
             }
            },
            "type": "barpolar"
           }
          ],
          "carpet": [
           {
            "aaxis": {
             "endlinecolor": "#2a3f5f",
             "gridcolor": "white",
             "linecolor": "white",
             "minorgridcolor": "white",
             "startlinecolor": "#2a3f5f"
            },
            "baxis": {
             "endlinecolor": "#2a3f5f",
             "gridcolor": "white",
             "linecolor": "white",
             "minorgridcolor": "white",
             "startlinecolor": "#2a3f5f"
            },
            "type": "carpet"
           }
          ],
          "choropleth": [
           {
            "colorbar": {
             "outlinewidth": 0,
             "ticks": ""
            },
            "type": "choropleth"
           }
          ],
          "contour": [
           {
            "colorbar": {
             "outlinewidth": 0,
             "ticks": ""
            },
            "colorscale": [
             [
              0,
              "#0d0887"
             ],
             [
              0.1111111111111111,
              "#46039f"
             ],
             [
              0.2222222222222222,
              "#7201a8"
             ],
             [
              0.3333333333333333,
              "#9c179e"
             ],
             [
              0.4444444444444444,
              "#bd3786"
             ],
             [
              0.5555555555555556,
              "#d8576b"
             ],
             [
              0.6666666666666666,
              "#ed7953"
             ],
             [
              0.7777777777777778,
              "#fb9f3a"
             ],
             [
              0.8888888888888888,
              "#fdca26"
             ],
             [
              1,
              "#f0f921"
             ]
            ],
            "type": "contour"
           }
          ],
          "contourcarpet": [
           {
            "colorbar": {
             "outlinewidth": 0,
             "ticks": ""
            },
            "type": "contourcarpet"
           }
          ],
          "heatmap": [
           {
            "colorbar": {
             "outlinewidth": 0,
             "ticks": ""
            },
            "colorscale": [
             [
              0,
              "#0d0887"
             ],
             [
              0.1111111111111111,
              "#46039f"
             ],
             [
              0.2222222222222222,
              "#7201a8"
             ],
             [
              0.3333333333333333,
              "#9c179e"
             ],
             [
              0.4444444444444444,
              "#bd3786"
             ],
             [
              0.5555555555555556,
              "#d8576b"
             ],
             [
              0.6666666666666666,
              "#ed7953"
             ],
             [
              0.7777777777777778,
              "#fb9f3a"
             ],
             [
              0.8888888888888888,
              "#fdca26"
             ],
             [
              1,
              "#f0f921"
             ]
            ],
            "type": "heatmap"
           }
          ],
          "heatmapgl": [
           {
            "colorbar": {
             "outlinewidth": 0,
             "ticks": ""
            },
            "colorscale": [
             [
              0,
              "#0d0887"
             ],
             [
              0.1111111111111111,
              "#46039f"
             ],
             [
              0.2222222222222222,
              "#7201a8"
             ],
             [
              0.3333333333333333,
              "#9c179e"
             ],
             [
              0.4444444444444444,
              "#bd3786"
             ],
             [
              0.5555555555555556,
              "#d8576b"
             ],
             [
              0.6666666666666666,
              "#ed7953"
             ],
             [
              0.7777777777777778,
              "#fb9f3a"
             ],
             [
              0.8888888888888888,
              "#fdca26"
             ],
             [
              1,
              "#f0f921"
             ]
            ],
            "type": "heatmapgl"
           }
          ],
          "histogram": [
           {
            "marker": {
             "colorbar": {
              "outlinewidth": 0,
              "ticks": ""
             }
            },
            "type": "histogram"
           }
          ],
          "histogram2d": [
           {
            "colorbar": {
             "outlinewidth": 0,
             "ticks": ""
            },
            "colorscale": [
             [
              0,
              "#0d0887"
             ],
             [
              0.1111111111111111,
              "#46039f"
             ],
             [
              0.2222222222222222,
              "#7201a8"
             ],
             [
              0.3333333333333333,
              "#9c179e"
             ],
             [
              0.4444444444444444,
              "#bd3786"
             ],
             [
              0.5555555555555556,
              "#d8576b"
             ],
             [
              0.6666666666666666,
              "#ed7953"
             ],
             [
              0.7777777777777778,
              "#fb9f3a"
             ],
             [
              0.8888888888888888,
              "#fdca26"
             ],
             [
              1,
              "#f0f921"
             ]
            ],
            "type": "histogram2d"
           }
          ],
          "histogram2dcontour": [
           {
            "colorbar": {
             "outlinewidth": 0,
             "ticks": ""
            },
            "colorscale": [
             [
              0,
              "#0d0887"
             ],
             [
              0.1111111111111111,
              "#46039f"
             ],
             [
              0.2222222222222222,
              "#7201a8"
             ],
             [
              0.3333333333333333,
              "#9c179e"
             ],
             [
              0.4444444444444444,
              "#bd3786"
             ],
             [
              0.5555555555555556,
              "#d8576b"
             ],
             [
              0.6666666666666666,
              "#ed7953"
             ],
             [
              0.7777777777777778,
              "#fb9f3a"
             ],
             [
              0.8888888888888888,
              "#fdca26"
             ],
             [
              1,
              "#f0f921"
             ]
            ],
            "type": "histogram2dcontour"
           }
          ],
          "mesh3d": [
           {
            "colorbar": {
             "outlinewidth": 0,
             "ticks": ""
            },
            "type": "mesh3d"
           }
          ],
          "parcoords": [
           {
            "line": {
             "colorbar": {
              "outlinewidth": 0,
              "ticks": ""
             }
            },
            "type": "parcoords"
           }
          ],
          "pie": [
           {
            "automargin": true,
            "type": "pie"
           }
          ],
          "scatter": [
           {
            "marker": {
             "colorbar": {
              "outlinewidth": 0,
              "ticks": ""
             }
            },
            "type": "scatter"
           }
          ],
          "scatter3d": [
           {
            "line": {
             "colorbar": {
              "outlinewidth": 0,
              "ticks": ""
             }
            },
            "marker": {
             "colorbar": {
              "outlinewidth": 0,
              "ticks": ""
             }
            },
            "type": "scatter3d"
           }
          ],
          "scattercarpet": [
           {
            "marker": {
             "colorbar": {
              "outlinewidth": 0,
              "ticks": ""
             }
            },
            "type": "scattercarpet"
           }
          ],
          "scattergeo": [
           {
            "marker": {
             "colorbar": {
              "outlinewidth": 0,
              "ticks": ""
             }
            },
            "type": "scattergeo"
           }
          ],
          "scattergl": [
           {
            "marker": {
             "colorbar": {
              "outlinewidth": 0,
              "ticks": ""
             }
            },
            "type": "scattergl"
           }
          ],
          "scattermapbox": [
           {
            "marker": {
             "colorbar": {
              "outlinewidth": 0,
              "ticks": ""
             }
            },
            "type": "scattermapbox"
           }
          ],
          "scatterpolar": [
           {
            "marker": {
             "colorbar": {
              "outlinewidth": 0,
              "ticks": ""
             }
            },
            "type": "scatterpolar"
           }
          ],
          "scatterpolargl": [
           {
            "marker": {
             "colorbar": {
              "outlinewidth": 0,
              "ticks": ""
             }
            },
            "type": "scatterpolargl"
           }
          ],
          "scatterternary": [
           {
            "marker": {
             "colorbar": {
              "outlinewidth": 0,
              "ticks": ""
             }
            },
            "type": "scatterternary"
           }
          ],
          "surface": [
           {
            "colorbar": {
             "outlinewidth": 0,
             "ticks": ""
            },
            "colorscale": [
             [
              0,
              "#0d0887"
             ],
             [
              0.1111111111111111,
              "#46039f"
             ],
             [
              0.2222222222222222,
              "#7201a8"
             ],
             [
              0.3333333333333333,
              "#9c179e"
             ],
             [
              0.4444444444444444,
              "#bd3786"
             ],
             [
              0.5555555555555556,
              "#d8576b"
             ],
             [
              0.6666666666666666,
              "#ed7953"
             ],
             [
              0.7777777777777778,
              "#fb9f3a"
             ],
             [
              0.8888888888888888,
              "#fdca26"
             ],
             [
              1,
              "#f0f921"
             ]
            ],
            "type": "surface"
           }
          ],
          "table": [
           {
            "cells": {
             "fill": {
              "color": "#EBF0F8"
             },
             "line": {
              "color": "white"
             }
            },
            "header": {
             "fill": {
              "color": "#C8D4E3"
             },
             "line": {
              "color": "white"
             }
            },
            "type": "table"
           }
          ]
         },
         "layout": {
          "annotationdefaults": {
           "arrowcolor": "#2a3f5f",
           "arrowhead": 0,
           "arrowwidth": 1
          },
          "coloraxis": {
           "colorbar": {
            "outlinewidth": 0,
            "ticks": ""
           }
          },
          "colorscale": {
           "diverging": [
            [
             0,
             "#8e0152"
            ],
            [
             0.1,
             "#c51b7d"
            ],
            [
             0.2,
             "#de77ae"
            ],
            [
             0.3,
             "#f1b6da"
            ],
            [
             0.4,
             "#fde0ef"
            ],
            [
             0.5,
             "#f7f7f7"
            ],
            [
             0.6,
             "#e6f5d0"
            ],
            [
             0.7,
             "#b8e186"
            ],
            [
             0.8,
             "#7fbc41"
            ],
            [
             0.9,
             "#4d9221"
            ],
            [
             1,
             "#276419"
            ]
           ],
           "sequential": [
            [
             0,
             "#0d0887"
            ],
            [
             0.1111111111111111,
             "#46039f"
            ],
            [
             0.2222222222222222,
             "#7201a8"
            ],
            [
             0.3333333333333333,
             "#9c179e"
            ],
            [
             0.4444444444444444,
             "#bd3786"
            ],
            [
             0.5555555555555556,
             "#d8576b"
            ],
            [
             0.6666666666666666,
             "#ed7953"
            ],
            [
             0.7777777777777778,
             "#fb9f3a"
            ],
            [
             0.8888888888888888,
             "#fdca26"
            ],
            [
             1,
             "#f0f921"
            ]
           ],
           "sequentialminus": [
            [
             0,
             "#0d0887"
            ],
            [
             0.1111111111111111,
             "#46039f"
            ],
            [
             0.2222222222222222,
             "#7201a8"
            ],
            [
             0.3333333333333333,
             "#9c179e"
            ],
            [
             0.4444444444444444,
             "#bd3786"
            ],
            [
             0.5555555555555556,
             "#d8576b"
            ],
            [
             0.6666666666666666,
             "#ed7953"
            ],
            [
             0.7777777777777778,
             "#fb9f3a"
            ],
            [
             0.8888888888888888,
             "#fdca26"
            ],
            [
             1,
             "#f0f921"
            ]
           ]
          },
          "colorway": [
           "#636efa",
           "#EF553B",
           "#00cc96",
           "#ab63fa",
           "#FFA15A",
           "#19d3f3",
           "#FF6692",
           "#B6E880",
           "#FF97FF",
           "#FECB52"
          ],
          "font": {
           "color": "#2a3f5f"
          },
          "geo": {
           "bgcolor": "white",
           "lakecolor": "white",
           "landcolor": "#E5ECF6",
           "showlakes": true,
           "showland": true,
           "subunitcolor": "white"
          },
          "hoverlabel": {
           "align": "left"
          },
          "hovermode": "closest",
          "mapbox": {
           "style": "light"
          },
          "paper_bgcolor": "white",
          "plot_bgcolor": "#E5ECF6",
          "polar": {
           "angularaxis": {
            "gridcolor": "white",
            "linecolor": "white",
            "ticks": ""
           },
           "bgcolor": "#E5ECF6",
           "radialaxis": {
            "gridcolor": "white",
            "linecolor": "white",
            "ticks": ""
           }
          },
          "scene": {
           "xaxis": {
            "backgroundcolor": "#E5ECF6",
            "gridcolor": "white",
            "gridwidth": 2,
            "linecolor": "white",
            "showbackground": true,
            "ticks": "",
            "zerolinecolor": "white"
           },
           "yaxis": {
            "backgroundcolor": "#E5ECF6",
            "gridcolor": "white",
            "gridwidth": 2,
            "linecolor": "white",
            "showbackground": true,
            "ticks": "",
            "zerolinecolor": "white"
           },
           "zaxis": {
            "backgroundcolor": "#E5ECF6",
            "gridcolor": "white",
            "gridwidth": 2,
            "linecolor": "white",
            "showbackground": true,
            "ticks": "",
            "zerolinecolor": "white"
           }
          },
          "shapedefaults": {
           "line": {
            "color": "#2a3f5f"
           }
          },
          "ternary": {
           "aaxis": {
            "gridcolor": "white",
            "linecolor": "white",
            "ticks": ""
           },
           "baxis": {
            "gridcolor": "white",
            "linecolor": "white",
            "ticks": ""
           },
           "bgcolor": "#E5ECF6",
           "caxis": {
            "gridcolor": "white",
            "linecolor": "white",
            "ticks": ""
           }
          },
          "title": {
           "x": 0.05
          },
          "xaxis": {
           "automargin": true,
           "gridcolor": "white",
           "linecolor": "white",
           "ticks": "",
           "title": {
            "standoff": 15
           },
           "zerolinecolor": "white",
           "zerolinewidth": 2
          },
          "yaxis": {
           "automargin": true,
           "gridcolor": "white",
           "linecolor": "white",
           "ticks": "",
           "title": {
            "standoff": 15
           },
           "zerolinecolor": "white",
           "zerolinewidth": 2
          }
         }
        },
        "updatemenus": [
         {
          "buttons": [
           {
            "args": [
             null,
             {
              "frame": {
               "duration": 500,
               "redraw": true
              },
              "fromcurrent": true,
              "mode": "immediate",
              "transition": {
               "duration": 500,
               "easing": "linear"
              }
             }
            ],
            "label": "&#9654;",
            "method": "animate"
           },
           {
            "args": [
             [
              null
             ],
             {
              "frame": {
               "duration": 0,
               "redraw": true
              },
              "fromcurrent": true,
              "mode": "immediate",
              "transition": {
               "duration": 0,
               "easing": "linear"
              }
             }
            ],
            "label": "&#9724;",
            "method": "animate"
           }
          ],
          "direction": "left",
          "pad": {
           "r": 10,
           "t": 70
          },
          "showactive": false,
          "type": "buttons",
          "x": 0.1,
          "xanchor": "right",
          "y": 0,
          "yanchor": "top"
         }
        ]
       }
      },
      "text/html": [
       "<div>\n",
       "        \n",
       "        \n",
       "            <div id=\"c082dbe7-3516-4c12-b434-b9078e425319\" class=\"plotly-graph-div\" style=\"height:525px; width:100%;\"></div>\n",
       "            <script type=\"text/javascript\">\n",
       "                require([\"plotly\"], function(Plotly) {\n",
       "                    window.PLOTLYENV=window.PLOTLYENV || {};\n",
       "                    \n",
       "                if (document.getElementById(\"c082dbe7-3516-4c12-b434-b9078e425319\")) {\n",
       "                    Plotly.newPlot(\n",
       "                        'c082dbe7-3516-4c12-b434-b9078e425319',\n",
       "                        [{\"coloraxis\": \"coloraxis\", \"geo\": \"geo\", \"hovertemplate\": \"Year=1976<br>StateCode=%{location}<br>Unemployment Rate (%)=%{z}<extra></extra>\", \"locationmode\": \"USA-states\", \"locations\": [\"DC\", \"PA\", \"DE\", \"UT\", \"VA\", \"WI\", \"NV\", \"IL\", \"ME\", \"MN\", \"TN\", \"NE\", \"NJ\", \"HI\", \"MD\", \"OH\", \"NH\", \"AZ\", \"OR\", \"NC\", \"ID\", \"NM\", \"TX\", \"WV\", \"AK\", \"WA\", \"SC\", \"CO\", \"MT\", \"KS\", \"OK\", \"WY\", \"GA\", \"VT\", \"LA\", \"ND\", \"IA\", \"FL\", \"MS\", \"NY\", \"KY\", \"IN\", \"AL\", \"AR\", \"CT\", \"SD\", \"MA\", \"MO\", \"RI\", \"MI\", \"CA\"], \"name\": \"\", \"type\": \"choropleth\", \"z\": [9.0, 8.0, 8.8, 5.6, 5.9, 5.5, 8.8, 6.6, 8.7, 5.8, 6.1, 3.2, 10.4, 9.4, 6.6, 7.8, 6.5, 9.7, 9.4, 6.3, 5.6, 8.9, 5.8, 7.3, 7.6, 8.9, 7.2, 5.8, 6.0, 4.2, 5.7, 4.0, 8.2, 8.3, 6.7, 3.7, 4.0, 9.2, 6.6, 10.2, 5.4, 6.1, 6.8, 7.0, 9.3, 3.3, 9.6, 6.2, 8.2, 9.4, 9.1]}],\n",
       "                        {\"coloraxis\": {\"cmax\": 18, \"cmin\": 2, \"colorbar\": {\"title\": {\"text\": \"Unemployment Rate (%)\"}}, \"colorscale\": [[0.0, \"#0d0887\"], [0.1111111111111111, \"#46039f\"], [0.2222222222222222, \"#7201a8\"], [0.3333333333333333, \"#9c179e\"], [0.4444444444444444, \"#bd3786\"], [0.5555555555555556, \"#d8576b\"], [0.6666666666666666, \"#ed7953\"], [0.7777777777777778, \"#fb9f3a\"], [0.8888888888888888, \"#fdca26\"], [1.0, \"#f0f921\"]]}, \"geo\": {\"center\": {}, \"domain\": {\"x\": [0.0, 1.0], \"y\": [0.0, 1.0]}, \"projection\": {\"type\": \"albers usa\"}}, \"legend\": {\"tracegroupgap\": 0}, \"margin\": {\"t\": 60}, \"sliders\": [{\"active\": 0, \"currentvalue\": {\"prefix\": \"Year=\"}, \"len\": 0.9, \"pad\": {\"b\": 10, \"t\": 60}, \"steps\": [{\"args\": [[\"1976\"], {\"frame\": {\"duration\": 0, \"redraw\": true}, \"fromcurrent\": true, \"mode\": \"immediate\", \"transition\": {\"duration\": 0, \"easing\": \"linear\"}}], \"label\": \"1976\", \"method\": \"animate\"}, {\"args\": [[\"1977\"], {\"frame\": {\"duration\": 0, \"redraw\": true}, \"fromcurrent\": true, \"mode\": \"immediate\", \"transition\": {\"duration\": 0, \"easing\": \"linear\"}}], \"label\": \"1977\", \"method\": \"animate\"}, {\"args\": [[\"1978\"], {\"frame\": {\"duration\": 0, \"redraw\": true}, \"fromcurrent\": true, \"mode\": \"immediate\", \"transition\": {\"duration\": 0, \"easing\": \"linear\"}}], \"label\": \"1978\", \"method\": \"animate\"}, {\"args\": [[\"1979\"], {\"frame\": {\"duration\": 0, \"redraw\": true}, \"fromcurrent\": true, \"mode\": \"immediate\", \"transition\": {\"duration\": 0, \"easing\": \"linear\"}}], \"label\": \"1979\", \"method\": \"animate\"}, {\"args\": [[\"1980\"], {\"frame\": {\"duration\": 0, \"redraw\": true}, \"fromcurrent\": true, \"mode\": \"immediate\", \"transition\": {\"duration\": 0, \"easing\": \"linear\"}}], \"label\": \"1980\", \"method\": \"animate\"}, {\"args\": [[\"1981\"], {\"frame\": {\"duration\": 0, \"redraw\": true}, \"fromcurrent\": true, \"mode\": \"immediate\", \"transition\": {\"duration\": 0, \"easing\": \"linear\"}}], \"label\": \"1981\", \"method\": \"animate\"}, {\"args\": [[\"1982\"], {\"frame\": {\"duration\": 0, \"redraw\": true}, \"fromcurrent\": true, \"mode\": \"immediate\", \"transition\": {\"duration\": 0, \"easing\": \"linear\"}}], \"label\": \"1982\", \"method\": \"animate\"}, {\"args\": [[\"1983\"], {\"frame\": {\"duration\": 0, \"redraw\": true}, \"fromcurrent\": true, \"mode\": \"immediate\", \"transition\": {\"duration\": 0, \"easing\": \"linear\"}}], \"label\": \"1983\", \"method\": \"animate\"}, {\"args\": [[\"1984\"], {\"frame\": {\"duration\": 0, \"redraw\": true}, \"fromcurrent\": true, \"mode\": \"immediate\", \"transition\": {\"duration\": 0, \"easing\": \"linear\"}}], \"label\": \"1984\", \"method\": \"animate\"}, {\"args\": [[\"1985\"], {\"frame\": {\"duration\": 0, \"redraw\": true}, \"fromcurrent\": true, \"mode\": \"immediate\", \"transition\": {\"duration\": 0, \"easing\": \"linear\"}}], \"label\": \"1985\", \"method\": \"animate\"}, {\"args\": [[\"1986\"], {\"frame\": {\"duration\": 0, \"redraw\": true}, \"fromcurrent\": true, \"mode\": \"immediate\", \"transition\": {\"duration\": 0, \"easing\": \"linear\"}}], \"label\": \"1986\", \"method\": \"animate\"}, {\"args\": [[\"1987\"], {\"frame\": {\"duration\": 0, \"redraw\": true}, \"fromcurrent\": true, \"mode\": \"immediate\", \"transition\": {\"duration\": 0, \"easing\": \"linear\"}}], \"label\": \"1987\", \"method\": \"animate\"}, {\"args\": [[\"1988\"], {\"frame\": {\"duration\": 0, \"redraw\": true}, \"fromcurrent\": true, \"mode\": \"immediate\", \"transition\": {\"duration\": 0, \"easing\": \"linear\"}}], \"label\": \"1988\", \"method\": \"animate\"}, {\"args\": [[\"1989\"], {\"frame\": {\"duration\": 0, \"redraw\": true}, \"fromcurrent\": true, \"mode\": \"immediate\", \"transition\": {\"duration\": 0, \"easing\": \"linear\"}}], \"label\": \"1989\", \"method\": \"animate\"}, {\"args\": [[\"1990\"], {\"frame\": {\"duration\": 0, \"redraw\": true}, \"fromcurrent\": true, \"mode\": \"immediate\", \"transition\": {\"duration\": 0, \"easing\": \"linear\"}}], \"label\": \"1990\", \"method\": \"animate\"}, {\"args\": [[\"1991\"], {\"frame\": {\"duration\": 0, \"redraw\": true}, \"fromcurrent\": true, \"mode\": \"immediate\", \"transition\": {\"duration\": 0, \"easing\": \"linear\"}}], \"label\": \"1991\", \"method\": \"animate\"}, {\"args\": [[\"1992\"], {\"frame\": {\"duration\": 0, \"redraw\": true}, \"fromcurrent\": true, \"mode\": \"immediate\", \"transition\": {\"duration\": 0, \"easing\": \"linear\"}}], \"label\": \"1992\", \"method\": \"animate\"}, {\"args\": [[\"1993\"], {\"frame\": {\"duration\": 0, \"redraw\": true}, \"fromcurrent\": true, \"mode\": \"immediate\", \"transition\": {\"duration\": 0, \"easing\": \"linear\"}}], \"label\": \"1993\", \"method\": \"animate\"}, {\"args\": [[\"1994\"], {\"frame\": {\"duration\": 0, \"redraw\": true}, \"fromcurrent\": true, \"mode\": \"immediate\", \"transition\": {\"duration\": 0, \"easing\": \"linear\"}}], \"label\": \"1994\", \"method\": \"animate\"}, {\"args\": [[\"1995\"], {\"frame\": {\"duration\": 0, \"redraw\": true}, \"fromcurrent\": true, \"mode\": \"immediate\", \"transition\": {\"duration\": 0, \"easing\": \"linear\"}}], \"label\": \"1995\", \"method\": \"animate\"}, {\"args\": [[\"1996\"], {\"frame\": {\"duration\": 0, \"redraw\": true}, \"fromcurrent\": true, \"mode\": \"immediate\", \"transition\": {\"duration\": 0, \"easing\": \"linear\"}}], \"label\": \"1996\", \"method\": \"animate\"}, {\"args\": [[\"1997\"], {\"frame\": {\"duration\": 0, \"redraw\": true}, \"fromcurrent\": true, \"mode\": \"immediate\", \"transition\": {\"duration\": 0, \"easing\": \"linear\"}}], \"label\": \"1997\", \"method\": \"animate\"}, {\"args\": [[\"1998\"], {\"frame\": {\"duration\": 0, \"redraw\": true}, \"fromcurrent\": true, \"mode\": \"immediate\", \"transition\": {\"duration\": 0, \"easing\": \"linear\"}}], \"label\": \"1998\", \"method\": \"animate\"}, {\"args\": [[\"1999\"], {\"frame\": {\"duration\": 0, \"redraw\": true}, \"fromcurrent\": true, \"mode\": \"immediate\", \"transition\": {\"duration\": 0, \"easing\": \"linear\"}}], \"label\": \"1999\", \"method\": \"animate\"}, {\"args\": [[\"2000\"], {\"frame\": {\"duration\": 0, \"redraw\": true}, \"fromcurrent\": true, \"mode\": \"immediate\", \"transition\": {\"duration\": 0, \"easing\": \"linear\"}}], \"label\": \"2000\", \"method\": \"animate\"}, {\"args\": [[\"2001\"], {\"frame\": {\"duration\": 0, \"redraw\": true}, \"fromcurrent\": true, \"mode\": \"immediate\", \"transition\": {\"duration\": 0, \"easing\": \"linear\"}}], \"label\": \"2001\", \"method\": \"animate\"}, {\"args\": [[\"2002\"], {\"frame\": {\"duration\": 0, \"redraw\": true}, \"fromcurrent\": true, \"mode\": \"immediate\", \"transition\": {\"duration\": 0, \"easing\": \"linear\"}}], \"label\": \"2002\", \"method\": \"animate\"}, {\"args\": [[\"2003\"], {\"frame\": {\"duration\": 0, \"redraw\": true}, \"fromcurrent\": true, \"mode\": \"immediate\", \"transition\": {\"duration\": 0, \"easing\": \"linear\"}}], \"label\": \"2003\", \"method\": \"animate\"}, {\"args\": [[\"2004\"], {\"frame\": {\"duration\": 0, \"redraw\": true}, \"fromcurrent\": true, \"mode\": \"immediate\", \"transition\": {\"duration\": 0, \"easing\": \"linear\"}}], \"label\": \"2004\", \"method\": \"animate\"}, {\"args\": [[\"2005\"], {\"frame\": {\"duration\": 0, \"redraw\": true}, \"fromcurrent\": true, \"mode\": \"immediate\", \"transition\": {\"duration\": 0, \"easing\": \"linear\"}}], \"label\": \"2005\", \"method\": \"animate\"}, {\"args\": [[\"2006\"], {\"frame\": {\"duration\": 0, \"redraw\": true}, \"fromcurrent\": true, \"mode\": \"immediate\", \"transition\": {\"duration\": 0, \"easing\": \"linear\"}}], \"label\": \"2006\", \"method\": \"animate\"}, {\"args\": [[\"2007\"], {\"frame\": {\"duration\": 0, \"redraw\": true}, \"fromcurrent\": true, \"mode\": \"immediate\", \"transition\": {\"duration\": 0, \"easing\": \"linear\"}}], \"label\": \"2007\", \"method\": \"animate\"}, {\"args\": [[\"2008\"], {\"frame\": {\"duration\": 0, \"redraw\": true}, \"fromcurrent\": true, \"mode\": \"immediate\", \"transition\": {\"duration\": 0, \"easing\": \"linear\"}}], \"label\": \"2008\", \"method\": \"animate\"}, {\"args\": [[\"2009\"], {\"frame\": {\"duration\": 0, \"redraw\": true}, \"fromcurrent\": true, \"mode\": \"immediate\", \"transition\": {\"duration\": 0, \"easing\": \"linear\"}}], \"label\": \"2009\", \"method\": \"animate\"}, {\"args\": [[\"2010\"], {\"frame\": {\"duration\": 0, \"redraw\": true}, \"fromcurrent\": true, \"mode\": \"immediate\", \"transition\": {\"duration\": 0, \"easing\": \"linear\"}}], \"label\": \"2010\", \"method\": \"animate\"}, {\"args\": [[\"2011\"], {\"frame\": {\"duration\": 0, \"redraw\": true}, \"fromcurrent\": true, \"mode\": \"immediate\", \"transition\": {\"duration\": 0, \"easing\": \"linear\"}}], \"label\": \"2011\", \"method\": \"animate\"}, {\"args\": [[\"2012\"], {\"frame\": {\"duration\": 0, \"redraw\": true}, \"fromcurrent\": true, \"mode\": \"immediate\", \"transition\": {\"duration\": 0, \"easing\": \"linear\"}}], \"label\": \"2012\", \"method\": \"animate\"}, {\"args\": [[\"2013\"], {\"frame\": {\"duration\": 0, \"redraw\": true}, \"fromcurrent\": true, \"mode\": \"immediate\", \"transition\": {\"duration\": 0, \"easing\": \"linear\"}}], \"label\": \"2013\", \"method\": \"animate\"}, {\"args\": [[\"2014\"], {\"frame\": {\"duration\": 0, \"redraw\": true}, \"fromcurrent\": true, \"mode\": \"immediate\", \"transition\": {\"duration\": 0, \"easing\": \"linear\"}}], \"label\": \"2014\", \"method\": \"animate\"}, {\"args\": [[\"2015\"], {\"frame\": {\"duration\": 0, \"redraw\": true}, \"fromcurrent\": true, \"mode\": \"immediate\", \"transition\": {\"duration\": 0, \"easing\": \"linear\"}}], \"label\": \"2015\", \"method\": \"animate\"}, {\"args\": [[\"2016\"], {\"frame\": {\"duration\": 0, \"redraw\": true}, \"fromcurrent\": true, \"mode\": \"immediate\", \"transition\": {\"duration\": 0, \"easing\": \"linear\"}}], \"label\": \"2016\", \"method\": \"animate\"}, {\"args\": [[\"2017\"], {\"frame\": {\"duration\": 0, \"redraw\": true}, \"fromcurrent\": true, \"mode\": \"immediate\", \"transition\": {\"duration\": 0, \"easing\": \"linear\"}}], \"label\": \"2017\", \"method\": \"animate\"}, {\"args\": [[\"2018\"], {\"frame\": {\"duration\": 0, \"redraw\": true}, \"fromcurrent\": true, \"mode\": \"immediate\", \"transition\": {\"duration\": 0, \"easing\": \"linear\"}}], \"label\": \"2018\", \"method\": \"animate\"}, {\"args\": [[\"2019\"], {\"frame\": {\"duration\": 0, \"redraw\": true}, \"fromcurrent\": true, \"mode\": \"immediate\", \"transition\": {\"duration\": 0, \"easing\": \"linear\"}}], \"label\": \"2019\", \"method\": \"animate\"}], \"x\": 0.1, \"xanchor\": \"left\", \"y\": 0, \"yanchor\": \"top\"}], \"template\": {\"data\": {\"bar\": [{\"error_x\": {\"color\": \"#2a3f5f\"}, \"error_y\": {\"color\": \"#2a3f5f\"}, \"marker\": {\"line\": {\"color\": \"#E5ECF6\", \"width\": 0.5}}, \"type\": \"bar\"}], \"barpolar\": [{\"marker\": {\"line\": {\"color\": \"#E5ECF6\", \"width\": 0.5}}, \"type\": \"barpolar\"}], \"carpet\": [{\"aaxis\": {\"endlinecolor\": \"#2a3f5f\", \"gridcolor\": \"white\", \"linecolor\": \"white\", \"minorgridcolor\": \"white\", \"startlinecolor\": \"#2a3f5f\"}, \"baxis\": {\"endlinecolor\": \"#2a3f5f\", \"gridcolor\": \"white\", \"linecolor\": \"white\", \"minorgridcolor\": \"white\", \"startlinecolor\": \"#2a3f5f\"}, \"type\": \"carpet\"}], \"choropleth\": [{\"colorbar\": {\"outlinewidth\": 0, \"ticks\": \"\"}, \"type\": \"choropleth\"}], \"contour\": [{\"colorbar\": {\"outlinewidth\": 0, \"ticks\": \"\"}, \"colorscale\": [[0.0, \"#0d0887\"], [0.1111111111111111, \"#46039f\"], [0.2222222222222222, \"#7201a8\"], [0.3333333333333333, \"#9c179e\"], [0.4444444444444444, \"#bd3786\"], [0.5555555555555556, \"#d8576b\"], [0.6666666666666666, \"#ed7953\"], [0.7777777777777778, \"#fb9f3a\"], [0.8888888888888888, \"#fdca26\"], [1.0, \"#f0f921\"]], \"type\": \"contour\"}], \"contourcarpet\": [{\"colorbar\": {\"outlinewidth\": 0, \"ticks\": \"\"}, \"type\": \"contourcarpet\"}], \"heatmap\": [{\"colorbar\": {\"outlinewidth\": 0, \"ticks\": \"\"}, \"colorscale\": [[0.0, \"#0d0887\"], [0.1111111111111111, \"#46039f\"], [0.2222222222222222, \"#7201a8\"], [0.3333333333333333, \"#9c179e\"], [0.4444444444444444, \"#bd3786\"], [0.5555555555555556, \"#d8576b\"], [0.6666666666666666, \"#ed7953\"], [0.7777777777777778, \"#fb9f3a\"], [0.8888888888888888, \"#fdca26\"], [1.0, \"#f0f921\"]], \"type\": \"heatmap\"}], \"heatmapgl\": [{\"colorbar\": {\"outlinewidth\": 0, \"ticks\": \"\"}, \"colorscale\": [[0.0, \"#0d0887\"], [0.1111111111111111, \"#46039f\"], [0.2222222222222222, \"#7201a8\"], [0.3333333333333333, \"#9c179e\"], [0.4444444444444444, \"#bd3786\"], [0.5555555555555556, \"#d8576b\"], [0.6666666666666666, \"#ed7953\"], [0.7777777777777778, \"#fb9f3a\"], [0.8888888888888888, \"#fdca26\"], [1.0, \"#f0f921\"]], \"type\": \"heatmapgl\"}], \"histogram\": [{\"marker\": {\"colorbar\": {\"outlinewidth\": 0, \"ticks\": \"\"}}, \"type\": \"histogram\"}], \"histogram2d\": [{\"colorbar\": {\"outlinewidth\": 0, \"ticks\": \"\"}, \"colorscale\": [[0.0, \"#0d0887\"], [0.1111111111111111, \"#46039f\"], [0.2222222222222222, \"#7201a8\"], [0.3333333333333333, \"#9c179e\"], [0.4444444444444444, \"#bd3786\"], [0.5555555555555556, \"#d8576b\"], [0.6666666666666666, \"#ed7953\"], [0.7777777777777778, \"#fb9f3a\"], [0.8888888888888888, \"#fdca26\"], [1.0, \"#f0f921\"]], \"type\": \"histogram2d\"}], \"histogram2dcontour\": [{\"colorbar\": {\"outlinewidth\": 0, \"ticks\": \"\"}, \"colorscale\": [[0.0, \"#0d0887\"], [0.1111111111111111, \"#46039f\"], [0.2222222222222222, \"#7201a8\"], [0.3333333333333333, \"#9c179e\"], [0.4444444444444444, \"#bd3786\"], [0.5555555555555556, \"#d8576b\"], [0.6666666666666666, \"#ed7953\"], [0.7777777777777778, \"#fb9f3a\"], [0.8888888888888888, \"#fdca26\"], [1.0, \"#f0f921\"]], \"type\": \"histogram2dcontour\"}], \"mesh3d\": [{\"colorbar\": {\"outlinewidth\": 0, \"ticks\": \"\"}, \"type\": \"mesh3d\"}], \"parcoords\": [{\"line\": {\"colorbar\": {\"outlinewidth\": 0, \"ticks\": \"\"}}, \"type\": \"parcoords\"}], \"pie\": [{\"automargin\": true, \"type\": \"pie\"}], \"scatter\": [{\"marker\": {\"colorbar\": {\"outlinewidth\": 0, \"ticks\": \"\"}}, \"type\": \"scatter\"}], \"scatter3d\": [{\"line\": {\"colorbar\": {\"outlinewidth\": 0, \"ticks\": \"\"}}, \"marker\": {\"colorbar\": {\"outlinewidth\": 0, \"ticks\": \"\"}}, \"type\": \"scatter3d\"}], \"scattercarpet\": [{\"marker\": {\"colorbar\": {\"outlinewidth\": 0, \"ticks\": \"\"}}, \"type\": \"scattercarpet\"}], \"scattergeo\": [{\"marker\": {\"colorbar\": {\"outlinewidth\": 0, \"ticks\": \"\"}}, \"type\": \"scattergeo\"}], \"scattergl\": [{\"marker\": {\"colorbar\": {\"outlinewidth\": 0, \"ticks\": \"\"}}, \"type\": \"scattergl\"}], \"scattermapbox\": [{\"marker\": {\"colorbar\": {\"outlinewidth\": 0, \"ticks\": \"\"}}, \"type\": \"scattermapbox\"}], \"scatterpolar\": [{\"marker\": {\"colorbar\": {\"outlinewidth\": 0, \"ticks\": \"\"}}, \"type\": \"scatterpolar\"}], \"scatterpolargl\": [{\"marker\": {\"colorbar\": {\"outlinewidth\": 0, \"ticks\": \"\"}}, \"type\": \"scatterpolargl\"}], \"scatterternary\": [{\"marker\": {\"colorbar\": {\"outlinewidth\": 0, \"ticks\": \"\"}}, \"type\": \"scatterternary\"}], \"surface\": [{\"colorbar\": {\"outlinewidth\": 0, \"ticks\": \"\"}, \"colorscale\": [[0.0, \"#0d0887\"], [0.1111111111111111, \"#46039f\"], [0.2222222222222222, \"#7201a8\"], [0.3333333333333333, \"#9c179e\"], [0.4444444444444444, \"#bd3786\"], [0.5555555555555556, \"#d8576b\"], [0.6666666666666666, \"#ed7953\"], [0.7777777777777778, \"#fb9f3a\"], [0.8888888888888888, \"#fdca26\"], [1.0, \"#f0f921\"]], \"type\": \"surface\"}], \"table\": [{\"cells\": {\"fill\": {\"color\": \"#EBF0F8\"}, \"line\": {\"color\": \"white\"}}, \"header\": {\"fill\": {\"color\": \"#C8D4E3\"}, \"line\": {\"color\": \"white\"}}, \"type\": \"table\"}]}, \"layout\": {\"annotationdefaults\": {\"arrowcolor\": \"#2a3f5f\", \"arrowhead\": 0, \"arrowwidth\": 1}, \"coloraxis\": {\"colorbar\": {\"outlinewidth\": 0, \"ticks\": \"\"}}, \"colorscale\": {\"diverging\": [[0, \"#8e0152\"], [0.1, \"#c51b7d\"], [0.2, \"#de77ae\"], [0.3, \"#f1b6da\"], [0.4, \"#fde0ef\"], [0.5, \"#f7f7f7\"], [0.6, \"#e6f5d0\"], [0.7, \"#b8e186\"], [0.8, \"#7fbc41\"], [0.9, \"#4d9221\"], [1, \"#276419\"]], \"sequential\": [[0.0, \"#0d0887\"], [0.1111111111111111, \"#46039f\"], [0.2222222222222222, \"#7201a8\"], [0.3333333333333333, \"#9c179e\"], [0.4444444444444444, \"#bd3786\"], [0.5555555555555556, \"#d8576b\"], [0.6666666666666666, \"#ed7953\"], [0.7777777777777778, \"#fb9f3a\"], [0.8888888888888888, \"#fdca26\"], [1.0, \"#f0f921\"]], \"sequentialminus\": [[0.0, \"#0d0887\"], [0.1111111111111111, \"#46039f\"], [0.2222222222222222, \"#7201a8\"], [0.3333333333333333, \"#9c179e\"], [0.4444444444444444, \"#bd3786\"], [0.5555555555555556, \"#d8576b\"], [0.6666666666666666, \"#ed7953\"], [0.7777777777777778, \"#fb9f3a\"], [0.8888888888888888, \"#fdca26\"], [1.0, \"#f0f921\"]]}, \"colorway\": [\"#636efa\", \"#EF553B\", \"#00cc96\", \"#ab63fa\", \"#FFA15A\", \"#19d3f3\", \"#FF6692\", \"#B6E880\", \"#FF97FF\", \"#FECB52\"], \"font\": {\"color\": \"#2a3f5f\"}, \"geo\": {\"bgcolor\": \"white\", \"lakecolor\": \"white\", \"landcolor\": \"#E5ECF6\", \"showlakes\": true, \"showland\": true, \"subunitcolor\": \"white\"}, \"hoverlabel\": {\"align\": \"left\"}, \"hovermode\": \"closest\", \"mapbox\": {\"style\": \"light\"}, \"paper_bgcolor\": \"white\", \"plot_bgcolor\": \"#E5ECF6\", \"polar\": {\"angularaxis\": {\"gridcolor\": \"white\", \"linecolor\": \"white\", \"ticks\": \"\"}, \"bgcolor\": \"#E5ECF6\", \"radialaxis\": {\"gridcolor\": \"white\", \"linecolor\": \"white\", \"ticks\": \"\"}}, \"scene\": {\"xaxis\": {\"backgroundcolor\": \"#E5ECF6\", \"gridcolor\": \"white\", \"gridwidth\": 2, \"linecolor\": \"white\", \"showbackground\": true, \"ticks\": \"\", \"zerolinecolor\": \"white\"}, \"yaxis\": {\"backgroundcolor\": \"#E5ECF6\", \"gridcolor\": \"white\", \"gridwidth\": 2, \"linecolor\": \"white\", \"showbackground\": true, \"ticks\": \"\", \"zerolinecolor\": \"white\"}, \"zaxis\": {\"backgroundcolor\": \"#E5ECF6\", \"gridcolor\": \"white\", \"gridwidth\": 2, \"linecolor\": \"white\", \"showbackground\": true, \"ticks\": \"\", \"zerolinecolor\": \"white\"}}, \"shapedefaults\": {\"line\": {\"color\": \"#2a3f5f\"}}, \"ternary\": {\"aaxis\": {\"gridcolor\": \"white\", \"linecolor\": \"white\", \"ticks\": \"\"}, \"baxis\": {\"gridcolor\": \"white\", \"linecolor\": \"white\", \"ticks\": \"\"}, \"bgcolor\": \"#E5ECF6\", \"caxis\": {\"gridcolor\": \"white\", \"linecolor\": \"white\", \"ticks\": \"\"}}, \"title\": {\"x\": 0.05}, \"xaxis\": {\"automargin\": true, \"gridcolor\": \"white\", \"linecolor\": \"white\", \"ticks\": \"\", \"title\": {\"standoff\": 15}, \"zerolinecolor\": \"white\", \"zerolinewidth\": 2}, \"yaxis\": {\"automargin\": true, \"gridcolor\": \"white\", \"linecolor\": \"white\", \"ticks\": \"\", \"title\": {\"standoff\": 15}, \"zerolinecolor\": \"white\", \"zerolinewidth\": 2}}}, \"updatemenus\": [{\"buttons\": [{\"args\": [null, {\"frame\": {\"duration\": 500, \"redraw\": true}, \"fromcurrent\": true, \"mode\": \"immediate\", \"transition\": {\"duration\": 500, \"easing\": \"linear\"}}], \"label\": \"&#9654;\", \"method\": \"animate\"}, {\"args\": [[null], {\"frame\": {\"duration\": 0, \"redraw\": true}, \"fromcurrent\": true, \"mode\": \"immediate\", \"transition\": {\"duration\": 0, \"easing\": \"linear\"}}], \"label\": \"&#9724;\", \"method\": \"animate\"}], \"direction\": \"left\", \"pad\": {\"r\": 10, \"t\": 70}, \"showactive\": false, \"type\": \"buttons\", \"x\": 0.1, \"xanchor\": \"right\", \"y\": 0, \"yanchor\": \"top\"}]},\n",
       "                        {\"responsive\": true}\n",
       "                    ).then(function(){\n",
       "                            Plotly.addFrames('c082dbe7-3516-4c12-b434-b9078e425319', [{\"data\": [{\"coloraxis\": \"coloraxis\", \"geo\": \"geo\", \"hovertemplate\": \"Year=1976<br>StateCode=%{location}<br>Unemployment Rate (%)=%{z}<extra></extra>\", \"locationmode\": \"USA-states\", \"locations\": [\"DC\", \"PA\", \"DE\", \"UT\", \"VA\", \"WI\", \"NV\", \"IL\", \"ME\", \"MN\", \"TN\", \"NE\", \"NJ\", \"HI\", \"MD\", \"OH\", \"NH\", \"AZ\", \"OR\", \"NC\", \"ID\", \"NM\", \"TX\", \"WV\", \"AK\", \"WA\", \"SC\", \"CO\", \"MT\", \"KS\", \"OK\", \"WY\", \"GA\", \"VT\", \"LA\", \"ND\", \"IA\", \"FL\", \"MS\", \"NY\", \"KY\", \"IN\", \"AL\", \"AR\", \"CT\", \"SD\", \"MA\", \"MO\", \"RI\", \"MI\", \"CA\"], \"name\": \"\", \"z\": [9.0, 8.0, 8.8, 5.6, 5.9, 5.5, 8.8, 6.6, 8.7, 5.8, 6.1, 3.2, 10.4, 9.4, 6.6, 7.8, 6.5, 9.7, 9.4, 6.3, 5.6, 8.9, 5.8, 7.3, 7.6, 8.9, 7.2, 5.8, 6.0, 4.2, 5.7, 4.0, 8.2, 8.3, 6.7, 3.7, 4.0, 9.2, 6.6, 10.2, 5.4, 6.1, 6.8, 7.0, 9.3, 3.3, 9.6, 6.2, 8.2, 9.4, 9.1], \"type\": \"choropleth\"}], \"name\": \"1976\"}, {\"data\": [{\"coloraxis\": \"coloraxis\", \"geo\": \"geo\", \"hovertemplate\": \"Year=1977<br>StateCode=%{location}<br>Unemployment Rate (%)=%{z}<extra></extra>\", \"locationmode\": \"USA-states\", \"locations\": [\"DC\", \"PA\", \"DE\", \"UT\", \"VA\", \"WI\", \"NV\", \"IL\", \"ME\", \"MN\", \"TN\", \"NE\", \"NJ\", \"HI\", \"MD\", \"OH\", \"NH\", \"AZ\", \"OR\", \"NC\", \"ID\", \"NM\", \"TX\", \"WV\", \"AK\", \"WA\", \"SC\", \"CO\", \"MT\", \"KS\", \"OK\", \"WY\", \"GA\", \"VT\", \"LA\", \"ND\", \"IA\", \"FL\", \"MS\", \"NY\", \"KY\", \"IN\", \"AL\", \"AR\", \"CT\", \"SD\", \"MA\", \"MO\", \"RI\", \"MI\", \"CA\"], \"name\": \"\", \"z\": [9.2, 7.7, 8.5, 5.1, 5.5, 5.1, 6.7, 6.2, 8.3, 5.3, 6.2, 3.4, 9.4, 7.9, 6.3, 6.5, 5.4, 8.2, 7.4, 5.9, 5.8, 7.6, 5.3, 6.9, 9.9, 8.5, 6.9, 6.4, 6.3, 3.9, 4.9, 3.4, 6.9, 7.0, 7.1, 4.5, 3.9, 8.2, 7.3, 9.1, 4.8, 5.8, 7.3, 6.5, 7.0, 3.3, 7.8, 6.0, 8.0, 8.2, 8.3], \"type\": \"choropleth\"}], \"name\": \"1977\"}, {\"data\": [{\"coloraxis\": \"coloraxis\", \"geo\": \"geo\", \"hovertemplate\": \"Year=1978<br>StateCode=%{location}<br>Unemployment Rate (%)=%{z}<extra></extra>\", \"locationmode\": \"USA-states\", \"locations\": [\"DC\", \"PA\", \"DE\", \"UT\", \"VA\", \"WI\", \"NV\", \"IL\", \"ME\", \"MN\", \"TN\", \"NE\", \"NJ\", \"HI\", \"MD\", \"OH\", \"NH\", \"AZ\", \"OR\", \"NC\", \"ID\", \"NM\", \"TX\", \"WV\", \"AK\", \"WA\", \"SC\", \"CO\", \"MT\", \"KS\", \"OK\", \"WY\", \"GA\", \"VT\", \"LA\", \"ND\", \"IA\", \"FL\", \"MS\", \"NY\", \"KY\", \"IN\", \"AL\", \"AR\", \"CT\", \"SD\", \"MA\", \"MO\", \"RI\", \"MI\", \"CA\"], \"name\": \"\", \"z\": [8.3, 6.9, 7.4, 3.8, 5.3, 5.0, 4.5, 6.0, 6.4, 3.9, 5.8, 3.1, 7.3, 7.1, 5.5, 5.5, 3.8, 6.0, 6.0, 4.5, 5.4, 5.9, 4.8, 6.2, 10.6, 6.9, 5.7, 5.5, 5.7, 3.1, 3.6, 3.0, 5.7, 5.6, 6.8, 4.3, 3.9, 6.7, 6.9, 7.8, 5.1, 5.6, 6.4, 6.2, 5.2, 3.1, 6.2, 4.9, 6.6, 7.0, 7.2], \"type\": \"choropleth\"}], \"name\": \"1978\"}, {\"data\": [{\"coloraxis\": \"coloraxis\", \"geo\": \"geo\", \"hovertemplate\": \"Year=1979<br>StateCode=%{location}<br>Unemployment Rate (%)=%{z}<extra></extra>\", \"locationmode\": \"USA-states\", \"locations\": [\"DC\", \"PA\", \"DE\", \"UT\", \"VA\", \"WI\", \"NV\", \"IL\", \"ME\", \"MN\", \"TN\", \"NE\", \"NJ\", \"HI\", \"MD\", \"OH\", \"NH\", \"AZ\", \"OR\", \"NC\", \"ID\", \"NM\", \"TX\", \"WV\", \"AK\", \"WA\", \"SC\", \"CO\", \"MT\", \"KS\", \"OK\", \"WY\", \"GA\", \"VT\", \"LA\", \"ND\", \"IA\", \"FL\", \"MS\", \"NY\", \"KY\", \"IN\", \"AL\", \"AR\", \"CT\", \"SD\", \"MA\", \"MO\", \"RI\", \"MI\", \"CA\"], \"name\": \"\", \"z\": [7.0, 6.9, 7.2, 4.3, 4.7, 4.6, 4.9, 5.5, 6.8, 4.2, 5.8, 3.0, 6.9, 6.1, 5.8, 5.8, 3.2, 5.1, 6.7, 4.8, 5.8, 6.4, 4.3, 6.9, 9.3, 6.6, 5.0, 4.7, 5.2, 3.2, 3.4, 2.7, 5.1, 5.1, 6.6, 4.0, 4.2, 5.9, 5.7, 7.2, 5.5, 6.5, 7.2, 6.2, 5.1, 3.4, 5.5, 4.8, 6.4, 7.8, 6.2], \"type\": \"choropleth\"}], \"name\": \"1979\"}, {\"data\": [{\"coloraxis\": \"coloraxis\", \"geo\": \"geo\", \"hovertemplate\": \"Year=1980<br>StateCode=%{location}<br>Unemployment Rate (%)=%{z}<extra></extra>\", \"locationmode\": \"USA-states\", \"locations\": [\"DC\", \"PA\", \"DE\", \"UT\", \"VA\", \"WI\", \"NV\", \"IL\", \"ME\", \"MN\", \"TN\", \"NE\", \"NJ\", \"HI\", \"MD\", \"OH\", \"NH\", \"AZ\", \"OR\", \"NC\", \"ID\", \"NM\", \"TX\", \"WV\", \"AK\", \"WA\", \"SC\", \"CO\", \"MT\", \"KS\", \"OK\", \"WY\", \"GA\", \"VT\", \"LA\", \"ND\", \"IA\", \"FL\", \"MS\", \"NY\", \"KY\", \"IN\", \"AL\", \"AR\", \"CT\", \"SD\", \"MA\", \"MO\", \"RI\", \"MI\", \"CA\"], \"name\": \"\", \"z\": [7.4, 8.0, 7.6, 6.2, 5.2, 7.2, 6.2, 8.2, 7.6, 5.8, 7.4, 3.9, 7.2, 5.0, 6.6, 8.4, 4.5, 6.6, 8.5, 6.4, 7.5, 7.6, 5.1, 9.5, 9.6, 8.1, 6.7, 5.8, 6.1, 4.4, 4.4, 3.9, 6.3, 6.2, 6.9, 4.9, 6.0, 6.1, 7.4, 7.5, 8.0, 9.6, 8.9, 7.6, 5.8, 4.8, 5.6, 7.2, 7.2, 12.3, 6.8], \"type\": \"choropleth\"}], \"name\": \"1980\"}, {\"data\": [{\"coloraxis\": \"coloraxis\", \"geo\": \"geo\", \"hovertemplate\": \"Year=1981<br>StateCode=%{location}<br>Unemployment Rate (%)=%{z}<extra></extra>\", \"locationmode\": \"USA-states\", \"locations\": [\"DC\", \"PA\", \"DE\", \"UT\", \"VA\", \"WI\", \"NV\", \"IL\", \"ME\", \"MN\", \"TN\", \"NE\", \"NJ\", \"HI\", \"MD\", \"OH\", \"NH\", \"AZ\", \"OR\", \"NC\", \"ID\", \"NM\", \"TX\", \"WV\", \"AK\", \"WA\", \"SC\", \"CO\", \"MT\", \"KS\", \"OK\", \"WY\", \"GA\", \"VT\", \"LA\", \"ND\", \"IA\", \"FL\", \"MS\", \"NY\", \"KY\", \"IN\", \"AL\", \"AR\", \"CT\", \"SD\", \"MA\", \"MO\", \"RI\", \"MI\", \"CA\"], \"name\": \"\", \"z\": [8.9, 8.4, 7.8, 6.6, 6.0, 8.0, 7.2, 8.5, 7.4, 5.8, 9.0, 4.2, 7.4, 5.4, 7.3, 9.4, 5.2, 6.2, 9.8, 6.5, 7.7, 7.3, 5.3, 10.6, 9.4, 9.6, 8.1, 5.7, 6.8, 4.3, 3.6, 4.1, 6.4, 5.8, 8.4, 4.8, 6.6, 6.7, 8.5, 7.6, 8.6, 9.9, 10.6, 8.7, 6.2, 5.0, 6.5, 7.6, 7.8, 12.4, 7.4], \"type\": \"choropleth\"}], \"name\": \"1981\"}, {\"data\": [{\"coloraxis\": \"coloraxis\", \"geo\": \"geo\", \"hovertemplate\": \"Year=1982<br>StateCode=%{location}<br>Unemployment Rate (%)=%{z}<extra></extra>\", \"locationmode\": \"USA-states\", \"locations\": [\"DC\", \"PA\", \"DE\", \"UT\", \"VA\", \"WI\", \"NV\", \"IL\", \"ME\", \"MN\", \"TN\", \"NE\", \"NJ\", \"HI\", \"MD\", \"OH\", \"NH\", \"AZ\", \"OR\", \"NC\", \"ID\", \"NM\", \"TX\", \"WV\", \"AK\", \"WA\", \"SC\", \"CO\", \"MT\", \"KS\", \"OK\", \"WY\", \"GA\", \"VT\", \"LA\", \"ND\", \"IA\", \"FL\", \"MS\", \"NY\", \"KY\", \"IN\", \"AL\", \"AR\", \"CT\", \"SD\", \"MA\", \"MO\", \"RI\", \"MI\", \"CA\"], \"name\": \"\", \"z\": [10.4, 11.2, 8.4, 8.2, 7.4, 10.5, 9.9, 11.4, 8.4, 7.9, 11.7, 5.6, 8.7, 6.3, 8.3, 12.7, 6.8, 10.1, 11.5, 9.2, 9.9, 9.2, 6.9, 14.0, 9.9, 11.9, 11.1, 7.3, 8.5, 6.3, 6.0, 6.2, 7.8, 7.0, 10.3, 5.6, 8.5, 8.4, 11.1, 8.5, 10.8, 12.0, 14.1, 9.9, 6.9, 5.5, 7.7, 9.2, 9.7, 15.4, 10.0], \"type\": \"choropleth\"}], \"name\": \"1982\"}, {\"data\": [{\"coloraxis\": \"coloraxis\", \"geo\": \"geo\", \"hovertemplate\": \"Year=1983<br>StateCode=%{location}<br>Unemployment Rate (%)=%{z}<extra></extra>\", \"locationmode\": \"USA-states\", \"locations\": [\"DC\", \"PA\", \"DE\", \"UT\", \"VA\", \"WI\", \"NV\", \"IL\", \"ME\", \"MN\", \"TN\", \"NE\", \"NJ\", \"HI\", \"MD\", \"OH\", \"NH\", \"AZ\", \"OR\", \"NC\", \"ID\", \"NM\", \"TX\", \"WV\", \"AK\", \"WA\", \"SC\", \"CO\", \"MT\", \"KS\", \"OK\", \"WY\", \"GA\", \"VT\", \"LA\", \"ND\", \"IA\", \"FL\", \"MS\", \"NY\", \"KY\", \"IN\", \"AL\", \"AR\", \"CT\", \"SD\", \"MA\", \"MO\", \"RI\", \"MI\", \"CA\"], \"name\": \"\", \"z\": [11.2, 11.5, 7.7, 8.7, 6.4, 10.2, 9.6, 11.8, 8.3, 8.0, 11.5, 5.6, 8.0, 6.2, 7.0, 12.4, 5.5, 8.8, 10.8, 9.0, 8.9, 9.7, 7.9, 17.8, 9.9, 11.1, 9.9, 7.1, 8.6, 5.9, 8.4, 8.2, 7.7, 6.4, 11.5, 5.7, 8.1, 8.5, 12.1, 8.7, 11.4, 11.2, 13.8, 9.9, 6.0, 5.2, 6.8, 9.9, 8.3, 14.4, 9.8], \"type\": \"choropleth\"}], \"name\": \"1983\"}, {\"data\": [{\"coloraxis\": \"coloraxis\", \"geo\": \"geo\", \"hovertemplate\": \"Year=1984<br>StateCode=%{location}<br>Unemployment Rate (%)=%{z}<extra></extra>\", \"locationmode\": \"USA-states\", \"locations\": [\"DC\", \"PA\", \"DE\", \"UT\", \"VA\", \"WI\", \"NV\", \"IL\", \"ME\", \"MN\", \"TN\", \"NE\", \"NJ\", \"HI\", \"MD\", \"OH\", \"NH\", \"AZ\", \"OR\", \"NC\", \"ID\", \"NM\", \"TX\", \"WV\", \"AK\", \"WA\", \"SC\", \"CO\", \"MT\", \"KS\", \"OK\", \"WY\", \"GA\", \"VT\", \"LA\", \"ND\", \"IA\", \"FL\", \"MS\", \"NY\", \"KY\", \"IN\", \"AL\", \"AR\", \"CT\", \"SD\", \"MA\", \"MO\", \"RI\", \"MI\", \"CA\"], \"name\": \"\", \"z\": [9.1, 9.1, 6.3, 6.5, 5.1, 7.4, 7.9, 9.0, 6.2, 6.3, 8.5, 4.5, 6.2, 5.7, 5.4, 9.5, 4.3, 5.2, 9.4, 6.7, 7.3, 7.8, 6.1, 14.8, 9.8, 9.3, 6.9, 5.4, 7.6, 4.9, 7.1, 6.3, 6.1, 5.1, 10.1, 5.3, 7.0, 6.4, 10.5, 7.2, 9.3, 8.6, 11.0, 8.7, 4.7, 4.4, 4.8, 7.2, 5.5, 11.2, 7.8], \"type\": \"choropleth\"}], \"name\": \"1984\"}, {\"data\": [{\"coloraxis\": \"coloraxis\", \"geo\": \"geo\", \"hovertemplate\": \"Year=1985<br>StateCode=%{location}<br>Unemployment Rate (%)=%{z}<extra></extra>\", \"locationmode\": \"USA-states\", \"locations\": [\"DC\", \"PA\", \"DE\", \"UT\", \"VA\", \"WI\", \"NV\", \"IL\", \"ME\", \"MN\", \"TN\", \"NE\", \"NJ\", \"HI\", \"MD\", \"OH\", \"NH\", \"AZ\", \"OR\", \"NC\", \"ID\", \"NM\", \"TX\", \"WV\", \"AK\", \"WA\", \"SC\", \"CO\", \"MT\", \"KS\", \"OK\", \"WY\", \"GA\", \"VT\", \"LA\", \"ND\", \"IA\", \"FL\", \"MS\", \"NY\", \"KY\", \"IN\", \"AL\", \"AR\", \"CT\", \"SD\", \"MA\", \"MO\", \"RI\", \"MI\", \"CA\"], \"name\": \"\", \"z\": [8.1, 8.0, 5.1, 6.0, 5.5, 7.2, 7.7, 9.1, 5.5, 6.0, 7.9, 5.2, 5.6, 5.4, 4.6, 8.9, 3.7, 6.3, 8.8, 5.6, 7.9, 8.3, 7.0, 13.1, 9.7, 8.4, 6.9, 6.1, 7.7, 5.1, 7.2, 6.9, 6.4, 4.8, 11.6, 5.7, 7.5, 6.0, 10.4, 6.6, 9.2, 7.8, 9.2, 8.7, 4.7, 4.8, 4.0, 6.5, 4.6, 10.0, 7.2], \"type\": \"choropleth\"}], \"name\": \"1985\"}, {\"data\": [{\"coloraxis\": \"coloraxis\", \"geo\": \"geo\", \"hovertemplate\": \"Year=1986<br>StateCode=%{location}<br>Unemployment Rate (%)=%{z}<extra></extra>\", \"locationmode\": \"USA-states\", \"locations\": [\"DC\", \"PA\", \"DE\", \"UT\", \"VA\", \"WI\", \"NV\", \"IL\", \"ME\", \"MN\", \"TN\", \"NE\", \"NJ\", \"HI\", \"MD\", \"OH\", \"NH\", \"AZ\", \"OR\", \"NC\", \"ID\", \"NM\", \"TX\", \"WV\", \"AK\", \"WA\", \"SC\", \"CO\", \"MT\", \"KS\", \"OK\", \"WY\", \"GA\", \"VT\", \"LA\", \"ND\", \"IA\", \"FL\", \"MS\", \"NY\", \"KY\", \"IN\", \"AL\", \"AR\", \"CT\", \"SD\", \"MA\", \"MO\", \"RI\", \"MI\", \"CA\"], \"name\": \"\", \"z\": [7.5, 6.9, 4.3, 6.1, 5.0, 7.0, 6.2, 8.3, 5.3, 5.5, 7.9, 5.0, 5.0, 4.8, 4.6, 8.3, 2.8, 6.9, 8.0, 5.3, 8.4, 9.3, 8.8, 11.8, 10.9, 8.1, 6.4, 7.5, 7.9, 5.3, 8.2, 8.9, 6.0, 4.3, 12.8, 5.9, 6.8, 5.8, 11.4, 6.2, 9.4, 6.9, 9.7, 8.6, 3.8, 4.6, 3.9, 6.2, 4.1, 8.8, 6.7], \"type\": \"choropleth\"}], \"name\": \"1986\"}, {\"data\": [{\"coloraxis\": \"coloraxis\", \"geo\": \"geo\", \"hovertemplate\": \"Year=1987<br>StateCode=%{location}<br>Unemployment Rate (%)=%{z}<extra></extra>\", \"locationmode\": \"USA-states\", \"locations\": [\"DC\", \"PA\", \"DE\", \"UT\", \"VA\", \"WI\", \"NV\", \"IL\", \"ME\", \"MN\", \"TN\", \"NE\", \"NJ\", \"HI\", \"MD\", \"OH\", \"NH\", \"AZ\", \"OR\", \"NC\", \"ID\", \"NM\", \"TX\", \"WV\", \"AK\", \"WA\", \"SC\", \"CO\", \"MT\", \"KS\", \"OK\", \"WY\", \"GA\", \"VT\", \"LA\", \"ND\", \"IA\", \"FL\", \"MS\", \"NY\", \"KY\", \"IN\", \"AL\", \"AR\", \"CT\", \"SD\", \"MA\", \"MO\", \"RI\", \"MI\", \"CA\"], \"name\": \"\", \"z\": [6.3, 5.6, 3.1, 6.2, 4.3, 5.9, 6.1, 7.4, 4.4, 5.1, 6.6, 4.4, 4.1, 3.8, 4.4, 7.1, 2.3, 6.5, 6.3, 4.5, 7.6, 8.7, 8.4, 10.8, 10.3, 7.3, 5.5, 7.5, 7.4, 4.8, 7.3, 8.0, 5.7, 3.6, 12.1, 5.0, 5.5, 5.3, 10.0, 4.9, 8.5, 6.2, 8.1, 8.1, 3.4, 4.2, 3.2, 6.3, 3.6, 8.3, 5.8], \"type\": \"choropleth\"}], \"name\": \"1987\"}, {\"data\": [{\"coloraxis\": \"coloraxis\", \"geo\": \"geo\", \"hovertemplate\": \"Year=1988<br>StateCode=%{location}<br>Unemployment Rate (%)=%{z}<extra></extra>\", \"locationmode\": \"USA-states\", \"locations\": [\"DC\", \"PA\", \"DE\", \"UT\", \"VA\", \"WI\", \"NV\", \"IL\", \"ME\", \"MN\", \"TN\", \"NE\", \"NJ\", \"HI\", \"MD\", \"OH\", \"NH\", \"AZ\", \"OR\", \"NC\", \"ID\", \"NM\", \"TX\", \"WV\", \"AK\", \"WA\", \"SC\", \"CO\", \"MT\", \"KS\", \"OK\", \"WY\", \"GA\", \"VT\", \"LA\", \"ND\", \"IA\", \"FL\", \"MS\", \"NY\", \"KY\", \"IN\", \"AL\", \"AR\", \"CT\", \"SD\", \"MA\", \"MO\", \"RI\", \"MI\", \"CA\"], \"name\": \"\", \"z\": [5.0, 5.0, 3.1, 5.0, 3.9, 4.4, 5.2, 6.7, 3.6, 4.3, 5.8, 3.6, 3.8, 3.2, 4.3, 6.0, 2.4, 6.4, 5.8, 3.6, 6.0, 7.5, 7.3, 9.8, 8.8, 6.3, 4.7, 6.5, 6.6, 4.5, 6.4, 6.5, 5.7, 3.0, 10.8, 4.7, 4.5, 5.1, 8.4, 4.3, 7.6, 5.2, 7.2, 7.6, 3.0, 4.1, 3.3, 5.7, 3.1, 7.5, 5.3], \"type\": \"choropleth\"}], \"name\": \"1988\"}, {\"data\": [{\"coloraxis\": \"coloraxis\", \"geo\": \"geo\", \"hovertemplate\": \"Year=1989<br>StateCode=%{location}<br>Unemployment Rate (%)=%{z}<extra></extra>\", \"locationmode\": \"USA-states\", \"locations\": [\"DC\", \"PA\", \"DE\", \"UT\", \"VA\", \"WI\", \"NV\", \"IL\", \"ME\", \"MN\", \"TN\", \"NE\", \"NJ\", \"HI\", \"MD\", \"OH\", \"NH\", \"AZ\", \"OR\", \"NC\", \"ID\", \"NM\", \"TX\", \"WV\", \"AK\", \"WA\", \"SC\", \"CO\", \"MT\", \"KS\", \"OK\", \"WY\", \"GA\", \"VT\", \"LA\", \"ND\", \"IA\", \"FL\", \"MS\", \"NY\", \"KY\", \"IN\", \"AL\", \"AR\", \"CT\", \"SD\", \"MA\", \"MO\", \"RI\", \"MI\", \"CA\"], \"name\": \"\", \"z\": [4.9, 4.7, 3.5, 4.5, 3.9, 4.3, 4.7, 6.0, 4.0, 4.3, 5.1, 2.9, 4.1, 2.5, 3.8, 5.5, 3.5, 5.3, 5.4, 3.5, 5.3, 6.7, 6.7, 8.6, 7.0, 5.9, 4.6, 5.7, 5.8, 4.2, 5.6, 6.1, 5.5, 3.5, 8.0, 4.3, 4.2, 5.6, 7.8, 5.0, 6.4, 4.9, 7.0, 7.0, 3.8, 4.0, 4.2, 5.5, 4.1, 7.1, 5.1], \"type\": \"choropleth\"}], \"name\": \"1989\"}, {\"data\": [{\"coloraxis\": \"coloraxis\", \"geo\": \"geo\", \"hovertemplate\": \"Year=1990<br>StateCode=%{location}<br>Unemployment Rate (%)=%{z}<extra></extra>\", \"locationmode\": \"USA-states\", \"locations\": [\"DC\", \"PA\", \"DE\", \"UT\", \"VA\", \"WI\", \"NV\", \"IL\", \"ME\", \"MN\", \"TN\", \"NE\", \"NJ\", \"HI\", \"MD\", \"OH\", \"NH\", \"AZ\", \"OR\", \"NC\", \"ID\", \"NM\", \"TX\", \"WV\", \"AK\", \"WA\", \"SC\", \"CO\", \"MT\", \"KS\", \"OK\", \"WY\", \"GA\", \"VT\", \"LA\", \"ND\", \"IA\", \"FL\", \"MS\", \"NY\", \"KY\", \"IN\", \"AL\", \"AR\", \"CT\", \"SD\", \"MA\", \"MO\", \"RI\", \"MI\", \"CA\"], \"name\": \"\", \"z\": [6.3, 5.5, 4.7, 4.4, 4.5, 4.4, 4.7, 6.1, 5.3, 4.8, 5.3, 2.3, 5.0, 2.7, 4.5, 5.6, 5.7, 5.3, 5.5, 4.1, 5.5, 6.6, 6.3, 8.5, 7.2, 5.2, 4.8, 5.2, 6.0, 4.3, 5.7, 5.3, 5.5, 5.0, 6.2, 4.0, 4.4, 6.1, 7.6, 5.3, 6.0, 5.3, 6.8, 6.9, 5.1, 3.8, 6.3, 5.8, 6.3, 7.6, 5.8], \"type\": \"choropleth\"}], \"name\": \"1990\"}, {\"data\": [{\"coloraxis\": \"coloraxis\", \"geo\": \"geo\", \"hovertemplate\": \"Year=1991<br>StateCode=%{location}<br>Unemployment Rate (%)=%{z}<extra></extra>\", \"locationmode\": \"USA-states\", \"locations\": [\"DC\", \"PA\", \"DE\", \"UT\", \"VA\", \"WI\", \"NV\", \"IL\", \"ME\", \"MN\", \"TN\", \"NE\", \"NJ\", \"HI\", \"MD\", \"OH\", \"NH\", \"AZ\", \"OR\", \"NC\", \"ID\", \"NM\", \"TX\", \"WV\", \"AK\", \"WA\", \"SC\", \"CO\", \"MT\", \"KS\", \"OK\", \"WY\", \"GA\", \"VT\", \"LA\", \"ND\", \"IA\", \"FL\", \"MS\", \"NY\", \"KY\", \"IN\", \"AL\", \"AR\", \"CT\", \"SD\", \"MA\", \"MO\", \"RI\", \"MI\", \"CA\"], \"name\": \"\", \"z\": [7.8, 7.0, 6.2, 4.7, 5.9, 5.5, 5.8, 7.3, 7.5, 5.1, 6.8, 2.7, 6.7, 2.9, 6.1, 6.5, 7.3, 5.9, 6.4, 5.8, 6.2, 7.1, 6.9, 10.6, 8.5, 6.3, 6.1, 5.3, 6.9, 4.4, 6.3, 5.2, 5.2, 6.6, 7.3, 4.4, 4.7, 7.5, 8.5, 7.2, 7.3, 6.0, 7.3, 7.4, 6.5, 3.5, 8.6, 6.6, 8.6, 9.2, 7.7], \"type\": \"choropleth\"}], \"name\": \"1991\"}, {\"data\": [{\"coloraxis\": \"coloraxis\", \"geo\": \"geo\", \"hovertemplate\": \"Year=1992<br>StateCode=%{location}<br>Unemployment Rate (%)=%{z}<extra></extra>\", \"locationmode\": \"USA-states\", \"locations\": [\"DC\", \"PA\", \"DE\", \"UT\", \"VA\", \"WI\", \"NV\", \"IL\", \"ME\", \"MN\", \"TN\", \"NE\", \"NJ\", \"HI\", \"MD\", \"OH\", \"NH\", \"AZ\", \"OR\", \"NC\", \"ID\", \"NM\", \"TX\", \"WV\", \"AK\", \"WA\", \"SC\", \"CO\", \"MT\", \"KS\", \"OK\", \"WY\", \"GA\", \"VT\", \"LA\", \"ND\", \"IA\", \"FL\", \"MS\", \"NY\", \"KY\", \"IN\", \"AL\", \"AR\", \"CT\", \"SD\", \"MA\", \"MO\", \"RI\", \"MI\", \"CA\"], \"name\": \"\", \"z\": [8.6, 7.6, 5.4, 4.8, 6.3, 5.1, 6.7, 7.9, 7.3, 5.1, 6.5, 2.9, 8.4, 4.3, 6.8, 7.4, 7.3, 7.5, 7.4, 6.0, 6.4, 7.2, 7.6, 11.3, 8.9, 7.3, 6.7, 6.0, 6.7, 4.5, 6.0, 5.6, 6.9, 6.1, 8.0, 4.7, 4.5, 8.2, 8.1, 8.6, 6.9, 6.6, 7.6, 7.1, 7.6, 3.3, 8.5, 6.2, 8.9, 9.0, 9.3], \"type\": \"choropleth\"}], \"name\": \"1992\"}, {\"data\": [{\"coloraxis\": \"coloraxis\", \"geo\": \"geo\", \"hovertemplate\": \"Year=1993<br>StateCode=%{location}<br>Unemployment Rate (%)=%{z}<extra></extra>\", \"locationmode\": \"USA-states\", \"locations\": [\"DC\", \"PA\", \"DE\", \"UT\", \"VA\", \"WI\", \"NV\", \"IL\", \"ME\", \"MN\", \"TN\", \"NE\", \"NJ\", \"HI\", \"MD\", \"OH\", \"NH\", \"AZ\", \"OR\", \"NC\", \"ID\", \"NM\", \"TX\", \"WV\", \"AK\", \"WA\", \"SC\", \"CO\", \"MT\", \"KS\", \"OK\", \"WY\", \"GA\", \"VT\", \"LA\", \"ND\", \"IA\", \"FL\", \"MS\", \"NY\", \"KY\", \"IN\", \"AL\", \"AR\", \"CT\", \"SD\", \"MA\", \"MO\", \"RI\", \"MI\", \"CA\"], \"name\": \"\", \"z\": [8.5, 7.0, 5.1, 4.1, 5.2, 4.8, 6.8, 7.4, 7.3, 5.0, 5.8, 2.8, 7.6, 4.5, 6.2, 6.6, 6.1, 6.4, 7.0, 5.0, 6.0, 7.0, 7.2, 10.6, 7.7, 7.3, 7.3, 5.3, 6.0, 5.0, 5.9, 5.3, 6.0, 5.2, 7.6, 4.3, 4.0, 7.1, 6.6, 7.9, 6.2, 5.4, 7.3, 6.1, 6.6, 3.4, 7.0, 6.2, 7.7, 7.2, 9.5], \"type\": \"choropleth\"}], \"name\": \"1993\"}, {\"data\": [{\"coloraxis\": \"coloraxis\", \"geo\": \"geo\", \"hovertemplate\": \"Year=1994<br>StateCode=%{location}<br>Unemployment Rate (%)=%{z}<extra></extra>\", \"locationmode\": \"USA-states\", \"locations\": [\"DC\", \"PA\", \"DE\", \"UT\", \"VA\", \"WI\", \"NV\", \"IL\", \"ME\", \"MN\", \"TN\", \"NE\", \"NJ\", \"HI\", \"MD\", \"OH\", \"NH\", \"AZ\", \"OR\", \"NC\", \"ID\", \"NM\", \"TX\", \"WV\", \"AK\", \"WA\", \"SC\", \"CO\", \"MT\", \"KS\", \"OK\", \"WY\", \"GA\", \"VT\", \"LA\", \"ND\", \"IA\", \"FL\", \"MS\", \"NY\", \"KY\", \"IN\", \"AL\", \"AR\", \"CT\", \"SD\", \"MA\", \"MO\", \"RI\", \"MI\", \"CA\"], \"name\": \"\", \"z\": [8.0, 6.3, 4.8, 3.8, 4.9, 4.5, 6.2, 5.8, 7.0, 4.1, 4.8, 2.6, 6.8, 5.5, 5.3, 5.6, 4.7, 6.1, 5.4, 4.4, 5.4, 6.5, 6.5, 8.8, 7.6, 6.6, 6.2, 4.2, 5.2, 4.9, 5.6, 5.0, 5.2, 4.6, 7.8, 3.7, 3.5, 6.4, 6.3, 6.9, 5.4, 4.9, 6.2, 5.4, 5.6, 3.3, 6.0, 5.1, 6.9, 6.0, 8.6], \"type\": \"choropleth\"}], \"name\": \"1994\"}, {\"data\": [{\"coloraxis\": \"coloraxis\", \"geo\": \"geo\", \"hovertemplate\": \"Year=1995<br>StateCode=%{location}<br>Unemployment Rate (%)=%{z}<extra></extra>\", \"locationmode\": \"USA-states\", \"locations\": [\"DC\", \"PA\", \"DE\", \"UT\", \"VA\", \"WI\", \"NV\", \"IL\", \"ME\", \"MN\", \"TN\", \"NE\", \"NJ\", \"HI\", \"MD\", \"OH\", \"NH\", \"AZ\", \"OR\", \"NC\", \"ID\", \"NM\", \"TX\", \"WV\", \"AK\", \"WA\", \"SC\", \"CO\", \"MT\", \"KS\", \"OK\", \"WY\", \"GA\", \"VT\", \"LA\", \"ND\", \"IA\", \"FL\", \"MS\", \"NY\", \"KY\", \"IN\", \"AL\", \"AR\", \"CT\", \"SD\", \"MA\", \"MO\", \"RI\", \"MI\", \"CA\"], \"name\": \"\", \"z\": [8.8, 5.9, 4.3, 3.5, 4.5, 3.8, 5.6, 5.2, 6.0, 3.7, 5.2, 2.6, 6.4, 5.9, 5.0, 4.8, 4.0, 5.3, 4.9, 4.3, 5.4, 6.6, 6.1, 7.9, 7.3, 6.4, 5.2, 4.0, 5.7, 4.4, 4.6, 4.8, 4.8, 4.3, 7.0, 3.2, 3.4, 5.5, 6.2, 6.3, 5.4, 4.6, 6.0, 4.8, 5.5, 3.0, 5.3, 4.7, 6.3, 5.3, 7.9], \"type\": \"choropleth\"}], \"name\": \"1995\"}, {\"data\": [{\"coloraxis\": \"coloraxis\", \"geo\": \"geo\", \"hovertemplate\": \"Year=1996<br>StateCode=%{location}<br>Unemployment Rate (%)=%{z}<extra></extra>\", \"locationmode\": \"USA-states\", \"locations\": [\"DC\", \"PA\", \"DE\", \"UT\", \"VA\", \"WI\", \"NV\", \"IL\", \"ME\", \"MN\", \"TN\", \"NE\", \"NJ\", \"HI\", \"MD\", \"OH\", \"NH\", \"AZ\", \"OR\", \"NC\", \"ID\", \"NM\", \"TX\", \"WV\", \"AK\", \"WA\", \"SC\", \"CO\", \"MT\", \"KS\", \"OK\", \"WY\", \"GA\", \"VT\", \"LA\", \"ND\", \"IA\", \"FL\", \"MS\", \"NY\", \"KY\", \"IN\", \"AL\", \"AR\", \"CT\", \"SD\", \"MA\", \"MO\", \"RI\", \"MI\", \"CA\"], \"name\": \"\", \"z\": [8.4, 5.4, 5.1, 3.4, 4.4, 3.6, 5.0, 5.3, 5.2, 4.0, 5.2, 2.7, 6.1, 6.3, 5.0, 5.0, 3.8, 5.6, 5.7, 4.3, 5.3, 7.2, 5.7, 7.5, 7.6, 6.1, 5.8, 4.2, 5.3, 4.3, 4.1, 4.9, 4.7, 4.3, 6.6, 2.9, 3.5, 5.2, 6.0, 6.2, 5.5, 4.1, 5.2, 5.3, 5.5, 3.2, 4.4, 4.8, 5.4, 4.9, 7.3], \"type\": \"choropleth\"}], \"name\": \"1996\"}, {\"data\": [{\"coloraxis\": \"coloraxis\", \"geo\": \"geo\", \"hovertemplate\": \"Year=1997<br>StateCode=%{location}<br>Unemployment Rate (%)=%{z}<extra></extra>\", \"locationmode\": \"USA-states\", \"locations\": [\"DC\", \"PA\", \"DE\", \"UT\", \"VA\", \"WI\", \"NV\", \"IL\", \"ME\", \"MN\", \"TN\", \"NE\", \"NJ\", \"HI\", \"MD\", \"OH\", \"NH\", \"AZ\", \"OR\", \"NC\", \"ID\", \"NM\", \"TX\", \"WV\", \"AK\", \"WA\", \"SC\", \"CO\", \"MT\", \"KS\", \"OK\", \"WY\", \"GA\", \"VT\", \"LA\", \"ND\", \"IA\", \"FL\", \"MS\", \"NY\", \"KY\", \"IN\", \"AL\", \"AR\", \"CT\", \"SD\", \"MA\", \"MO\", \"RI\", \"MI\", \"CA\"], \"name\": \"\", \"z\": [8.0, 5.1, 4.0, 3.2, 3.8, 3.6, 4.4, 4.8, 5.1, 3.3, 5.3, 2.5, 5.3, 6.2, 5.0, 4.6, 3.3, 4.6, 5.7, 3.7, 5.1, 6.3, 5.3, 6.9, 7.1, 4.9, 4.6, 3.5, 5.3, 3.8, 4.1, 4.8, 4.6, 3.9, 6.0, 2.7, 3.1, 4.8, 5.7, 6.4, 5.3, 3.5, 5.0, 5.2, 5.0, 2.9, 3.9, 4.3, 5.1, 4.3, 6.4], \"type\": \"choropleth\"}], \"name\": \"1997\"}, {\"data\": [{\"coloraxis\": \"coloraxis\", \"geo\": \"geo\", \"hovertemplate\": \"Year=1998<br>StateCode=%{location}<br>Unemployment Rate (%)=%{z}<extra></extra>\", \"locationmode\": \"USA-states\", \"locations\": [\"DC\", \"PA\", \"DE\", \"UT\", \"VA\", \"WI\", \"NV\", \"IL\", \"ME\", \"MN\", \"TN\", \"NE\", \"NJ\", \"HI\", \"MD\", \"OH\", \"NH\", \"AZ\", \"OR\", \"NC\", \"ID\", \"NM\", \"TX\", \"WV\", \"AK\", \"WA\", \"SC\", \"CO\", \"MT\", \"KS\", \"OK\", \"WY\", \"GA\", \"VT\", \"LA\", \"ND\", \"IA\", \"FL\", \"MS\", \"NY\", \"KY\", \"IN\", \"AL\", \"AR\", \"CT\", \"SD\", \"MA\", \"MO\", \"RI\", \"MI\", \"CA\"], \"name\": \"\", \"z\": [8.4, 4.6, 3.7, 3.6, 2.9, 3.4, 4.2, 4.4, 4.5, 2.7, 4.3, 2.6, 4.6, 6.1, 4.4, 4.3, 2.8, 4.3, 5.7, 3.5, 5.1, 6.1, 4.9, 6.6, 6.3, 4.8, 3.8, 3.6, 5.5, 3.5, 4.3, 4.7, 4.3, 3.4, 5.7, 2.9, 2.7, 4.3, 5.3, 5.6, 4.6, 3.1, 4.4, 5.2, 3.4, 2.8, 3.3, 4.2, 4.6, 3.9, 5.9], \"type\": \"choropleth\"}], \"name\": \"1998\"}, {\"data\": [{\"coloraxis\": \"coloraxis\", \"geo\": \"geo\", \"hovertemplate\": \"Year=1999<br>StateCode=%{location}<br>Unemployment Rate (%)=%{z}<extra></extra>\", \"locationmode\": \"USA-states\", \"locations\": [\"DC\", \"PA\", \"DE\", \"UT\", \"VA\", \"WI\", \"NV\", \"IL\", \"ME\", \"MN\", \"TN\", \"NE\", \"NJ\", \"HI\", \"MD\", \"OH\", \"NH\", \"AZ\", \"OR\", \"NC\", \"ID\", \"NM\", \"TX\", \"WV\", \"AK\", \"WA\", \"SC\", \"CO\", \"MT\", \"KS\", \"OK\", \"WY\", \"GA\", \"VT\", \"LA\", \"ND\", \"IA\", \"FL\", \"MS\", \"NY\", \"KY\", \"IN\", \"AL\", \"AR\", \"CT\", \"SD\", \"MA\", \"MO\", \"RI\", \"MI\", \"CA\"], \"name\": \"\", \"z\": [6.4, 4.4, 3.4, 3.5, 2.7, 3.1, 4.0, 4.4, 4.0, 2.8, 4.0, 2.8, 4.5, 5.4, 3.6, 4.3, 2.7, 4.4, 5.5, 3.2, 4.9, 5.6, 4.7, 6.5, 6.5, 4.9, 4.3, 3.1, 5.3, 3.3, 3.5, 4.6, 3.9, 3.0, 5.1, 3.3, 2.6, 3.9, 5.1, 5.2, 4.5, 3.0, 4.7, 4.6, 2.9, 2.7, 3.2, 3.3, 4.2, 3.7, 5.2], \"type\": \"choropleth\"}], \"name\": \"1999\"}, {\"data\": [{\"coloraxis\": \"coloraxis\", \"geo\": \"geo\", \"hovertemplate\": \"Year=2000<br>StateCode=%{location}<br>Unemployment Rate (%)=%{z}<extra></extra>\", \"locationmode\": \"USA-states\", \"locations\": [\"DC\", \"PA\", \"DE\", \"UT\", \"VA\", \"WI\", \"NV\", \"IL\", \"ME\", \"MN\", \"TN\", \"NE\", \"NJ\", \"HI\", \"MD\", \"OH\", \"NH\", \"AZ\", \"OR\", \"NC\", \"ID\", \"NM\", \"TX\", \"WV\", \"AK\", \"WA\", \"SC\", \"CO\", \"MT\", \"KS\", \"OK\", \"WY\", \"GA\", \"VT\", \"LA\", \"ND\", \"IA\", \"FL\", \"MS\", \"NY\", \"KY\", \"IN\", \"AL\", \"AR\", \"CT\", \"SD\", \"MA\", \"MO\", \"RI\", \"MI\", \"CA\"], \"name\": \"\", \"z\": [5.6, 4.1, 3.7, 3.3, 2.3, 3.5, 4.2, 4.3, 3.4, 3.2, 3.9, 2.8, 3.7, 4.2, 3.6, 4.0, 2.7, 4.0, 5.1, 3.7, 4.7, 4.9, 4.3, 5.5, 6.4, 5.2, 3.8, 2.8, 5.0, 3.6, 3.0, 3.9, 3.6, 2.8, 5.3, 3.0, 2.6, 3.7, 5.4, 4.5, 4.2, 3.1, 4.6, 4.3, 2.4, 2.5, 2.7, 3.6, 4.1, 3.6, 4.9], \"type\": \"choropleth\"}], \"name\": \"2000\"}, {\"data\": [{\"coloraxis\": \"coloraxis\", \"geo\": \"geo\", \"hovertemplate\": \"Year=2001<br>StateCode=%{location}<br>Unemployment Rate (%)=%{z}<extra></extra>\", \"locationmode\": \"USA-states\", \"locations\": [\"DC\", \"PA\", \"DE\", \"UT\", \"VA\", \"WI\", \"NV\", \"IL\", \"ME\", \"MN\", \"TN\", \"NE\", \"NJ\", \"HI\", \"MD\", \"OH\", \"NH\", \"AZ\", \"OR\", \"NC\", \"ID\", \"NM\", \"TX\", \"WV\", \"AK\", \"WA\", \"SC\", \"CO\", \"MT\", \"KS\", \"OK\", \"WY\", \"GA\", \"VT\", \"LA\", \"ND\", \"IA\", \"FL\", \"MS\", \"NY\", \"KY\", \"IN\", \"AL\", \"AR\", \"CT\", \"SD\", \"MA\", \"MO\", \"RI\", \"MI\", \"CA\"], \"name\": \"\", \"z\": [6.3, 4.8, 3.5, 4.4, 3.2, 4.5, 5.2, 5.3, 3.8, 3.8, 4.6, 3.1, 4.3, 4.5, 4.0, 4.3, 3.4, 4.8, 6.4, 5.5, 5.1, 4.9, 5.0, 5.0, 6.4, 6.3, 5.2, 3.8, 4.5, 4.2, 3.7, 3.8, 4.0, 3.3, 5.7, 2.9, 3.3, 4.7, 5.5, 4.8, 5.2, 4.2, 5.1, 5.0, 3.1, 3.1, 3.7, 4.6, 4.6, 5.2, 5.4], \"type\": \"choropleth\"}], \"name\": \"2001\"}, {\"data\": [{\"coloraxis\": \"coloraxis\", \"geo\": \"geo\", \"hovertemplate\": \"Year=2002<br>StateCode=%{location}<br>Unemployment Rate (%)=%{z}<extra></extra>\", \"locationmode\": \"USA-states\", \"locations\": [\"DC\", \"PA\", \"DE\", \"UT\", \"VA\", \"WI\", \"NV\", \"IL\", \"ME\", \"MN\", \"TN\", \"NE\", \"NJ\", \"HI\", \"MD\", \"OH\", \"NH\", \"AZ\", \"OR\", \"NC\", \"ID\", \"NM\", \"TX\", \"WV\", \"AK\", \"WA\", \"SC\", \"CO\", \"MT\", \"KS\", \"OK\", \"WY\", \"GA\", \"VT\", \"LA\", \"ND\", \"IA\", \"FL\", \"MS\", \"NY\", \"KY\", \"IN\", \"AL\", \"AR\", \"CT\", \"SD\", \"MA\", \"MO\", \"RI\", \"MI\", \"CA\"], \"name\": \"\", \"z\": [6.4, 5.6, 4.0, 5.8, 4.2, 5.4, 5.6, 6.5, 4.3, 4.5, 5.2, 3.6, 5.8, 4.2, 4.4, 5.7, 4.5, 6.1, 7.5, 6.6, 5.6, 5.5, 6.4, 5.9, 7.3, 7.4, 5.8, 5.5, 4.4, 5.1, 4.7, 4.0, 5.0, 4.0, 6.1, 3.7, 4.0, 5.6, 6.6, 6.1, 5.7, 5.2, 5.9, 5.5, 4.3, 3.2, 5.3, 5.4, 5.0, 6.3, 6.7], \"type\": \"choropleth\"}], \"name\": \"2002\"}, {\"data\": [{\"coloraxis\": \"coloraxis\", \"geo\": \"geo\", \"hovertemplate\": \"Year=2003<br>StateCode=%{location}<br>Unemployment Rate (%)=%{z}<extra></extra>\", \"locationmode\": \"USA-states\", \"locations\": [\"DC\", \"PA\", \"DE\", \"UT\", \"VA\", \"WI\", \"NV\", \"IL\", \"ME\", \"MN\", \"TN\", \"NE\", \"NJ\", \"HI\", \"MD\", \"OH\", \"NH\", \"AZ\", \"OR\", \"NC\", \"ID\", \"NM\", \"TX\", \"WV\", \"AK\", \"WA\", \"SC\", \"CO\", \"MT\", \"KS\", \"OK\", \"WY\", \"GA\", \"VT\", \"LA\", \"ND\", \"IA\", \"FL\", \"MS\", \"NY\", \"KY\", \"IN\", \"AL\", \"AR\", \"CT\", \"SD\", \"MA\", \"MO\", \"RI\", \"MI\", \"CA\"], \"name\": \"\", \"z\": [6.8, 5.7, 4.3, 5.6, 4.1, 5.7, 5.1, 6.8, 5.0, 4.9, 5.6, 3.9, 5.8, 4.1, 4.4, 6.2, 4.3, 5.7, 8.1, 6.4, 5.6, 5.9, 6.7, 6.0, 7.8, 7.4, 6.9, 6.0, 4.7, 5.5, 5.5, 4.3, 4.8, 4.3, 6.4, 3.7, 4.5, 5.2, 6.3, 6.4, 6.1, 5.3, 6.0, 5.9, 5.4, 3.5, 5.7, 5.6, 5.3, 7.2, 6.8], \"type\": \"choropleth\"}], \"name\": \"2003\"}, {\"data\": [{\"coloraxis\": \"coloraxis\", \"geo\": \"geo\", \"hovertemplate\": \"Year=2004<br>StateCode=%{location}<br>Unemployment Rate (%)=%{z}<extra></extra>\", \"locationmode\": \"USA-states\", \"locations\": [\"DC\", \"PA\", \"DE\", \"UT\", \"VA\", \"WI\", \"NV\", \"IL\", \"ME\", \"MN\", \"TN\", \"NE\", \"NJ\", \"HI\", \"MD\", \"OH\", \"NH\", \"AZ\", \"OR\", \"NC\", \"ID\", \"NM\", \"TX\", \"WV\", \"AK\", \"WA\", \"SC\", \"CO\", \"MT\", \"KS\", \"OK\", \"WY\", \"GA\", \"VT\", \"LA\", \"ND\", \"IA\", \"FL\", \"MS\", \"NY\", \"KY\", \"IN\", \"AL\", \"AR\", \"CT\", \"SD\", \"MA\", \"MO\", \"RI\", \"MI\", \"CA\"], \"name\": \"\", \"z\": [7.8, 5.4, 4.0, 5.0, 3.8, 5.0, 4.3, 6.2, 4.6, 4.7, 5.3, 3.9, 4.8, 3.4, 4.3, 6.3, 3.8, 5.0, 7.3, 5.5, 4.9, 5.5, 5.9, 5.3, 7.5, 6.3, 6.8, 5.5, 4.8, 5.5, 4.9, 3.8, 4.8, 3.7, 5.9, 3.4, 4.5, 4.6, 6.2, 5.8, 5.4, 5.4, 5.7, 5.7, 5.0, 3.7, 5.1, 5.9, 5.2, 7.0, 6.2], \"type\": \"choropleth\"}], \"name\": \"2004\"}, {\"data\": [{\"coloraxis\": \"coloraxis\", \"geo\": \"geo\", \"hovertemplate\": \"Year=2005<br>StateCode=%{location}<br>Unemployment Rate (%)=%{z}<extra></extra>\", \"locationmode\": \"USA-states\", \"locations\": [\"DC\", \"PA\", \"DE\", \"UT\", \"VA\", \"WI\", \"NV\", \"IL\", \"ME\", \"MN\", \"TN\", \"NE\", \"NJ\", \"HI\", \"MD\", \"OH\", \"NH\", \"AZ\", \"OR\", \"NC\", \"ID\", \"NM\", \"TX\", \"WV\", \"AK\", \"WA\", \"SC\", \"CO\", \"MT\", \"KS\", \"OK\", \"WY\", \"GA\", \"VT\", \"LA\", \"ND\", \"IA\", \"FL\", \"MS\", \"NY\", \"KY\", \"IN\", \"AL\", \"AR\", \"CT\", \"SD\", \"MA\", \"MO\", \"RI\", \"MI\", \"CA\"], \"name\": \"\", \"z\": [6.4, 5.0, 4.1, 4.1, 3.6, 4.7, 4.1, 5.7, 4.9, 4.1, 5.6, 3.8, 4.5, 2.9, 4.1, 5.9, 3.6, 4.7, 6.2, 5.2, 4.0, 5.1, 5.4, 5.1, 6.9, 5.6, 6.7, 5.0, 4.4, 5.0, 4.5, 3.6, 5.3, 3.5, 7.2, 3.4, 4.3, 3.7, 7.5, 5.0, 5.9, 5.5, 4.5, 5.2, 4.9, 3.8, 4.8, 5.4, 5.0, 6.8, 5.4], \"type\": \"choropleth\"}], \"name\": \"2005\"}, {\"data\": [{\"coloraxis\": \"coloraxis\", \"geo\": \"geo\", \"hovertemplate\": \"Year=2006<br>StateCode=%{location}<br>Unemployment Rate (%)=%{z}<extra></extra>\", \"locationmode\": \"USA-states\", \"locations\": [\"DC\", \"PA\", \"DE\", \"UT\", \"VA\", \"WI\", \"NV\", \"IL\", \"ME\", \"MN\", \"TN\", \"NE\", \"NJ\", \"HI\", \"MD\", \"OH\", \"NH\", \"AZ\", \"OR\", \"NC\", \"ID\", \"NM\", \"TX\", \"WV\", \"AK\", \"WA\", \"SC\", \"CO\", \"MT\", \"KS\", \"OK\", \"WY\", \"GA\", \"VT\", \"LA\", \"ND\", \"IA\", \"FL\", \"MS\", \"NY\", \"KY\", \"IN\", \"AL\", \"AR\", \"CT\", \"SD\", \"MA\", \"MO\", \"RI\", \"MI\", \"CA\"], \"name\": \"\", \"z\": [5.8, 4.6, 3.6, 3.0, 3.1, 4.7, 4.0, 4.5, 4.6, 4.0, 5.2, 3.1, 4.7, 2.6, 3.9, 5.4, 3.4, 4.2, 5.3, 4.7, 3.5, 4.2, 4.9, 4.9, 6.6, 5.0, 6.4, 4.3, 3.5, 4.4, 4.0, 3.2, 4.7, 3.7, 4.5, 3.2, 3.7, 3.2, 6.5, 4.5, 5.7, 5.0, 4.0, 5.2, 4.3, 3.1, 4.9, 4.8, 4.9, 7.0, 4.9], \"type\": \"choropleth\"}], \"name\": \"2006\"}, {\"data\": [{\"coloraxis\": \"coloraxis\", \"geo\": \"geo\", \"hovertemplate\": \"Year=2007<br>StateCode=%{location}<br>Unemployment Rate (%)=%{z}<extra></extra>\", \"locationmode\": \"USA-states\", \"locations\": [\"DC\", \"PA\", \"DE\", \"UT\", \"VA\", \"WI\", \"NV\", \"IL\", \"ME\", \"MN\", \"TN\", \"NE\", \"NJ\", \"HI\", \"MD\", \"OH\", \"NH\", \"AZ\", \"OR\", \"NC\", \"ID\", \"NM\", \"TX\", \"WV\", \"AK\", \"WA\", \"SC\", \"CO\", \"MT\", \"KS\", \"OK\", \"WY\", \"GA\", \"VT\", \"LA\", \"ND\", \"IA\", \"FL\", \"MS\", \"NY\", \"KY\", \"IN\", \"AL\", \"AR\", \"CT\", \"SD\", \"MA\", \"MO\", \"RI\", \"MI\", \"CA\"], \"name\": \"\", \"z\": [5.5, 4.4, 3.4, 2.6, 3.0, 4.9, 4.5, 5.0, 4.7, 4.6, 4.7, 3.0, 4.3, 2.8, 3.5, 5.6, 3.5, 3.9, 5.2, 4.7, 3.1, 3.8, 4.3, 4.6, 6.3, 4.7, 5.7, 3.7, 3.6, 4.2, 4.1, 2.8, 4.5, 4.0, 4.3, 3.1, 3.7, 4.0, 6.1, 4.6, 5.4, 4.6, 4.0, 5.3, 4.5, 2.8, 4.6, 5.1, 5.2, 7.0, 5.4], \"type\": \"choropleth\"}], \"name\": \"2007\"}, {\"data\": [{\"coloraxis\": \"coloraxis\", \"geo\": \"geo\", \"hovertemplate\": \"Year=2008<br>StateCode=%{location}<br>Unemployment Rate (%)=%{z}<extra></extra>\", \"locationmode\": \"USA-states\", \"locations\": [\"DC\", \"PA\", \"DE\", \"UT\", \"VA\", \"WI\", \"NV\", \"IL\", \"ME\", \"MN\", \"TN\", \"NE\", \"NJ\", \"HI\", \"MD\", \"OH\", \"NH\", \"AZ\", \"OR\", \"NC\", \"ID\", \"NM\", \"TX\", \"WV\", \"AK\", \"WA\", \"SC\", \"CO\", \"MT\", \"KS\", \"OK\", \"WY\", \"GA\", \"VT\", \"LA\", \"ND\", \"IA\", \"FL\", \"MS\", \"NY\", \"KY\", \"IN\", \"AL\", \"AR\", \"CT\", \"SD\", \"MA\", \"MO\", \"RI\", \"MI\", \"CA\"], \"name\": \"\", \"z\": [6.5, 5.3, 4.9, 3.6, 3.9, 4.9, 6.7, 6.3, 5.5, 5.4, 6.6, 3.3, 5.3, 4.3, 4.2, 6.4, 3.9, 6.2, 6.5, 6.1, 5.1, 4.5, 4.8, 4.3, 6.7, 5.4, 6.8, 4.8, 5.1, 4.6, 3.7, 3.1, 6.2, 4.7, 4.9, 3.2, 4.2, 6.3, 6.6, 5.4, 6.4, 5.9, 5.7, 5.5, 5.7, 3.1, 5.5, 6.1, 7.8, 8.0, 7.3], \"type\": \"choropleth\"}], \"name\": \"2008\"}, {\"data\": [{\"coloraxis\": \"coloraxis\", \"geo\": \"geo\", \"hovertemplate\": \"Year=2009<br>StateCode=%{location}<br>Unemployment Rate (%)=%{z}<extra></extra>\", \"locationmode\": \"USA-states\", \"locations\": [\"DC\", \"PA\", \"DE\", \"UT\", \"VA\", \"WI\", \"NV\", \"IL\", \"ME\", \"MN\", \"TN\", \"NE\", \"NJ\", \"HI\", \"MD\", \"OH\", \"NH\", \"AZ\", \"OR\", \"NC\", \"ID\", \"NM\", \"TX\", \"WV\", \"AK\", \"WA\", \"SC\", \"CO\", \"MT\", \"KS\", \"OK\", \"WY\", \"GA\", \"VT\", \"LA\", \"ND\", \"IA\", \"FL\", \"MS\", \"NY\", \"KY\", \"IN\", \"AL\", \"AR\", \"CT\", \"SD\", \"MA\", \"MO\", \"RI\", \"MI\", \"CA\"], \"name\": \"\", \"z\": [9.3, 8.0, 8.3, 7.3, 6.7, 8.6, 11.3, 10.2, 8.1, 7.8, 10.5, 4.6, 9.1, 7.2, 7.0, 10.3, 6.2, 9.9, 11.3, 10.6, 8.8, 7.5, 7.6, 7.7, 7.7, 9.2, 11.2, 7.3, 6.8, 6.9, 6.4, 6.3, 9.9, 6.6, 6.8, 4.1, 6.4, 10.4, 9.5, 8.3, 10.3, 10.3, 11.0, 7.8, 7.9, 4.9, 8.1, 9.3, 11.0, 13.7, 11.2], \"type\": \"choropleth\"}], \"name\": \"2009\"}, {\"data\": [{\"coloraxis\": \"coloraxis\", \"geo\": \"geo\", \"hovertemplate\": \"Year=2010<br>StateCode=%{location}<br>Unemployment Rate (%)=%{z}<extra></extra>\", \"locationmode\": \"USA-states\", \"locations\": [\"DC\", \"PA\", \"DE\", \"UT\", \"VA\", \"WI\", \"NV\", \"IL\", \"ME\", \"MN\", \"TN\", \"NE\", \"NJ\", \"HI\", \"MD\", \"OH\", \"NH\", \"AZ\", \"OR\", \"NC\", \"ID\", \"NM\", \"TX\", \"WV\", \"AK\", \"WA\", \"SC\", \"CO\", \"MT\", \"KS\", \"OK\", \"WY\", \"GA\", \"VT\", \"LA\", \"ND\", \"IA\", \"FL\", \"MS\", \"NY\", \"KY\", \"IN\", \"AL\", \"AR\", \"CT\", \"SD\", \"MA\", \"MO\", \"RI\", \"MI\", \"CA\"], \"name\": \"\", \"z\": [9.4, 8.5, 8.4, 7.8, 7.1, 8.7, 13.5, 10.4, 8.1, 7.4, 9.7, 4.6, 9.5, 6.9, 7.7, 10.3, 5.8, 10.4, 10.6, 10.9, 9.0, 8.1, 8.1, 8.7, 7.9, 10.0, 11.2, 8.7, 7.3, 7.1, 6.8, 6.4, 10.5, 6.1, 8.0, 3.8, 6.0, 11.1, 10.4, 8.6, 10.2, 10.4, 10.5, 8.2, 9.1, 5.0, 8.3, 9.6, 11.2, 12.6, 12.2], \"type\": \"choropleth\"}], \"name\": \"2010\"}, {\"data\": [{\"coloraxis\": \"coloraxis\", \"geo\": \"geo\", \"hovertemplate\": \"Year=2011<br>StateCode=%{location}<br>Unemployment Rate (%)=%{z}<extra></extra>\", \"locationmode\": \"USA-states\", \"locations\": [\"DC\", \"PA\", \"DE\", \"UT\", \"VA\", \"WI\", \"NV\", \"IL\", \"ME\", \"MN\", \"TN\", \"NE\", \"NJ\", \"HI\", \"MD\", \"OH\", \"NH\", \"AZ\", \"OR\", \"NC\", \"ID\", \"NM\", \"TX\", \"WV\", \"AK\", \"WA\", \"SC\", \"CO\", \"MT\", \"KS\", \"OK\", \"WY\", \"GA\", \"VT\", \"LA\", \"ND\", \"IA\", \"FL\", \"MS\", \"NY\", \"KY\", \"IN\", \"AL\", \"AR\", \"CT\", \"SD\", \"MA\", \"MO\", \"RI\", \"MI\", \"CA\"], \"name\": \"\", \"z\": [10.2, 7.9, 7.5, 6.7, 6.6, 7.8, 13.0, 9.7, 7.9, 6.5, 9.0, 4.4, 9.3, 6.8, 7.2, 8.8, 5.4, 9.5, 9.5, 10.3, 8.3, 7.5, 7.8, 8.1, 7.6, 9.3, 10.6, 8.4, 6.9, 6.5, 5.9, 5.8, 10.2, 5.5, 7.8, 3.5, 5.5, 10.0, 10.0, 8.3, 9.4, 9.1, 9.6, 8.3, 8.8, 4.7, 7.3, 8.5, 11.0, 10.4, 11.7], \"type\": \"choropleth\"}], \"name\": \"2011\"}, {\"data\": [{\"coloraxis\": \"coloraxis\", \"geo\": \"geo\", \"hovertemplate\": \"Year=2012<br>StateCode=%{location}<br>Unemployment Rate (%)=%{z}<extra></extra>\", \"locationmode\": \"USA-states\", \"locations\": [\"DC\", \"PA\", \"DE\", \"UT\", \"VA\", \"WI\", \"NV\", \"IL\", \"ME\", \"MN\", \"TN\", \"NE\", \"NJ\", \"HI\", \"MD\", \"OH\", \"NH\", \"AZ\", \"OR\", \"NC\", \"ID\", \"NM\", \"TX\", \"WV\", \"AK\", \"WA\", \"SC\", \"CO\", \"MT\", \"KS\", \"OK\", \"WY\", \"GA\", \"VT\", \"LA\", \"ND\", \"IA\", \"FL\", \"MS\", \"NY\", \"KY\", \"IN\", \"AL\", \"AR\", \"CT\", \"SD\", \"MA\", \"MO\", \"RI\", \"MI\", \"CA\"], \"name\": \"\", \"z\": [9.0, 7.8, 7.2, 5.4, 6.1, 7.0, 11.2, 9.0, 7.5, 5.6, 7.8, 4.0, 9.3, 6.0, 7.0, 7.4, 5.5, 8.3, 8.8, 9.3, 7.2, 7.1, 6.7, 7.5, 7.1, 8.1, 9.2, 7.9, 6.0, 5.7, 5.2, 5.3, 9.2, 5.0, 7.1, 3.1, 5.0, 8.5, 9.0, 8.5, 8.2, 8.3, 8.0, 7.6, 8.3, 4.3, 6.7, 6.9, 10.4, 9.1, 10.4], \"type\": \"choropleth\"}], \"name\": \"2012\"}, {\"data\": [{\"coloraxis\": \"coloraxis\", \"geo\": \"geo\", \"hovertemplate\": \"Year=2013<br>StateCode=%{location}<br>Unemployment Rate (%)=%{z}<extra></extra>\", \"locationmode\": \"USA-states\", \"locations\": [\"DC\", \"PA\", \"DE\", \"UT\", \"VA\", \"WI\", \"NV\", \"IL\", \"ME\", \"MN\", \"TN\", \"NE\", \"NJ\", \"HI\", \"MD\", \"OH\", \"NH\", \"AZ\", \"OR\", \"NC\", \"ID\", \"NM\", \"TX\", \"WV\", \"AK\", \"WA\", \"SC\", \"CO\", \"MT\", \"KS\", \"OK\", \"WY\", \"GA\", \"VT\", \"LA\", \"ND\", \"IA\", \"FL\", \"MS\", \"NY\", \"KY\", \"IN\", \"AL\", \"AR\", \"CT\", \"SD\", \"MA\", \"MO\", \"RI\", \"MI\", \"CA\"], \"name\": \"\", \"z\": [8.5, 7.4, 6.7, 4.6, 5.7, 6.7, 9.6, 9.0, 6.6, 5.0, 7.8, 3.8, 8.2, 4.9, 6.6, 7.5, 5.1, 7.7, 7.9, 8.0, 6.1, 6.9, 6.3, 6.8, 7.0, 7.0, 7.6, 6.9, 5.4, 5.3, 5.3, 4.7, 8.2, 4.4, 6.7, 2.9, 4.7, 7.2, 8.5, 7.7, 8.0, 7.7, 7.2, 7.2, 7.8, 3.8, 6.7, 6.7, 9.3, 8.8, 8.9], \"type\": \"choropleth\"}], \"name\": \"2013\"}, {\"data\": [{\"coloraxis\": \"coloraxis\", \"geo\": \"geo\", \"hovertemplate\": \"Year=2014<br>StateCode=%{location}<br>Unemployment Rate (%)=%{z}<extra></extra>\", \"locationmode\": \"USA-states\", \"locations\": [\"DC\", \"PA\", \"DE\", \"UT\", \"VA\", \"WI\", \"NV\", \"IL\", \"ME\", \"MN\", \"TN\", \"NE\", \"NJ\", \"HI\", \"MD\", \"OH\", \"NH\", \"AZ\", \"OR\", \"NC\", \"ID\", \"NM\", \"TX\", \"WV\", \"AK\", \"WA\", \"SC\", \"CO\", \"MT\", \"KS\", \"OK\", \"WY\", \"GA\", \"VT\", \"LA\", \"ND\", \"IA\", \"FL\", \"MS\", \"NY\", \"KY\", \"IN\", \"AL\", \"AR\", \"CT\", \"SD\", \"MA\", \"MO\", \"RI\", \"MI\", \"CA\"], \"name\": \"\", \"z\": [7.8, 5.9, 5.7, 3.8, 5.2, 5.4, 7.9, 7.1, 5.6, 4.2, 6.6, 3.3, 6.8, 4.4, 5.8, 5.8, 4.3, 6.8, 6.8, 6.3, 4.8, 6.7, 5.1, 6.6, 6.9, 6.1, 6.5, 5.0, 4.7, 4.5, 4.5, 4.1, 7.1, 3.9, 6.4, 2.7, 4.2, 6.3, 7.5, 6.3, 6.5, 6.0, 6.8, 6.0, 6.6, 3.4, 5.7, 6.1, 7.7, 7.2, 7.5], \"type\": \"choropleth\"}], \"name\": \"2014\"}, {\"data\": [{\"coloraxis\": \"coloraxis\", \"geo\": \"geo\", \"hovertemplate\": \"Year=2015<br>StateCode=%{location}<br>Unemployment Rate (%)=%{z}<extra></extra>\", \"locationmode\": \"USA-states\", \"locations\": [\"DC\", \"PA\", \"DE\", \"UT\", \"VA\", \"WI\", \"NV\", \"IL\", \"ME\", \"MN\", \"TN\", \"NE\", \"NJ\", \"HI\", \"MD\", \"OH\", \"NH\", \"AZ\", \"OR\", \"NC\", \"ID\", \"NM\", \"TX\", \"WV\", \"AK\", \"WA\", \"SC\", \"CO\", \"MT\", \"KS\", \"OK\", \"WY\", \"GA\", \"VT\", \"LA\", \"ND\", \"IA\", \"FL\", \"MS\", \"NY\", \"KY\", \"IN\", \"AL\", \"AR\", \"CT\", \"SD\", \"MA\", \"MO\", \"RI\", \"MI\", \"CA\"], \"name\": \"\", \"z\": [6.9, 5.3, 4.9, 3.6, 4.5, 4.5, 6.7, 6.0, 4.4, 3.7, 5.6, 3.0, 5.8, 3.6, 5.1, 4.9, 3.4, 6.1, 5.6, 5.7, 4.1, 6.5, 4.4, 6.7, 6.5, 5.6, 6.0, 3.9, 4.2, 4.2, 4.4, 4.3, 6.0, 3.6, 6.3, 2.8, 3.8, 5.5, 6.4, 5.3, 5.3, 4.8, 6.1, 5.0, 5.7, 3.1, 4.8, 5.0, 6.0, 5.4, 6.2], \"type\": \"choropleth\"}], \"name\": \"2015\"}, {\"data\": [{\"coloraxis\": \"coloraxis\", \"geo\": \"geo\", \"hovertemplate\": \"Year=2016<br>StateCode=%{location}<br>Unemployment Rate (%)=%{z}<extra></extra>\", \"locationmode\": \"USA-states\", \"locations\": [\"DC\", \"PA\", \"DE\", \"UT\", \"VA\", \"WI\", \"NV\", \"IL\", \"ME\", \"MN\", \"TN\", \"NE\", \"NJ\", \"HI\", \"MD\", \"OH\", \"NH\", \"AZ\", \"OR\", \"NC\", \"ID\", \"NM\", \"TX\", \"WV\", \"AK\", \"WA\", \"SC\", \"CO\", \"MT\", \"KS\", \"OK\", \"WY\", \"GA\", \"VT\", \"LA\", \"ND\", \"IA\", \"FL\", \"MS\", \"NY\", \"KY\", \"IN\", \"AL\", \"AR\", \"CT\", \"SD\", \"MA\", \"MO\", \"RI\", \"MI\", \"CA\"], \"name\": \"\", \"z\": [6.1, 5.4, 4.5, 3.4, 4.1, 4.0, 5.7, 5.8, 3.8, 3.9, 4.7, 3.1, 5.0, 3.0, 4.5, 5.0, 2.9, 5.4, 4.8, 5.1, 3.8, 6.6, 4.6, 6.1, 6.9, 5.3, 5.0, 3.3, 4.1, 4.0, 4.8, 5.3, 5.4, 3.2, 6.1, 3.1, 3.6, 4.8, 5.8, 4.9, 5.1, 4.4, 5.8, 4.0, 5.1, 3.0, 3.9, 4.6, 5.2, 5.0, 5.5], \"type\": \"choropleth\"}], \"name\": \"2016\"}, {\"data\": [{\"coloraxis\": \"coloraxis\", \"geo\": \"geo\", \"hovertemplate\": \"Year=2017<br>StateCode=%{location}<br>Unemployment Rate (%)=%{z}<extra></extra>\", \"locationmode\": \"USA-states\", \"locations\": [\"DC\", \"PA\", \"DE\", \"UT\", \"VA\", \"WI\", \"NV\", \"IL\", \"ME\", \"MN\", \"TN\", \"NE\", \"NJ\", \"HI\", \"MD\", \"OH\", \"NH\", \"AZ\", \"OR\", \"NC\", \"ID\", \"NM\", \"TX\", \"WV\", \"AK\", \"WA\", \"SC\", \"CO\", \"MT\", \"KS\", \"OK\", \"WY\", \"GA\", \"VT\", \"LA\", \"ND\", \"IA\", \"FL\", \"MS\", \"NY\", \"KY\", \"IN\", \"AL\", \"AR\", \"CT\", \"SD\", \"MA\", \"MO\", \"RI\", \"MI\", \"CA\"], \"name\": \"\", \"z\": [6.1, 4.9, 4.5, 3.3, 3.7, 3.3, 5.0, 4.9, 3.4, 3.4, 3.8, 2.9, 4.6, 2.4, 4.2, 5.0, 2.7, 4.9, 4.1, 4.5, 3.2, 5.9, 4.3, 5.2, 6.9, 4.7, 4.3, 2.8, 3.9, 3.6, 4.2, 4.2, 4.7, 2.9, 5.1, 2.7, 3.1, 4.2, 5.1, 4.7, 4.9, 3.6, 4.4, 3.7, 4.7, 3.2, 3.7, 3.7, 4.4, 4.6, 4.8], \"type\": \"choropleth\"}], \"name\": \"2017\"}, {\"data\": [{\"coloraxis\": \"coloraxis\", \"geo\": \"geo\", \"hovertemplate\": \"Year=2018<br>StateCode=%{location}<br>Unemployment Rate (%)=%{z}<extra></extra>\", \"locationmode\": \"USA-states\", \"locations\": [\"DC\", \"PA\", \"DE\", \"UT\", \"VA\", \"WI\", \"NV\", \"IL\", \"ME\", \"MN\", \"TN\", \"NE\", \"NJ\", \"HI\", \"MD\", \"OH\", \"NH\", \"AZ\", \"OR\", \"NC\", \"ID\", \"NM\", \"TX\", \"WV\", \"AK\", \"WA\", \"SC\", \"CO\", \"MT\", \"KS\", \"OK\", \"WY\", \"GA\", \"VT\", \"LA\", \"ND\", \"IA\", \"FL\", \"MS\", \"NY\", \"KY\", \"IN\", \"AL\", \"AR\", \"CT\", \"SD\", \"MA\", \"MO\", \"RI\", \"MI\", \"CA\"], \"name\": \"\", \"z\": [5.7, 4.2, 3.8, 3.0, 3.0, 3.0, 4.4, 4.3, 3.2, 2.9, 3.5, 2.9, 4.1, 2.5, 3.9, 4.5, 2.6, 4.7, 4.1, 4.0, 2.9, 4.9, 3.8, 5.2, 6.5, 4.5, 3.5, 3.2, 3.6, 3.3, 3.4, 3.9, 3.9, 2.5, 4.9, 2.6, 2.6, 3.6, 4.8, 4.1, 4.3, 3.5, 3.9, 3.6, 4.1, 3.1, 3.4, 3.2, 4.0, 4.1, 4.3], \"type\": \"choropleth\"}], \"name\": \"2018\"}, {\"data\": [{\"coloraxis\": \"coloraxis\", \"geo\": \"geo\", \"hovertemplate\": \"Year=2019<br>StateCode=%{location}<br>Unemployment Rate (%)=%{z}<extra></extra>\", \"locationmode\": \"USA-states\", \"locations\": [\"DC\", \"PA\", \"DE\", \"UT\", \"VA\", \"WI\", \"NV\", \"IL\", \"ME\", \"MN\", \"TN\", \"NE\", \"NJ\", \"HI\", \"MD\", \"OH\", \"NH\", \"AZ\", \"OR\", \"NC\", \"ID\", \"NM\", \"TX\", \"WV\", \"AK\", \"WA\", \"SC\", \"CO\", \"MT\", \"KS\", \"OK\", \"WY\", \"GA\", \"VT\", \"LA\", \"ND\", \"IA\", \"FL\", \"MS\", \"NY\", \"KY\", \"IN\", \"AL\", \"AR\", \"CT\", \"SD\", \"MA\", \"MO\", \"RI\", \"MI\", \"CA\"], \"name\": \"\", \"z\": [5.5, 4.4, 3.8, 2.6, 2.8, 3.3, 3.9, 4.0, 3.0, 3.2, 3.4, 3.0, 3.6, 2.7, 3.6, 4.1, 2.5, 4.7, 3.7, 3.9, 2.9, 4.9, 3.5, 4.9, 6.1, 4.3, 2.8, 2.8, 3.5, 3.2, 3.3, 3.6, 3.4, 2.4, 4.8, 2.4, 2.7, 3.1, 5.4, 4.0, 4.3, 3.3, 3.0, 3.5, 3.7, 3.3, 2.9, 3.3, 3.6, 4.1, 4.0], \"type\": \"choropleth\"}], \"name\": \"2019\"}]);\n",
       "                        }).then(function(){\n",
       "                            \n",
       "var gd = document.getElementById('c082dbe7-3516-4c12-b434-b9078e425319');\n",
       "var x = new MutationObserver(function (mutations, observer) {{\n",
       "        var display = window.getComputedStyle(gd).display;\n",
       "        if (!display || display === 'none') {{\n",
       "            console.log([gd, 'removed!']);\n",
       "            Plotly.purge(gd);\n",
       "            observer.disconnect();\n",
       "        }}\n",
       "}});\n",
       "\n",
       "// Listen for the removal of the full notebook cells\n",
       "var notebookContainer = gd.closest('#notebook-container');\n",
       "if (notebookContainer) {{\n",
       "    x.observe(notebookContainer, {childList: true});\n",
       "}}\n",
       "\n",
       "// Listen for the clearing of the current output cell\n",
       "var outputEl = gd.closest('.output');\n",
       "if (outputEl) {{\n",
       "    x.observe(outputEl, {childList: true});\n",
       "}}\n",
       "\n",
       "                        })\n",
       "                };\n",
       "                });\n",
       "            </script>\n",
       "        </div>"
      ]
     },
     "metadata": {},
     "output_type": "display_data"
    }
   ],
   "source": [
    "import plotly.express as px\n",
    "\n",
    "def generate_choro_fig(unemployment_df):\n",
    "    fig = px.choropleth(unemployment_df, locations='StateCode', locationmode='USA-states', color='Annual', range_color=[2,18], animation_frame='Year', projection='albers usa', labels={'Annual':'Unemployment Rate (%)'})\n",
    "    return fig\n",
    "generate_choro_fig(sta_unem_df_no_2020)"
   ]
  },
  {
   "cell_type": "code",
   "execution_count": 15,
   "metadata": {},
   "outputs": [
    {
     "data": {
      "text/html": [
       "\n",
       "        <iframe\n",
       "            width=\"100%\"\n",
       "            height=\"650\"\n",
       "            src=\"http://127.0.0.1:8050/\"\n",
       "            frameborder=\"0\"\n",
       "            allowfullscreen\n",
       "        ></iframe>\n",
       "        "
      ],
      "text/plain": [
       "<IPython.lib.display.IFrame at 0x11b859160>"
      ]
     },
     "metadata": {},
     "output_type": "display_data"
    }
   ],
   "source": [
    "from jupyter_dash import JupyterDash\n",
    "import dash_core_components as dcc\n",
    "import dash_html_components as html\n",
    "\n",
    "fig = generate_choro_fig(sta_unem_df_no_2020)\n",
    "\n",
    "external_stylesheets = ['https://codepen.io/chriddyp/pen/bWLwgP.css']\n",
    "\n",
    "app = JupyterDash(__name__, external_stylesheets=external_stylesheets)\n",
    "\n",
    "app.layout = html.Div(children=[\n",
    "    html.H1(children=\"Unemployment In The United States\"),\n",
    "    html.Div(children='''Unemployment Rate (%) Of Each State From 1976 To 2019'''),\n",
    "    dcc.Graph(\n",
    "        id='Unemployment By State Choropleth',\n",
    "        figure=fig\n",
    "    )\n",
    "])\n",
    "\n",
    "if __name__ == '__main__':\n",
    "    app.run_server(mode='inline')"
   ]
  },
  {
   "cell_type": "code",
   "execution_count": null,
   "metadata": {},
   "outputs": [],
   "source": []
  }
 ],
 "metadata": {
  "kernelspec": {
   "display_name": "Python 3",
   "language": "python",
   "name": "python3"
  },
  "language_info": {
   "codemirror_mode": {
    "name": "ipython",
    "version": 3
   },
   "file_extension": ".py",
   "mimetype": "text/x-python",
   "name": "python",
   "nbconvert_exporter": "python",
   "pygments_lexer": "ipython3",
   "version": "3.8.4"
  }
 },
 "nbformat": 4,
 "nbformat_minor": 4
}
